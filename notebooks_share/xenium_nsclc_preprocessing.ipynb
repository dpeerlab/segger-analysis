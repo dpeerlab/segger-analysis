{
 "cells": [
  {
   "cell_type": "markdown",
   "id": "a8e6fc05-42e9-44f6-9647-b1ff7a57dacd",
   "metadata": {},
   "source": [
    "# Cell Typing of Segmented Xenium Data for NSCLC"
   ]
  },
  {
   "cell_type": "code",
   "execution_count": 1,
   "id": "29e65e1c-7052-471c-9002-7745b6bbfa71",
   "metadata": {
    "execution": {
     "iopub.execute_input": "2025-03-07T19:40:41.099353Z",
     "iopub.status.busy": "2025-03-07T19:40:41.098947Z",
     "iopub.status.idle": "2025-03-07T19:40:41.128817Z",
     "shell.execute_reply": "2025-03-07T19:40:41.128440Z",
     "shell.execute_reply.started": "2025-03-07T19:40:41.099336Z"
    }
   },
   "outputs": [],
   "source": [
    "%load_ext autoreload\n",
    "%autoreload 2"
   ]
  },
  {
   "cell_type": "code",
   "execution_count": 3,
   "id": "2effdc3a-5867-45ab-93d2-f3613077847c",
   "metadata": {
    "execution": {
     "iopub.execute_input": "2025-03-07T19:40:57.013723Z",
     "iopub.status.busy": "2025-03-07T19:40:57.013476Z",
     "iopub.status.idle": "2025-03-07T19:42:22.687000Z",
     "shell.execute_reply": "2025-03-07T19:42:22.686541Z",
     "shell.execute_reply.started": "2025-03-07T19:40:57.013707Z"
    }
   },
   "outputs": [],
   "source": [
    "from requirements import *\n",
    "from segger.data.parquet._utils import (\n",
    "    filter_transcripts,\n",
    "    load_settings,\n",
    ")\n",
    "from sg_utils.tl.phenograph_rapids import phenograph_rapids\n",
    "from sg_utils.tl.xenium_utils import anndata_from_transcripts\n",
    "from sg_utils.pp.preprocess_rapids import *\n",
    "from sg_utils.pl.plot_embedding import plot_embedding\n",
    "from sg_utils.tl.get_group_markers import *\n",
    "from sg_utils.pl.plot_group_markers import plot_group_markers\n",
    "import celltypist as ct\n",
    "import gc"
   ]
  },
  {
   "cell_type": "code",
   "execution_count": 7,
   "id": "5895baa6-c98f-4e90-a510-ec6da7f9dd95",
   "metadata": {
    "execution": {
     "iopub.execute_input": "2025-03-07T19:44:59.170732Z",
     "iopub.status.busy": "2025-03-07T19:44:59.170270Z",
     "iopub.status.idle": "2025-03-07T19:44:59.886492Z",
     "shell.execute_reply": "2025-03-07T19:44:59.886065Z",
     "shell.execute_reply.started": "2025-03-07T19:44:59.170715Z"
    }
   },
   "outputs": [],
   "source": [
    "dataset = 'xenium_nsclc'"
   ]
  },
  {
   "cell_type": "markdown",
   "id": "71f54161-cad0-4a5b-8a54-5bc305cce54f",
   "metadata": {},
   "source": [
    "## Build Cell Typist Model"
   ]
  },
  {
   "cell_type": "code",
   "execution_count": 8,
   "id": "68b3d23d-1421-488d-963a-93992a770af8",
   "metadata": {
    "execution": {
     "iopub.execute_input": "2025-03-07T19:45:00.085197Z",
     "iopub.status.busy": "2025-03-07T19:45:00.084771Z",
     "iopub.status.idle": "2025-03-07T19:45:56.255368Z",
     "shell.execute_reply": "2025-03-07T19:45:56.254783Z",
     "shell.execute_reply.started": "2025-03-07T19:45:00.085180Z"
    }
   },
   "outputs": [],
   "source": [
    "# NSCLC Atlas\n",
    "filepath = 'h5ads/core_nsclc_atlas_panel_only.h5ad'\n",
    "ad_atlas = sc.read_h5ad(data_dir / dataset / filepath)\n",
    "\n",
    "# Re-normalize counts to 10K total\n",
    "ad_atlas.X = ad_atlas.layers['count'].copy()\n",
    "sc.pp.downsample_counts(ad_atlas, counts_per_cell=100)\n",
    "ad_atlas.layers['norm_100'] = ad_atlas.X.copy()\n",
    "sc.pp.normalize_total(ad_atlas, layer='norm_100', target_sum=1e2)\n",
    "\n",
    "# Logarthmize\n",
    "ad_atlas.layers['lognorm_100'] = ad_atlas.layers['norm_100'].copy()\n",
    "if 'log1p' in ad_atlas.uns:\n",
    "    del ad_atlas.uns['log1p']\n",
    "sc.pp.log1p(ad_atlas, layer='lognorm_100')"
   ]
  },
  {
   "cell_type": "code",
   "execution_count": 163,
   "id": "0529e733-86f7-41c2-a860-42e51e3c3a6e",
   "metadata": {
    "execution": {
     "iopub.execute_input": "2024-11-08T01:31:56.182414Z",
     "iopub.status.busy": "2024-11-08T01:31:56.181923Z",
     "iopub.status.idle": "2024-11-08T01:32:14.397103Z",
     "shell.execute_reply": "2024-11-08T01:32:14.396500Z",
     "shell.execute_reply.started": "2024-11-08T01:31:56.182396Z"
    }
   },
   "outputs": [],
   "source": [
    "# Subsample using more granular cell types (to not lose any one cell type)\n",
    "# But transfer labels using the compartment labels\n",
    "gb = ad_atlas.obs.groupby('cell_type')\n",
    "sample = gb.sample(2000, replace=True).index.drop_duplicates()\n",
    "\n",
    "# Predict on log counts\n",
    "ad_atlas.X = ad_atlas.layers['lognorm_1k']\n",
    "with HiddenPrints():\n",
    "    ct_model = ct.train(\n",
    "        ad_atlas[sample],\n",
    "        labels='cell_compartment',\n",
    "        check_expression=False,\n",
    "        n_jobs=32,\n",
    "        max_iter=100,\n",
    "    )\n",
    "\n",
    "filepath = 'celltypist/nsclc_celltypist_model.pkl'\n",
    "ct_model.write(data_dir / dataset / filepath)"
   ]
  },
  {
   "cell_type": "markdown",
   "id": "dc2f3056-f943-42c5-a9fb-9cd06812db2c",
   "metadata": {},
   "source": [
    "## Transcripts to AnnData"
   ]
  },
  {
   "cell_type": "code",
   "execution_count": 4,
   "id": "62d3789c-6696-4761-a561-a1e2d07e486e",
   "metadata": {
    "execution": {
     "iopub.execute_input": "2025-03-07T19:43:31.142547Z",
     "iopub.status.busy": "2025-03-07T19:43:31.141147Z",
     "iopub.status.idle": "2025-03-07T19:43:32.514480Z",
     "shell.execute_reply": "2025-03-07T19:43:32.514049Z",
     "shell.execute_reply.started": "2025-03-07T19:43:31.142520Z"
    }
   },
   "outputs": [],
   "source": [
    "# Segmentation columns to compare\n",
    "segmentations = {\n",
    "    'segger_cell_id_HDE46PBXJB': 'Segger',\n",
    "    'baysor_cell_id_c=0.5': 'Baysor, c=0.5',\n",
    "    '10x_cell_id': '10X',\n",
    "    'cellpose_cell_id': 'CellPose',\n",
    "    '10x_nucleus_id': '10X Nucleus',\n",
    "    'baysor_cell_id_c=0.7': 'Baysor, c=0.7',\n",
    "    'baysor_cell_id_c=0.9': 'Baysor, c=0.9',\n",
    "}"
   ]
  },
  {
   "cell_type": "code",
   "execution_count": 11,
   "id": "d1e5131d-01a1-4ef9-95cb-8c245cf5ba57",
   "metadata": {
    "execution": {
     "iopub.execute_input": "2025-03-07T19:48:07.654653Z",
     "iopub.status.busy": "2025-03-07T19:48:07.654284Z",
     "iopub.status.idle": "2025-03-07T19:49:07.106571Z",
     "shell.execute_reply": "2025-03-07T19:49:07.105924Z",
     "shell.execute_reply.started": "2025-03-07T19:48:07.654636Z"
    },
    "scrolled": true
   },
   "outputs": [],
   "source": [
    "# Read in all transcripts\n",
    "filepath = 'labeled_transcripts.parquet'\n",
    "transcripts = pd.read_parquet(data_dir / dataset / filepath)\n",
    "\n",
    "# Filter control probes and low QV probes\n",
    "xe_settings = load_settings('xenium')\n",
    "\n",
    "transcripts = filter_transcripts(\n",
    "    transcripts,\n",
    "    label=xe_settings.transcripts.label,\n",
    "    filter_substrings=xe_settings.transcripts.filter_substrings,\n",
    "    min_qv=30,\n",
    ")"
   ]
  },
  {
   "cell_type": "code",
   "execution_count": 6,
   "id": "96ff51da-e670-4463-869c-660abde19709",
   "metadata": {
    "execution": {
     "iopub.execute_input": "2024-11-08T20:54:40.112966Z",
     "iopub.status.busy": "2024-11-08T20:54:40.112720Z",
     "iopub.status.idle": "2024-11-08T20:58:05.305550Z",
     "shell.execute_reply": "2024-11-08T20:58:05.305079Z",
     "shell.execute_reply.started": "2024-11-08T20:54:40.112949Z"
    }
   },
   "outputs": [
    {
     "name": "stderr",
     "output_type": "stream",
     "text": [
      "Done: 100%|██████████| 6/6 [02:59<00:00, 29.85s/it]         \n"
     ]
    }
   ],
   "source": [
    "# Convert to AnnData and preprocess\n",
    "for seg_col in segmentations.keys():\n",
    "\n",
    "    # Subset Segger data to high-confidence transcripts\n",
    "    mask = np.full(transcripts.shape[0], True)\n",
    "    if 'segger' in seg_col:\n",
    "        score_col = seg_col.replace('cell_id', 'score')\n",
    "        mask &= transcripts[score_col].gt(0.75)\n",
    "    \n",
    "    # Transcripts to anndata\n",
    "    ad = anndata_from_transcripts(\n",
    "        transcripts[mask],\n",
    "        cell_label=seg_col,\n",
    "        gene_label='feature_name',\n",
    "        \n",
    "    )\n",
    "\n",
    "    # Add raw counts before filtering\n",
    "    ad.uns['raw_counts'] = dict(\n",
    "        index=ad.obs.index.tolist(),\n",
    "        count=ad.raw.X.A.sum(1),\n",
    "    )\n",
    "    \n",
    "    # Preprocess\n",
    "    threshold = 5 #np.quantile(ad.uns['raw_counts']['count'], 0.05)\n",
    "    preprocess_rapids(\n",
    "        ad,\n",
    "        filter_min_counts=threshold,\n",
    "        pca_total_var=0.75,\n",
    "        umap_min_dist=0.25,\n",
    "        umap_n_epochs=4000,\n",
    "        pca_layer='lognorm',\n",
    "        knn_neighbors=20,\n",
    "        phenograph_resolution=1,\n",
    "    )\n",
    "\n",
    "    # Save to file\n",
    "    ad.write_h5ad(data_dir / f'h5ads/{seg_col}.h5ad')"
   ]
  },
  {
   "cell_type": "markdown",
   "id": "2932455a-de5f-4158-a481-b6b055f5c05b",
   "metadata": {},
   "source": [
    "## Cell Type with CellTypist"
   ]
  },
  {
   "cell_type": "code",
   "execution_count": 7,
   "id": "47305b4c-768f-4e72-80bc-85cb51edf378",
   "metadata": {
    "execution": {
     "iopub.execute_input": "2024-11-08T20:58:05.306848Z",
     "iopub.status.busy": "2024-11-08T20:58:05.306512Z",
     "iopub.status.idle": "2024-11-08T20:58:32.629462Z",
     "shell.execute_reply": "2024-11-08T20:58:32.629010Z",
     "shell.execute_reply.started": "2024-11-08T20:58:05.306830Z"
    }
   },
   "outputs": [
    {
     "name": "stderr",
     "output_type": "stream",
     "text": [
      "100%|██████████| 1/1 [00:25<00:00, 25.86s/it]\n"
     ]
    }
   ],
   "source": [
    "ct_model = ct.Model.load(str(data_dir / 'nsclc_celltypist_model.pkl'))\n",
    "\n",
    "# Cell type each segmentation\n",
    "for seg_col in tqdm(segmentations.keys()):\n",
    "    \n",
    "    # Read in AnnData\n",
    "    filepath = data_dir / f'h5ads/{seg_col}.h5ad'\n",
    "    ad = sc.read_h5ad(filepath)\n",
    "    \n",
    "    # Re-normalize consistent with CellTypist model\n",
    "    ad.layers['norm_1k'] = ad.raw.X.copy()\n",
    "    sc.pp.normalize_total(ad, layer='norm_1k', target_sum=1e2)\n",
    "    ad.layers['lognorm_1k'] = ad.layers['norm_1k'].copy()\n",
    "    if 'log1p' in ad.uns: del ad.uns['log1p']\n",
    "    sc.pp.log1p(ad, layer='lognorm_1k')\n",
    "\n",
    "    phenograph_rapids(ad, min_size=1, resolution=1)\n",
    "    \n",
    "    # Cell type\n",
    "    with HiddenPrints():\n",
    "        ad.X = ad.layers['lognorm_1k']\n",
    "        preds = ct.annotate(\n",
    "            ad, model=ct_model, majority_voting=True,\n",
    "            over_clustering='phenograph_cluster',\n",
    "            min_prop=0.5,\n",
    "        )\n",
    "\n",
    "    # Label AnnData\n",
    "    ad.obs['celltypist_label'] = preds.predicted_labels['predicted_labels']\n",
    "    ad.obs['celltypist_label_cluster'] = preds.predicted_labels['majority_voting']\n",
    "    ad.obs['celltypist_probability'] = preds.probability_matrix.max(1)\n",
    "    for col in preds.probability_matrix.columns:\n",
    "        ad.obs[f'{col} Probability'] = preds.probability_matrix[col]\n",
    "    entropy = sp.stats.entropy(preds.probability_matrix, axis=1)\n",
    "    ad.obs['celltypist_entropy'] = entropy\n",
    "\n",
    "    # Cleanup\n",
    "    del ad.layers['lognorm_1k'], ad.layers['norm_1k']\n",
    "\n",
    "    ad.write_h5ad(filepath)"
   ]
  }
 ],
 "metadata": {
  "kernelspec": {
   "display_name": "Python 3 (ipykernel)",
   "language": "python",
   "name": "python3"
  },
  "language_info": {
   "codemirror_mode": {
    "name": "ipython",
    "version": 3
   },
   "file_extension": ".py",
   "mimetype": "text/x-python",
   "name": "python",
   "nbconvert_exporter": "python",
   "pygments_lexer": "ipython3",
   "version": "3.11.9"
  }
 },
 "nbformat": 4,
 "nbformat_minor": 5
}
