{
 "cells": [
  {
   "cell_type": "markdown",
   "id": "1155901d-a27f-4b5d-8f35-89c8edcea8d2",
   "metadata": {},
   "source": [
    "# Comparison of 10X Nucleus vs. Segger Monocyte Capture"
   ]
  },
  {
   "cell_type": "code",
   "execution_count": 1,
   "id": "6b1b56ec-27ef-48d7-a12f-887e5ec284f7",
   "metadata": {
    "execution": {
     "iopub.execute_input": "2025-01-29T02:03:11.871520Z",
     "iopub.status.busy": "2025-01-29T02:03:11.871304Z",
     "iopub.status.idle": "2025-01-29T02:03:11.939383Z",
     "shell.execute_reply": "2025-01-29T02:03:11.939022Z",
     "shell.execute_reply.started": "2025-01-29T02:03:11.871506Z"
    }
   },
   "outputs": [],
   "source": [
    "%load_ext autoreload\n",
    "%autoreload 2"
   ]
  },
  {
   "cell_type": "code",
   "execution_count": 2,
   "id": "28ff20f2-f615-48cc-a06e-43caa28a1246",
   "metadata": {
    "execution": {
     "iopub.execute_input": "2025-01-29T02:03:11.940073Z",
     "iopub.status.busy": "2025-01-29T02:03:11.939931Z",
     "iopub.status.idle": "2025-01-29T02:04:31.770252Z",
     "shell.execute_reply": "2025-01-29T02:04:31.769791Z",
     "shell.execute_reply.started": "2025-01-29T02:03:11.940059Z"
    }
   },
   "outputs": [],
   "source": [
    "from requirements import *\n",
    "from segger.data.parquet._utils import (\n",
    "    read_parquet_region,\n",
    "    filter_transcripts,\n",
    "    load_settings,\n",
    ")\n",
    "from sg_utils.tl.xenium_utils import anndata_from_transcripts\n",
    "from sg_utils.pp.preprocess_rapids import *\n",
    "from sg_utils.pl.plot_embedding import plot_embedding\n",
    "from sg_utils.pl.utils import lighten_color, get_color_palette\n",
    "import celltypist as ct\n",
    "import ast"
   ]
  },
  {
   "cell_type": "code",
   "execution_count": 3,
   "id": "504b070f-5946-4fb9-9c81-807eb44bedc8",
   "metadata": {
    "execution": {
     "iopub.execute_input": "2025-01-29T02:04:31.771782Z",
     "iopub.status.busy": "2025-01-29T02:04:31.770907Z",
     "iopub.status.idle": "2025-01-29T02:04:33.317216Z",
     "shell.execute_reply": "2025-01-29T02:04:33.316816Z",
     "shell.execute_reply.started": "2025-01-29T02:04:31.771760Z"
    }
   },
   "outputs": [],
   "source": [
    "dataset = 'xenium_colon'"
   ]
  },
  {
   "cell_type": "markdown",
   "id": "4a1f87e9-fa98-4bfb-9374-f087d85f9aee",
   "metadata": {
    "execution": {
     "iopub.execute_input": "2025-01-25T20:05:18.739174Z",
     "iopub.status.busy": "2025-01-25T20:05:18.738916Z",
     "iopub.status.idle": "2025-01-25T20:05:19.163306Z",
     "shell.execute_reply": "2025-01-25T20:05:19.162845Z",
     "shell.execute_reply.started": "2025-01-25T20:05:18.739158Z"
    },
    "jp-MarkdownHeadingCollapsed": true
   },
   "source": [
    "## Aggregate Cell Type Markers from Literature"
   ]
  },
  {
   "cell_type": "markdown",
   "id": "988cd222-6faf-4bf2-b964-a9c50a8a6883",
   "metadata": {},
   "source": [
    "Because Xenium is limited in the number of genes in a given panel, cell type signatures from literature are sparse and often missing genes critical to the specificity of a signature. Below is a manually curated list of marker sets from three different sources, aggregated across cell types and filtered for meaningless signatures (i.e. those missing genes critical to a gene sets specificity). Cells describe the process to curate marker sets, but the final marker set is available as a supplementary table."
   ]
  },
  {
   "cell_type": "raw",
   "id": "28a2f95a-1c9d-4f6b-a457-66d6d69fc4a7",
   "metadata": {
    "execution": {
     "iopub.execute_input": "2025-01-27T22:17:15.875578Z",
     "iopub.status.busy": "2025-01-27T22:17:15.875270Z",
     "iopub.status.idle": "2025-01-27T22:17:23.131972Z",
     "shell.execute_reply": "2025-01-27T22:17:23.131480Z",
     "shell.execute_reply.started": "2025-01-27T22:17:15.875560Z"
    }
   },
   "source": [
    "name = '10x_nucleus'\n",
    "ad = sc.read_h5ad(data_dir / dataset / f'h5ads/{name}_raw.h5ad')"
   ]
  },
  {
   "cell_type": "raw",
   "id": "a3dbf349-818e-44af-a6f1-bc9a5c2bf35e",
   "metadata": {
    "execution": {
     "iopub.execute_input": "2025-01-27T22:17:23.133079Z",
     "iopub.status.busy": "2025-01-27T22:17:23.132859Z",
     "iopub.status.idle": "2025-01-27T22:17:26.861125Z",
     "shell.execute_reply": "2025-01-27T22:17:26.860648Z",
     "shell.execute_reply.started": "2025-01-27T22:17:23.133064Z"
    }
   },
   "source": [
    "# Read in 10X marker annotations\n",
    "filepath = data_dir / dataset / 'supplementary/xenium_hcolon_v1_markers.csv'\n",
    "df = pd.read_csv(filepath, usecols=[1, 2, 3])\n",
    "\n",
    "drop_types = ['colon cancer']\n",
    "df = df[~df.label.isin(drop_types)]\n",
    "\n",
    "df['source'] = '10X Genomics'\n",
    "df_10xg = df"
   ]
  },
  {
   "cell_type": "raw",
   "id": "8c6db350-8ed1-4593-b80b-8ce6e56e1ca3",
   "metadata": {
    "execution": {
     "iopub.execute_input": "2025-01-27T22:17:26.861961Z",
     "iopub.status.busy": "2025-01-27T22:17:26.861747Z",
     "iopub.status.idle": "2025-01-27T22:17:30.094341Z",
     "shell.execute_reply": "2025-01-27T22:17:30.093888Z",
     "shell.execute_reply.started": "2025-01-27T22:17:26.861946Z"
    }
   },
   "source": [
    "# Read in markers from Kong et al, 2023\n",
    "df = pd.read_excel(\n",
    "    data_dir / dataset / 'supplementary/kong_et_al_markers.xlsx',\n",
    "    usecols=[0, 1, 2],\n",
    ")\n",
    "# Split markers column into rows\n",
    "df['Markers'] = df['Markers'].apply(ast.literal_eval)\n",
    "df = df.explode('Markers')\n",
    "\n",
    "# Filter out genes missing from panel\n",
    "df = df[df['Markers'].isin(ad.var.index)]\n",
    "\n",
    "# Rename compartment labels\n",
    "df['compartment'] = df['Compartment'].str.lower()\n",
    "df.loc[df['Cell subset name'].eq('L cells '), 'compartment'] = 'epithelial'\n",
    "\n",
    "df['source'] = 'Kong et al, 2023'\n",
    "df = df.rename({'Markers': 'gene', 'Cell subset name': 'label'}, axis=1)\n",
    "df_kong = df"
   ]
  },
  {
   "cell_type": "raw",
   "id": "a3bbc2a8-df43-441b-a7f5-cf618c9a15f0",
   "metadata": {
    "execution": {
     "iopub.execute_input": "2025-01-27T22:17:30.096394Z",
     "iopub.status.busy": "2025-01-27T22:17:30.095887Z",
     "iopub.status.idle": "2025-01-27T22:17:33.659459Z",
     "shell.execute_reply": "2025-01-27T22:17:33.659005Z",
     "shell.execute_reply.started": "2025-01-27T22:17:30.096368Z"
    }
   },
   "source": [
    "# Read in markers from Elmentaite et al, 2021\n",
    "df = pd.read_excel(\n",
    "    data_dir / dataset / 'supplementary/elmentaite_et_al_markers.xlsx',\n",
    "    usecols=[1, 2, 10, 13],\n",
    ")\n",
    "\n",
    "# Filter out genes missing in panel and keep only most diffex genes\n",
    "mask = df['genes'].isin(ad.var.index) & df['logfoldchanges'].gt(2)\n",
    "df = df[mask]\n",
    "\n",
    "# Remap compartment labels\n",
    "df['compartment'] = df['lineage '].map({\n",
    "    'Epithelial': 'epithelial',\n",
    "    'T_NK_cells': 'immune',\n",
    "    'Mesenchymal': 'stromal',\n",
    "    'B_plasma_redbloodcells': 'immune',\n",
    "    'myeloid': 'immune',\n",
    "    'endothelial': 'stromal',\n",
    "    'neural': 'stromal',\n",
    "})\n",
    "df.loc[df['cluster'].eq('FDC'), 'compartment'] = 'immune'\n",
    "\n",
    "df['source'] = 'Elmentaite et al, 2021'\n",
    "df = df.rename(dict(genes='gene', cluster='label'), axis=1)\n",
    "df_elmentaite = df"
   ]
  },
  {
   "cell_type": "raw",
   "id": "d61651a0-775a-484a-8280-f0eed9e0d492",
   "metadata": {
    "execution": {
     "iopub.execute_input": "2025-01-27T22:17:33.660230Z",
     "iopub.status.busy": "2025-01-27T22:17:33.660068Z",
     "iopub.status.idle": "2025-01-27T22:17:36.410909Z",
     "shell.execute_reply": "2025-01-27T22:17:36.410435Z",
     "shell.execute_reply.started": "2025-01-27T22:17:33.660215Z"
    }
   },
   "source": [
    "rows = [\n",
    "    ('PECAM1', 'Endothelial Cell', 'stromal'),\n",
    "    ('PKHD1L1', 'Endothelial Cell', 'stromal'),\n",
    "    ('PROX1', 'Endothelial Cell', 'stromal'),\n",
    "    ('CD3E', 'Cycling Immune Cell', 'immune'),\n",
    "    ('CD79A', 'Cycling Immune Cell', 'immune'),\n",
    "    ('CD24', 'Transit Amplifying Cell', 'epithelial'),\n",
    "    ('TUBA1A', 'Glial Cell', 'stromal'),\n",
    "    ('DPYSL3', 'Glial Cell', 'stromal'),\n",
    "    ('CLU', 'Glial Cell', 'stromal'),\n",
    "    ('PRPH', 'Glial Cell', 'stromal'),\n",
    "    ('TAGLN', 'Smooth Muscle Cell', 'stromal'),\n",
    "    ('ACTA2', 'Smooth Muscle Cell', 'stromal'),\n",
    "    ('COL1A1', 'Smooth Muscle Cell', 'stromal'),\n",
    "    ('THBS1', 'Smooth Muscle Cell', 'stromal'),\n",
    "    ('GREM1', 'Smooth Muscle Cell', 'stromal'),\n",
    "    ('GREM2', 'Smooth Muscle Cell', 'stromal'),\n",
    "    ('IL1B', 'Neutrophil', 'immune'),\n",
    "    ('CXCR1', 'Neutrophil', 'immune'),\n",
    "    ('CXCR2', 'Neutrophil', 'immune'),\n",
    "    ('CXCL1', 'Neutrophil', 'immune'),\n",
    "]\n",
    "df = pd.DataFrame(rows, columns=['gene', 'label', 'compartment'])\n",
    "df['group'] = df['label']\n",
    "df['source'] = 'Custom'\n",
    "df_custom = df"
   ]
  },
  {
   "cell_type": "raw",
   "id": "57eb80a1-db64-4daa-8daf-c9dd01bfd45a",
   "metadata": {
    "execution": {
     "iopub.execute_input": "2025-01-27T22:17:36.411693Z",
     "iopub.status.busy": "2025-01-27T22:17:36.411526Z",
     "iopub.status.idle": "2025-01-27T22:17:39.040691Z",
     "shell.execute_reply": "2025-01-27T22:17:39.040239Z",
     "shell.execute_reply.started": "2025-01-27T22:17:36.411678Z"
    }
   },
   "source": [
    "# Join all annotations\n",
    "df = pd.concat([df_10xg, df_kong, df_elmentaite, df_custom], join='inner')\n",
    "df['label'] = df['label'].str.strip()"
   ]
  },
  {
   "cell_type": "raw",
   "id": "9beebb8a-db13-4c54-b648-48b6a53bc539",
   "metadata": {
    "execution": {
     "iopub.execute_input": "2025-01-27T22:17:39.041688Z",
     "iopub.status.busy": "2025-01-27T22:17:39.041409Z",
     "iopub.status.idle": "2025-01-27T22:17:42.377921Z",
     "shell.execute_reply": "2025-01-27T22:17:42.377432Z",
     "shell.execute_reply.started": "2025-01-27T22:17:39.041673Z"
    }
   },
   "source": [
    "# Aggregate labels from literature\n",
    "label_groupings = {\n",
    "    'Stem Cell': [\n",
    "        'stem cell, 10X Genomics',\n",
    "        'Stem cells, Elmentaite et al, 2021',\n",
    "    ],\n",
    "    'Transit Amplifying Cell': [\n",
    "        'transit amplifying cell of colon, 10X Genomics',\n",
    "        'Epithelial Cycling cells, Kong et al, 2023',\n",
    "        'Transit Amplifying Cell, Custom',\n",
    "    ],\n",
    "    'OLFM4+ Stem Cell': [\n",
    "        'Stem cells OLFM4+, Kong et al, 2023',\n",
    "        'Stem cells OLFM4+ PCNA+, Kong et al, 2023'\n",
    "    ],\n",
    "    'Goblet Cell': [\n",
    "        'colon goblet cell, 10X Genomics',\n",
    "        'Goblet cells MUC2+ TFF1-, Kong et al, 2023',\n",
    "        'Goblet cells MUC2+ TFF1+, Kong et al, 2023',\n",
    "        'Goblet cells SPINK4+, Kong et al, 2023',\n",
    "        'Goblet cell, Elmentaite et al, 2021'\n",
    "    ],\n",
    "    'BEST4+ Epithelial Cell': [\n",
    "       'BEST4+ epithelial cell, 10X Genomics',\n",
    "       'Enterocytes BEST4+, Kong et al, 2023',\n",
    "       'BEST4+ epithelial, Elmentaite et al, 2021',\n",
    "    ],\n",
    "    'Paneth Cell': [\n",
    "        'paneth cell of colon, 10X Genomics',\n",
    "    ],\n",
    "    'Absorptive Precursor Cell': [\n",
    "        'absorptive cell, 10X Genomics',\n",
    "        'Enterocytes CA1+ CA2+ CA4-, Kong et al, 2023',\n",
    "    ],\n",
    "    'Enterocyte': [\n",
    "        'Enterocytes TMIGD1+ MEP1A+, Kong et al, 2023',\n",
    "        'Enterocytes TMIGD1+ MEP1A+ GSTA1+, Kong et al, 2023',\n",
    "        'Colonocyte, Elmentaite et al, 2021',\n",
    "    ],\n",
    "    'Macrophage': [\n",
    "        'colon macrophage, 10X Genomics',\n",
    "        'Macrophages, Kong et al, 2023',\n",
    "    ],\n",
    "    'LYVE1+ Macrophage': [\n",
    "        'macrophage, 10X Genomics',\n",
    "        'Macrophages LYVE1+, Kong et al, 2023',\n",
    "        'LYVE1+ Macrophage, Elmentaite et al, 2021',\n",
    "    ],\n",
    "    'Endothelial Cell': [\n",
    "        'Endothelial cells CA4+ CD36+, Kong et al, 2023',\n",
    "        'Endothelial cells CD36+, Kong et al, 2023',\n",
    "        'Endothelial cells DARC+, Kong et al, 2023',\n",
    "        'LEC6 (ADAMTS4+), Elmentaite et al, 2021',\n",
    "        'LEC2 (MADCAM1+), Elmentaite et al, 2021',\n",
    "        'LEC5 (CLDN11+), Elmentaite et al, 2021',\n",
    "        'Endothelial Cell, Custom',\n",
    "    ],\n",
    "    'Stromal 1': [\n",
    "        'Fibroblasts ADAMDEC1+, Kong et al, 2023',\n",
    "        'Stromal 1 (ADAMDEC1+), Elmentaite et al, 2021',\n",
    "        'Stromal 1 (CCL11+), Elmentaite et al, 2021',\n",
    "    ],\n",
    "    'Stromal 2': [\n",
    "        'Fibroblasts NPY+ SLITRK6+, Kong et al, 2023',\n",
    "        'Stromal 2 (CH25H+), Elmentaite et al, 2021',\n",
    "        'Stromal 2 (NPY+), Elmentaite et al, 2021',\n",
    "    ],\n",
    "    'Stromal 3': [\n",
    "        'Stromal 3 (C7+), Elmentaite et al, 2021',\n",
    "        'Fibroblasts SFRP2+ SLPI+, Kong et al, 2023',\n",
    "        'Transitional Stromal 3 (C3+), Elmentaite et al, 2021',\n",
    "    ],\n",
    "    'Pericyte': [\n",
    "        'Pericytes HIGD1B+ STEAP4+, Kong et al, 2023',\n",
    "        'Pericytes RERGL+ NTRK2+, Kong et al, 2023',\n",
    "        'Contractile pericyte (PLN+), Elmentaite et al, 2021',\n",
    "        'Immature pericyte, Elmentaite et al, 2021',\n",
    "    ],\n",
    "    'Myofibroblast': [\n",
    "        'myofibroblast, Elmentaite et al, 2021',\n",
    "    ],\n",
    "    'Glial Cell': [\n",
    "        'Glial cells, Kong et al, 2023',\n",
    "        'Glial Cell, Custom',\n",
    "    ],\n",
    "    'Treg': [\n",
    "        'regulatory T cell, 10X Genomics',\n",
    "        'Tregs, Kong et al, 2023',\n",
    "        'Treg, Elmentaite et al, 2021',\n",
    "    ],\n",
    "    'CD4+ T Cell': [\n",
    "        'CD4-positive, alpha-beta T cell, 10X Genomics',\n",
    "        'T cells CD4+ FOSB+, Kong et al, 2023',\n",
    "        'T cells Naive CD4+, Kong et al, 2023',\n",
    "        'T-helper 1 cell, 10X Genomics',\n",
    "        'T-helper 17 cell, 10X Genomics',\n",
    "    ],\n",
    "    'CD8+ T Cell': [\n",
    "        'CD8-positive, alpha-beta T cell, 10X Genomics',\n",
    "        'T cells CD8+, Kong et al, 2023',\n",
    "        'T cells CD8+ KLRG1+, Kong et al, 2023',\n",
    "    ],\n",
    "    'B Cell': [\n",
    "        'follicular B cell, 10X Genomics',\n",
    "        'memory B cell, 10X Genomics',\n",
    "        'B cells, Kong et al, 2023',\n",
    "        'Pre-B, Elmentaite et al, 2021',\n",
    "    ],\n",
    "    'Cycling Immune Cell': [\n",
    "        'Immune Cycling cells, Kong et al, 2023',\n",
    "        'Cycling B cell, Elmentaite et al, 2021',\n",
    "        'Cycling Immune Cell, Custom',\n",
    "    ],\n",
    "    'Plasma Cell': [\n",
    "        'IgA plasma cell, 10X Genomics',\n",
    "        'Plasma cells, Kong et al, 2023',\n",
    "    ],\n",
    "    'Monocyte': [\n",
    "        'monocyte, 10X Genomics',\n",
    "        'Monocytes S100A8+ S100A9+, Kong et al, 2023',\n",
    "    ],\n",
    "    'cDC': [\n",
    "        'conventional dendritic cell, 10X Genomics',\n",
    "        'DC1, Kong et al, 2023',\n",
    "        'cDC1, Elmentaite et al, 2021',\n",
    "    ],\n",
    "    'EC Cell': [\n",
    "        'Enterochromaffin cells, Kong et al, 2023',\n",
    "        'EC cells (NPW+), Elmentaite et al, 2021',\n",
    "    ],\n",
    "    'L Cell': [\n",
    "        'L cells (PYY+), Elmentaite et al, 2021',\n",
    "        'L cells, Kong et al, 2023',\n",
    "    ],\n",
    "    'Tuft Cell': [\n",
    "        'tuft cell, 10X Genomics',\n",
    "        'Tuft cells, Kong et al, 2023',\n",
    "        'Tuft, Elmentaite et al, 2021',\n",
    "    ],\n",
    "    'Mast Cell': [\n",
    "        'mast cell, 10X Genomics',\n",
    "        'Mast cells, Kong et al, 2023',\n",
    "        'Mast cell, Elmentaite et al, 2021',\n",
    "    ],\n",
    "    'ICC': [\n",
    "        'ICC, Elmentaite et al, 2021',\n",
    "    ],\n",
    "    'Smooth Muscle Cell': [\n",
    "        'Smooth Muscle Cell, Custom',\n",
    "    ],\n",
    "    'FDC': [\n",
    "        'FDC, Elmentaite et al, 2021',\n",
    "    ],\n",
    "    'Neutrophil': [\n",
    "        'Neutrophil, Custom',\n",
    "    ],\n",
    "}\n",
    "\n",
    "label_groupings = {v: k for k, vals in label_groupings.items() for v in vals}\n",
    "df['group'] = (df['label'] + ', ' + df['source']).map(label_groupings)"
   ]
  },
  {
   "cell_type": "raw",
   "id": "307d47ec-0da8-4da8-9ab8-9ac6de60c98d",
   "metadata": {
    "execution": {
     "iopub.execute_input": "2025-01-27T22:17:42.378703Z",
     "iopub.status.busy": "2025-01-27T22:17:42.378542Z",
     "iopub.status.idle": "2025-01-27T22:17:45.702083Z",
     "shell.execute_reply": "2025-01-27T22:17:45.701598Z",
     "shell.execute_reply.started": "2025-01-27T22:17:42.378688Z"
    }
   },
   "source": [
    "# Simplify cell type labels for plotting\n",
    "l1_groupings = {\n",
    "    'Stromal 3': 'Stromal 2',\n",
    "    'Monocyte': 'Monocyte',\n",
    "    'LYVE1+ Macrophage': 'Macrophage',\n",
    "    'Cycling Immune Cell': 'T Cell',\n",
    "    'CD4+ T Cell': 'T Cell',\n",
    "    'Endothelial Cell': 'Endothelial',\n",
    "    'Pericyte': 'Pericyte',\n",
    "    'Glial Cell': 'Glia',\n",
    "    'Mast Cell': 'Mast',\n",
    "    'Smooth Muscle Cell': 'Smooth Muscle',\n",
    "    'ICC': 'ICC',\n",
    "    'Stromal 1': 'Stromal 1',\n",
    "    'Macrophage': 'Macrophage',\n",
    "    'B Cell': 'B Cell',\n",
    "    'Stromal 2': 'Stromal 1',\n",
    "    'Tuft Cell': 'Tuft',\n",
    "    'Myofibroblast': 'Stromal 1',\n",
    "    'Plasma Cell': 'Plasma',\n",
    "    'BEST4+ Epithelial Cell': 'BEST4+ Epi.',\n",
    "    'CD8+ T Cell': 'T Cell',\n",
    "    'Transit Amplifying Cell': 'TA/Precursor',\n",
    "    'Stem Cell': 'ISC', \n",
    "    'Goblet Cell': 'Goblet',\n",
    "    'L Cell': 'Enteroendocrine',\n",
    "    'EC Cell': 'Enteroendocrine',\n",
    "    'OLFM4+ Stem Cell': 'ISC',\n",
    "    'Absorptive Precursor Cell': 'TA/Precursor',\n",
    "    'Enterocyte': 'Enterocyte',\n",
    "    'Paneth Cell': 'Paneth',\n",
    "    'cDC': 'DC',\n",
    "    'FDC': 'DC',\n",
    "    'Treg': 'T Cell',\n",
    "    'Neutrophil': 'Neutrophil',\n",
    "}\n",
    "df['level_1'] = df['group'].map(l1_groupings)"
   ]
  },
  {
   "cell_type": "raw",
   "id": "baece5e7-2d14-4097-a1c4-86b28e7a0d75",
   "metadata": {
    "execution": {
     "iopub.execute_input": "2025-01-27T22:17:45.702876Z",
     "iopub.status.busy": "2025-01-27T22:17:45.702705Z",
     "iopub.status.idle": "2025-01-27T22:17:49.316584Z",
     "shell.execute_reply": "2025-01-27T22:17:49.316132Z",
     "shell.execute_reply.started": "2025-01-27T22:17:45.702861Z"
    }
   },
   "source": [
    "# Simplify cell type labels for plotting\n",
    "l2_groupings = {\n",
    "    'Stromal 3': 'Fibroblast and Stromal',\n",
    "    'Monocyte': 'Myeloid',\n",
    "    'LYVE1+ Macrophage': 'Myeloid',\n",
    "    'Cycling Immune Cell': 'Lymphoid',\n",
    "    'CD4+ T Cell': 'Lymphoid',\n",
    "    'Endothelial Cell': 'Endothelial',\n",
    "    'Pericyte': 'Smooth Muscle and Pericyte',\n",
    "    'Glial Cell': 'Neural',\n",
    "    'Mast Cell': 'Myeloid',\n",
    "    'Smooth Muscle Cell': 'Smooth Muscle and Pericyte',\n",
    "    'ICC': 'Smooth Muscle and Pericyte',\n",
    "    'Stromal 1': 'Fibroblast and Stromal',\n",
    "    'Macrophage': 'Myeloid',\n",
    "    'B Cell': 'Lymphoid',\n",
    "    'Stromal 2': 'Fibroblast and Stromal',\n",
    "    'Tuft Cell': 'Epithelial',\n",
    "    'Myofibroblast': 'Fibroblast and Stromal',\n",
    "    'Plasma Cell': 'Lymphoid',\n",
    "    'BEST4+ Epithelial Cell': 'Epithelial',\n",
    "    'CD8+ T Cell': 'Lymphoid',\n",
    "    'Transit Amplifying Cell': 'Epithelial',\n",
    "    'Stem Cell': 'Epithelial', \n",
    "    'Goblet Cell': 'Epithelial',\n",
    "    'L Cell': 'Epithelial',\n",
    "    'EC Cell': 'Epithelial',\n",
    "    'OLFM4+ Stem Cell': 'Epithelial',\n",
    "    'Absorptive Precursor Cell': 'Epithelial',\n",
    "    'Enterocyte': 'Epithelial',\n",
    "    'Paneth Cell': 'Epithelial',\n",
    "    'cDC': 'Myeloid',\n",
    "    'FDC': 'Myeloid',\n",
    "    'Treg': 'Lymphoid',\n",
    "    'Neutrophil': 'Myeloid',\n",
    "}\n",
    "df['level_2'] = df['group'].map(l2_groupings)"
   ]
  },
  {
   "cell_type": "raw",
   "id": "fda4ba7d-82ab-4d61-991b-499fc45f04a7",
   "metadata": {
    "execution": {
     "iopub.execute_input": "2025-01-27T22:17:49.318346Z",
     "iopub.status.busy": "2025-01-27T22:17:49.317920Z",
     "iopub.status.idle": "2025-01-27T22:17:53.089639Z",
     "shell.execute_reply": "2025-01-27T22:17:53.089173Z",
     "shell.execute_reply.started": "2025-01-27T22:17:49.318331Z"
    }
   },
   "source": [
    "# Save to file\n",
    "df.to_csv(data_dir / dataset / 'tables/cell_type_markers.csv')"
   ]
  },
  {
   "cell_type": "markdown",
   "id": "984ca40b-0394-448b-863b-cb224601a0fa",
   "metadata": {},
   "source": [
    "## Create and Annotate AnnData from Transcripts"
   ]
  },
  {
   "cell_type": "markdown",
   "id": "2243cbda-1326-4241-9728-8ce38f233f56",
   "metadata": {},
   "source": [
    "### Transcripts to AnnData"
   ]
  },
  {
   "cell_type": "code",
   "execution_count": 4,
   "id": "0c7463ea-84f5-470c-beca-dac27e7e5948",
   "metadata": {
    "execution": {
     "iopub.execute_input": "2025-01-29T02:04:33.318458Z",
     "iopub.status.busy": "2025-01-29T02:04:33.318190Z",
     "iopub.status.idle": "2025-01-29T02:04:45.749856Z",
     "shell.execute_reply": "2025-01-29T02:04:45.749380Z",
     "shell.execute_reply.started": "2025-01-29T02:04:33.318443Z"
    }
   },
   "outputs": [],
   "source": [
    "# Read in all transcripts\n",
    "transcripts_filepath = data_dir / dataset / 'labeled_transcripts.parquet'\n",
    "transcripts = pd.read_parquet(transcripts_filepath)\n",
    "\n",
    "# Filter control probes and low QV probes\n",
    "xe_settings = load_settings('xenium')\n",
    "transcripts = filter_transcripts(\n",
    "    transcripts,\n",
    "    label=xe_settings.transcripts.label,\n",
    "    filter_substrings=xe_settings.transcripts.filter_substrings,\n",
    "    min_qv=25,\n",
    ")"
   ]
  },
  {
   "cell_type": "code",
   "execution_count": 7,
   "id": "eff434fd-7770-40d3-b757-5ddb74f74979",
   "metadata": {
    "execution": {
     "iopub.execute_input": "2025-01-29T02:13:17.513144Z",
     "iopub.status.busy": "2025-01-29T02:13:17.512671Z",
     "iopub.status.idle": "2025-01-29T02:14:31.923654Z",
     "shell.execute_reply": "2025-01-29T02:14:31.923188Z",
     "shell.execute_reply.started": "2025-01-29T02:13:17.513127Z"
    }
   },
   "outputs": [
    {
     "name": "stderr",
     "output_type": "stream",
     "text": [
      "Done: 100%|██████████| 6/6 [01:06<00:00, 11.09s/it]         \n"
     ]
    }
   ],
   "source": [
    "# Subset Segger data to high-confidence transcripts\n",
    "for name, seg_col, mask in [\n",
    "    ('10x_cell', 'cell_id', np.full(transcripts.shape[0], True)),\n",
    "    ('10x_nucleus', 'cell_id', transcripts['overlaps_nucleus'].eq(1)),\n",
    "    ('segger', 'segger_cell_id_cxg_k=20', transcripts['score_cxg_k=20'].gt(0.5))\n",
    "]:\n",
    "\n",
    "    # Transcripts to anndata\n",
    "    ad = anndata_from_transcripts(\n",
    "        transcripts[mask],\n",
    "        cell_label=seg_col,\n",
    "        gene_label='feature_name',\n",
    "        coordinate_labels=['x_location', 'y_location'],\n",
    "    )\n",
    "    # Add raw counts before filtering\n",
    "    ad.uns['raw_counts'] = dict(\n",
    "        index=ad.obs.index.tolist(),\n",
    "        count=ad.raw.X.A.sum(1),\n",
    "    )\n",
    "    ad.write_h5ad(data_dir / dataset / f'h5ads/{name}_raw.h5ad')\n",
    "    \n",
    "    # Preprocess\n",
    "    preprocess_rapids(\n",
    "        ad,\n",
    "        filter_min_counts=1,\n",
    "        pca_total_var=0.95,\n",
    "        umap_min_dist=0.2,\n",
    "        umap_n_epochs=1000,\n",
    "        pca_layer='norm',\n",
    "        knn_neighbors=20,\n",
    "        phenograph_resolution=4,\n",
    "        umap_kwargs=dict(local_connectivity=2, init_pos='random'),\n",
    "    )\n",
    "    \n",
    "    # Map 10X IDs across anndatas\n",
    "    if name in ['10x_nucleus', '10x_cell', '10x_nucleus_lo_thresh']:\n",
    "        ad.obs['10x_id'] = ad.obs.index\n",
    "    else:\n",
    "        counts = transcripts.value_counts([seg_col, 'cell_id'])\n",
    "        nuc_map = counts.groupby(seg_col).idxmax().str[1]\n",
    "        ad.obs['10x_id'] = ad.obs.index.astype(float).map(nuc_map)\n",
    "    \n",
    "    ad.write_h5ad(data_dir / dataset / f'h5ads/{name}_processed.h5ad')"
   ]
  },
  {
   "cell_type": "markdown",
   "id": "a97c2848-709d-4a55-b406-06c7e52cf7bc",
   "metadata": {},
   "source": [
    "### Build Celltypist Model on 10X Nucleus AnnData"
   ]
  },
  {
   "cell_type": "code",
   "execution_count": 79,
   "id": "aa314106-7293-4eec-af96-b738341fdd41",
   "metadata": {
    "execution": {
     "iopub.execute_input": "2025-01-27T19:20:59.511548Z",
     "iopub.status.busy": "2025-01-27T19:20:59.511085Z",
     "iopub.status.idle": "2025-01-27T19:21:21.139402Z",
     "shell.execute_reply": "2025-01-27T19:21:21.138883Z",
     "shell.execute_reply.started": "2025-01-27T19:20:59.511532Z"
    }
   },
   "outputs": [
    {
     "name": "stderr",
     "output_type": "stream",
     "text": [
      "100%|██████████| 33/33 [00:19<00:00,  1.74it/s]\n"
     ]
    }
   ],
   "source": [
    "# Read in AnnData\n",
    "name = '10x_nucleus'\n",
    "ad_nuc = sc.read_h5ad(data_dir / dataset / f'h5ads/{name}_processed.h5ad')\n",
    "\n",
    "# Read in cell type markers from literature\n",
    "filepath = data_dir / dataset / 'tables/cell_type_markers.csv'\n",
    "markers = pd.read_csv(filepath)\n",
    "\n",
    "# Z-score data before gene set scoring\n",
    "X = ad_nuc.layers['lognorm'].todense().A\n",
    "ad_nuc.layers['z-score'] = sp.stats.zscore(X, axis=0)\n",
    "\n",
    "# Ignore performance warnings from calling insert\n",
    "from warnings import simplefilter\n",
    "simplefilter(action=\"ignore\", category=pd.errors.PerformanceWarning)\n",
    "\n",
    "# Score all genes\n",
    "ad_nuc.X = ad_nuc.layers['z-score']\n",
    "col = 'group'\n",
    "for name, group in tqdm(markers.groupby(col)):\n",
    "    sc.tl.score_genes(\n",
    "        adata=ad_nuc,\n",
    "        gene_list=group['gene'].unique(),\n",
    "        score_name=name,\n",
    "        use_raw=False,\n",
    "    )"
   ]
  },
  {
   "cell_type": "code",
   "execution_count": 80,
   "id": "1a0b97fb-36d4-4a76-9fd7-382c513fe281",
   "metadata": {
    "execution": {
     "iopub.execute_input": "2025-01-27T19:21:21.140674Z",
     "iopub.status.busy": "2025-01-27T19:21:21.140440Z",
     "iopub.status.idle": "2025-01-27T19:21:21.626817Z",
     "shell.execute_reply": "2025-01-27T19:21:21.626356Z",
     "shell.execute_reply.started": "2025-01-27T19:21:21.140659Z"
    }
   },
   "outputs": [],
   "source": [
    "# Join into single .obsm entry\n",
    "ad_nuc.obsm['X_cell_type'] = ad_nuc.obs[markers[col].dropna().unique()]\n",
    "\n",
    "# Max cell type by cluster\n",
    "gb = 'phenograph_cluster'\n",
    "fn = 'mean'\n",
    "ct_agg = sc.get.aggregate(ad_nuc, gb, fn, obsm='X_cell_type').to_df(layer=fn)\n",
    "ct_agg.index = ct_agg.index.astype(int)\n",
    "ct_map = ct_agg.idxmax(1)\n",
    "\n",
    "# Compartment by cluster\n",
    "cp_map = markers.dropna().set_index(col)['compartment']\n",
    "cp_map = cp_map[~cp_map.index.duplicated()]\n",
    "\n",
    "# Map cluster/compartment assignments to dataset\n",
    "ad_nuc.obs['prelim_cell_type'] = ad_nuc.obs[gb].map(ct_map)"
   ]
  },
  {
   "cell_type": "code",
   "execution_count": 81,
   "id": "9a746a18-e22e-461c-b657-a9feee01b004",
   "metadata": {
    "execution": {
     "iopub.execute_input": "2025-01-27T19:21:21.627570Z",
     "iopub.status.busy": "2025-01-27T19:21:21.627400Z",
     "iopub.status.idle": "2025-01-27T19:21:23.589160Z",
     "shell.execute_reply": "2025-01-27T19:21:23.588702Z",
     "shell.execute_reply.started": "2025-01-27T19:21:21.627555Z"
    }
   },
   "outputs": [],
   "source": [
    "# Build Celltypist model on nuclear AnnData\n",
    "ad_nuc.layers['raw'] = ad_nuc.raw.X.copy()\n",
    "ct_model = build_celltypist_model(\n",
    "    ad_nuc,\n",
    "    celltype_col='prelim_cell_type',\n",
    "    raw_layer='raw',\n",
    "    target_sum=100,\n",
    "    sample_size=1000,\n",
    ")\n",
    "ct_model.write(data_dir / dataset / 'celltypist/colon_celltypist_model.pkl')"
   ]
  },
  {
   "cell_type": "markdown",
   "id": "f189482c-d7ef-47b6-a952-2facef09a74b",
   "metadata": {},
   "source": [
    "### Cell Type All AnnDatas"
   ]
  },
  {
   "cell_type": "code",
   "execution_count": 214,
   "id": "7ac269b6-8d76-43a2-a131-8e161091b0f7",
   "metadata": {
    "execution": {
     "iopub.execute_input": "2025-01-27T22:18:07.076633Z",
     "iopub.status.busy": "2025-01-27T22:18:07.076255Z",
     "iopub.status.idle": "2025-01-27T22:18:14.058816Z",
     "shell.execute_reply": "2025-01-27T22:18:14.058295Z",
     "shell.execute_reply.started": "2025-01-27T22:18:07.076616Z"
    }
   },
   "outputs": [],
   "source": [
    "# Neutrophil IDs\n",
    "filepath = data_dir / dataset / f'h5ads/segger_processed.h5ad'\n",
    "ad = sc.read_h5ad(filepath)\n",
    "is_neutrophil = ad.obs['phenograph_cluster'].eq(62)\n",
    "neutrophil_ids = ad.obs.loc[is_neutrophil, '10x_id'].values"
   ]
  },
  {
   "cell_type": "code",
   "execution_count": 215,
   "id": "c6804d97-7104-4c17-a758-c4b7cf570efd",
   "metadata": {
    "collapsed": true,
    "execution": {
     "iopub.execute_input": "2025-01-27T22:18:14.059948Z",
     "iopub.status.busy": "2025-01-27T22:18:14.059708Z",
     "iopub.status.idle": "2025-01-27T22:18:36.563404Z",
     "shell.execute_reply": "2025-01-27T22:18:36.562894Z",
     "shell.execute_reply.started": "2025-01-27T22:18:14.059933Z"
    },
    "jupyter": {
     "outputs_hidden": true
    }
   },
   "outputs": [
    {
     "name": "stderr",
     "output_type": "stream",
     "text": [
      "... storing 'cell_type' as categorical\n",
      "... storing 'cell_type_level_1' as categorical\n",
      "... storing 'cell_type_level_2' as categorical\n",
      "... storing 'cell_type' as categorical\n",
      "... storing 'cell_type_level_1' as categorical\n",
      "... storing 'cell_type_level_2' as categorical\n",
      "... storing 'cell_type' as categorical\n",
      "... storing 'cell_type_level_1' as categorical\n",
      "... storing 'cell_type_level_2' as categorical\n",
      "... storing 'cell_type' as categorical\n",
      "... storing 'cell_type_level_1' as categorical\n",
      "... storing 'cell_type_level_2' as categorical\n"
     ]
    }
   ],
   "source": [
    "# Annotate using celltypist model\n",
    "filepath = data_dir / dataset / 'celltypist/colon_celltypist_model.pkl'\n",
    "ct_model = ct.Model.load(str(filepath))\n",
    "\n",
    "# Read in cell type markers from literature\n",
    "filepath = data_dir / dataset / 'tables/cell_type_markers.csv'\n",
    "markers = pd.read_csv(filepath)\n",
    "\n",
    "for name in ['10x_nucleus', '10x_cell', 'segger']:\n",
    "    \n",
    "    # Label anndata\n",
    "    filepath = data_dir / dataset / f'h5ads/{name}_processed.h5ad'\n",
    "    ad = sc.read_h5ad(filepath)\n",
    "    annotate_cell_types(ad, ct_model, target_sum=100)\n",
    "    ad.obs['cell_type'] = ad.obs['celltypist_label'].astype(str)\n",
    "    mask = ad.obs['10x_id'].isin(neutrophil_ids)\n",
    "    ad.obs.loc[mask, 'cell_type'] = 'Neutrophil'\n",
    "\n",
    "    # Map to coarse labels for plotting\n",
    "    for l in [1, 2]:\n",
    "        counts = markers.groupby('group')[f'level_{l}'].value_counts()\n",
    "        ct_map = counts.unstack().idxmax(1)  # coarse labels\n",
    "        ad.obs[f'cell_type_level_{l}'] = ad.obs['cell_type'].map(ct_map)\n",
    "    \n",
    "    ad.write_h5ad(filepath)"
   ]
  }
 ],
 "metadata": {
  "kernelspec": {
   "display_name": "Python 3 (ipykernel)",
   "language": "python",
   "name": "python3"
  },
  "language_info": {
   "codemirror_mode": {
    "name": "ipython",
    "version": 3
   },
   "file_extension": ".py",
   "mimetype": "text/x-python",
   "name": "python",
   "nbconvert_exporter": "python",
   "pygments_lexer": "ipython3",
   "version": "3.11.9"
  }
 },
 "nbformat": 4,
 "nbformat_minor": 5
}
