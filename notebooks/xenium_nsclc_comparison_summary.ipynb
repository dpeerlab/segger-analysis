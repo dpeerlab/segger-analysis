{
 "cells": [
  {
   "cell_type": "markdown",
   "id": "a8e6fc05-42e9-44f6-9647-b1ff7a57dacd",
   "metadata": {},
   "source": [
    "# Comparison of all Methods"
   ]
  },
  {
   "cell_type": "code",
   "execution_count": 1,
   "id": "ef412bc6-751b-4328-9c0c-18b901cc121d",
   "metadata": {
    "execution": {
     "iopub.execute_input": "2025-02-11T17:31:23.055139Z",
     "iopub.status.busy": "2025-02-11T17:31:23.054804Z",
     "iopub.status.idle": "2025-02-11T17:32:09.282130Z",
     "shell.execute_reply": "2025-02-11T17:32:09.281674Z",
     "shell.execute_reply.started": "2025-02-11T17:31:23.055121Z"
    }
   },
   "outputs": [],
   "source": [
    "import scanpy as sc"
   ]
  },
  {
   "cell_type": "code",
   "execution_count": 2,
   "id": "0ed99ce5-72d2-42aa-a193-49923415e968",
   "metadata": {
    "execution": {
     "iopub.execute_input": "2025-02-11T17:32:09.283445Z",
     "iopub.status.busy": "2025-02-11T17:32:09.283009Z",
     "iopub.status.idle": "2025-02-11T17:32:13.021106Z",
     "shell.execute_reply": "2025-02-11T17:32:13.020656Z",
     "shell.execute_reply.started": "2025-02-11T17:32:09.283426Z"
    }
   },
   "outputs": [],
   "source": [
    "data_dir = '/data/peer/moormana/GitHub/dpeerlab/segger-analysis/data/xenium_nsclc/h5ads/cellpose_cell_id.h5ad'\n",
    "ad = sc.read_h5ad(data_dir)"
   ]
  },
  {
   "cell_type": "code",
   "execution_count": 2,
   "id": "29e65e1c-7052-471c-9002-7745b6bbfa71",
   "metadata": {
    "execution": {
     "iopub.execute_input": "2024-12-05T17:25:26.791828Z",
     "iopub.status.busy": "2024-12-05T17:25:26.791537Z",
     "iopub.status.idle": "2024-12-05T17:25:26.817718Z",
     "shell.execute_reply": "2024-12-05T17:25:26.817346Z",
     "shell.execute_reply.started": "2024-12-05T17:25:26.791813Z"
    }
   },
   "outputs": [],
   "source": [
    "%load_ext autoreload\n",
    "%autoreload 2"
   ]
  },
  {
   "cell_type": "code",
   "execution_count": 19,
   "id": "2effdc3a-5867-45ab-93d2-f3613077847c",
   "metadata": {
    "execution": {
     "iopub.execute_input": "2024-12-05T17:32:59.251143Z",
     "iopub.status.busy": "2024-12-05T17:32:59.250899Z",
     "iopub.status.idle": "2024-12-05T17:32:59.314214Z",
     "shell.execute_reply": "2024-12-05T17:32:59.313848Z",
     "shell.execute_reply.started": "2024-12-05T17:32:59.251126Z"
    }
   },
   "outputs": [],
   "source": [
    "from requirements import *\n",
    "from collections import defaultdict\n",
    "from matplotlib.colors import to_rgba"
   ]
  },
  {
   "cell_type": "markdown",
   "id": "9e48695f-ea4b-4eb3-b4f5-d3e4e76ae3a1",
   "metadata": {
    "execution": {
     "iopub.execute_input": "2024-12-05T01:48:14.393832Z",
     "iopub.status.busy": "2024-12-05T01:48:14.393561Z",
     "iopub.status.idle": "2024-12-05T01:48:15.328645Z",
     "shell.execute_reply": "2024-12-05T01:48:15.328207Z",
     "shell.execute_reply.started": "2024-12-05T01:48:14.393814Z"
    }
   },
   "source": [
    "## MECR Marker Pairs"
   ]
  },
  {
   "cell_type": "code",
   "execution_count": 3,
   "id": "3c415223-53b8-48ec-bd83-e2225f0b2e0c",
   "metadata": {
    "execution": {
     "iopub.execute_input": "2024-12-05T03:29:13.735645Z",
     "iopub.status.busy": "2024-12-05T03:29:13.735413Z",
     "iopub.status.idle": "2024-12-05T03:29:14.666010Z",
     "shell.execute_reply": "2024-12-05T03:29:14.665642Z",
     "shell.execute_reply.started": "2024-12-05T03:29:13.735629Z"
    }
   },
   "outputs": [],
   "source": [
    "from segger.validation.utils import *"
   ]
  },
  {
   "cell_type": "code",
   "execution_count": 4,
   "id": "5e83b3cf-b10c-49e9-95f0-24cc70dc2d7a",
   "metadata": {
    "execution": {
     "iopub.execute_input": "2024-12-05T03:13:54.538601Z",
     "iopub.status.busy": "2024-12-05T03:13:54.538465Z",
     "iopub.status.idle": "2024-12-05T03:13:58.321585Z",
     "shell.execute_reply": "2024-12-05T03:13:58.321138Z",
     "shell.execute_reply.started": "2024-12-05T03:13:54.538586Z"
    }
   },
   "outputs": [],
   "source": [
    "# Read in AnnData:\n",
    "#  - Downsampled to workable size (10% cells)\n",
    "#  - Subset to Xenium panel genes\n",
    "base_dir = Path('/data/peer/moormana/GitHub/dpeerlab/segger_dev/dev/')\n",
    "scrna_dir = base_dir / 'figure_3/data/inputs/scrnaseq'\n",
    "atlas = 'integrated_human_lung_cell_atlas'\n",
    "ad = sc.read_h5ad(scrna_dir / f'{atlas}_small.h5ad')"
   ]
  },
  {
   "cell_type": "code",
   "execution_count": 5,
   "id": "cc4a5dbb-5c95-4ffc-b37b-5da21a9590d0",
   "metadata": {
    "execution": {
     "iopub.execute_input": "2024-12-05T03:13:58.331233Z",
     "iopub.status.busy": "2024-12-05T03:13:58.331006Z",
     "iopub.status.idle": "2024-12-05T03:14:00.300511Z",
     "shell.execute_reply": "2024-12-05T03:14:00.300042Z",
     "shell.execute_reply.started": "2024-12-05T03:13:58.331217Z"
    }
   },
   "outputs": [],
   "source": [
    "# Get positive and negative markers per cell type\n",
    "ct_col = 'cell_type_simplified'\n",
    "markers = find_markers(ad, ct_col)"
   ]
  },
  {
   "cell_type": "code",
   "execution_count": 6,
   "id": "de8091fb-f544-47de-8617-338cdb1ceb4b",
   "metadata": {
    "execution": {
     "iopub.execute_input": "2024-12-05T03:14:00.301448Z",
     "iopub.status.busy": "2024-12-05T03:14:00.301123Z",
     "iopub.status.idle": "2024-12-05T03:16:25.458342Z",
     "shell.execute_reply": "2024-12-05T03:16:25.457829Z",
     "shell.execute_reply.started": "2024-12-05T03:14:00.301425Z"
    }
   },
   "outputs": [
    {
     "name": "stderr",
     "output_type": "stream",
     "text": [
      "100%|██████████| 10/10 [02:25<00:00, 14.50s/it]\n"
     ]
    }
   ],
   "source": [
    "# Get mutually exclusive gene pairs\n",
    "me_genes = find_mutually_exclusive_genes(ad, markers, ct_col)"
   ]
  },
  {
   "cell_type": "markdown",
   "id": "eed5d5dd-a06a-4d96-acdb-68fbb4a74db6",
   "metadata": {},
   "source": [
    "## Calculate Summary Stats"
   ]
  },
  {
   "cell_type": "code",
   "execution_count": 57,
   "id": "5f9004bd-9c16-4a6b-a4ef-b713365a5f0e",
   "metadata": {
    "execution": {
     "iopub.execute_input": "2024-12-05T17:51:38.074226Z",
     "iopub.status.busy": "2024-12-05T17:51:38.073747Z",
     "iopub.status.idle": "2024-12-05T17:51:38.144842Z",
     "shell.execute_reply": "2024-12-05T17:51:38.144428Z",
     "shell.execute_reply.started": "2024-12-05T17:51:38.074209Z"
    }
   },
   "outputs": [],
   "source": [
    "def get_overlap(\n",
    "    tx,\n",
    "    a_col,\n",
    "    b_col,\n",
    "    mask_col='is_epithelial'\n",
    "):\n",
    "    mask = tx[mask_col]\n",
    "    if 'segger' in a_col:\n",
    "        score_col = a_col.replace('cell_id', 'score')\n",
    "        mask = ~tx[score_col].isna()\n",
    "    counts = tx[mask].value_counts([b_col, a_col])\n",
    "    idx = counts.index.get_level_values(1)\n",
    "    \n",
    "    if 'segger' in a_col:\n",
    "        totals = tx.loc[mask, a_col].value_counts().loc[idx]\n",
    "    else:\n",
    "        totals = tx[a_col].value_counts().loc[idx]\n",
    "    fracs = counts / totals.values\n",
    "    significant = fracs.gt(0.25) & totals.gt(5).values\n",
    "    overlaps = significant.groupby(b_col).sum()\n",
    "    return overlaps"
   ]
  },
  {
   "cell_type": "code",
   "execution_count": 58,
   "id": "2f54a544-56b3-4381-b272-5482b742fc82",
   "metadata": {
    "execution": {
     "iopub.execute_input": "2024-12-05T17:51:41.096288Z",
     "iopub.status.busy": "2024-12-05T17:51:41.095916Z",
     "iopub.status.idle": "2024-12-05T17:51:41.158058Z",
     "shell.execute_reply": "2024-12-05T17:51:41.157675Z",
     "shell.execute_reply.started": "2024-12-05T17:51:41.096273Z"
    }
   },
   "outputs": [],
   "source": [
    "def get_contamination(\n",
    "    tx,\n",
    "    a_col,\n",
    "    b_col,\n",
    "    mask_col='is_epithelial'\n",
    "):\n",
    "    # Only return for epithelial cells\n",
    "    contamination = tx.groupby(a_col)[mask_col].mean()\n",
    "    mask = contamination.gt(0.33)\n",
    "    mask &= tx.groupby(a_col).size().gt(5)\n",
    "    return contamination[mask].dropna()"
   ]
  },
  {
   "cell_type": "code",
   "execution_count": 59,
   "id": "79bb4954-8435-45a9-a6dc-75e33edefb1f",
   "metadata": {
    "execution": {
     "iopub.execute_input": "2024-12-05T17:51:54.040299Z",
     "iopub.status.busy": "2024-12-05T17:51:54.039906Z",
     "iopub.status.idle": "2024-12-05T17:51:54.103869Z",
     "shell.execute_reply": "2024-12-05T17:51:54.103484Z",
     "shell.execute_reply.started": "2024-12-05T17:51:54.040284Z"
    }
   },
   "outputs": [],
   "source": [
    "def get_recall(\n",
    "    tx,\n",
    "    a_col,\n",
    "    b_col,\n",
    "    mask_col='is_epithelial'\n",
    "):\n",
    "    # Calculate all counts\n",
    "    counts_b = tx[b_col].value_counts()\n",
    "    counts = tx.value_counts([a_col, b_col])\n",
    "    gb = counts.groupby(a_col)\n",
    "    idx = counts.index.get_level_values(1)[gb.idxmax()]\n",
    "    counts_b = cudf.Series(counts_b[idx].values, gb.idxmax().index)\n",
    "    counts_b[counts_b.lt(5)] = None\n",
    "\n",
    "    # Calculate recall\n",
    "    intersection = gb.max()\n",
    "    recall = intersection / counts_b.loc[intersection.index]\n",
    "\n",
    "    # Only return for epithelial cells\n",
    "    mask = tx[mask_col].groupby(tx[a_col]).mean().gt(0.33)\n",
    "    return recall[mask.loc[recall.index]].dropna()"
   ]
  },
  {
   "cell_type": "code",
   "execution_count": 60,
   "id": "97f6e8e5-7636-4ac6-b759-bfa9add5ef1e",
   "metadata": {
    "execution": {
     "iopub.execute_input": "2024-12-05T17:51:57.964813Z",
     "iopub.status.busy": "2024-12-05T17:51:57.964542Z",
     "iopub.status.idle": "2024-12-05T17:51:58.027295Z",
     "shell.execute_reply": "2024-12-05T17:51:58.026924Z",
     "shell.execute_reply.started": "2024-12-05T17:51:57.964798Z"
    }
   },
   "outputs": [],
   "source": [
    "def get_jaccard(\n",
    "    tx,\n",
    "    a_col,\n",
    "    b_col,\n",
    "    mask_col='is_epithelial',\n",
    "):\n",
    "    # Calculate all counts\n",
    "    counts_a = tx[a_col].value_counts()\n",
    "    counts_b = tx[b_col].value_counts()\n",
    "    counts = tx.value_counts([a_col, b_col])\n",
    "    gb = counts.groupby(a_col)\n",
    "    idx = counts.index.get_level_values(1)[gb.idxmax()]\n",
    "    counts_b = cudf.Series(counts_b[idx].values, gb.idxmax().index)\n",
    "    counts_a[counts_a.lt(10)] = None\n",
    "    counts_b[counts_b.lt(10)] = None\n",
    "\n",
    "    # Calculate jaccard\n",
    "    intersection = gb.max()\n",
    "    union = counts_a + counts_b - intersection\n",
    "    jaccard = intersection / union\n",
    "\n",
    "    # Only return for epithelial cells\n",
    "    mask = tx[mask_col].groupby(tx[a_col]).mean().gt(0.33)\n",
    "    return jaccard[mask].dropna()"
   ]
  },
  {
   "cell_type": "code",
   "execution_count": 61,
   "id": "6fcab328-b1cf-4144-9330-960956cc095c",
   "metadata": {
    "execution": {
     "iopub.execute_input": "2024-12-05T17:51:58.733696Z",
     "iopub.status.busy": "2024-12-05T17:51:58.733449Z",
     "iopub.status.idle": "2024-12-05T17:51:58.795265Z",
     "shell.execute_reply": "2024-12-05T17:51:58.794889Z",
     "shell.execute_reply.started": "2024-12-05T17:51:58.733682Z"
    }
   },
   "outputs": [],
   "source": [
    "def get_purity(\n",
    "    tx,\n",
    "    a_col,\n",
    "    b_col,\n",
    "    mask_col='is_epithelial',\n",
    "):\n",
    "    # Calculate all counts\n",
    "    counts_a = tx[a_col].value_counts()\n",
    "    counts_a[counts_a.lt(10)] = None\n",
    "    counts = tx.value_counts([a_col, b_col])\n",
    "    gb = counts.groupby(a_col)\n",
    "\n",
    "    # Calculate purity\n",
    "    intersection = gb.max()\n",
    "    purity = intersection / counts_a.loc[intersection.index]\n",
    "\n",
    "    # Only return for epithelial cells\n",
    "    mask = tx[mask_col].groupby(tx[a_col]).mean().gt(0.33)\n",
    "    return purity[mask.loc[purity.index]].dropna()"
   ]
  },
  {
   "cell_type": "code",
   "execution_count": 62,
   "id": "dead9fcb-cfca-4ef1-95c4-3cf090de9929",
   "metadata": {
    "execution": {
     "iopub.execute_input": "2024-12-05T17:51:58.978014Z",
     "iopub.status.busy": "2024-12-05T17:51:58.977763Z",
     "iopub.status.idle": "2024-12-05T17:51:59.037656Z",
     "shell.execute_reply": "2024-12-05T17:51:59.037285Z",
     "shell.execute_reply.started": "2024-12-05T17:51:58.978000Z"
    }
   },
   "outputs": [],
   "source": [
    "def get_no_transcripts(\n",
    "    tx,\n",
    "    a_col,\n",
    "    mask_col='is_epithelial',\n",
    "):\n",
    "    # Calculate all counts\n",
    "    counts_a = tx[a_col].value_counts()\n",
    "\n",
    "    # Only return for epithelial cells\n",
    "    mask = tx[mask_col].groupby(tx[a_col]).mean().gt(0.33)\n",
    "    return counts_a[mask].dropna()"
   ]
  },
  {
   "cell_type": "code",
   "execution_count": 63,
   "id": "c247e965-6eb1-4b13-b645-ebfdfa1cf264",
   "metadata": {
    "execution": {
     "iopub.execute_input": "2024-12-05T17:52:00.130023Z",
     "iopub.status.busy": "2024-12-05T17:52:00.129740Z",
     "iopub.status.idle": "2024-12-05T17:52:00.192586Z",
     "shell.execute_reply": "2024-12-05T17:52:00.192211Z",
     "shell.execute_reply.started": "2024-12-05T17:52:00.130008Z"
    }
   },
   "outputs": [],
   "source": [
    "segmentations = {\n",
    "    'cellpose_cell_id': 'Cellpose',\n",
    "    '10x_cell_id': '10X',\n",
    "    '10x_nucleus_id': '10X Nucleus',\n",
    "    'segger_cell_id_3Q6EISGCD9': 'segger',\n",
    "    'segger_cell_id_HDE46PBXJB': 'segger+',\n",
    "    'baysor_cell_id_c=0.9': 'Baysor, c=0.9',\n",
    "    'baysor_cell_id_c=0.7': 'Baysor, c=0.7',\n",
    "    'baysor_cell_id_c=0.5': 'Baysor',\n",
    "}\n",
    "\n",
    "main_segmentations = [\n",
    "    'Cellpose',\n",
    "    '10X',\n",
    "    '10X Nucleus',\n",
    "    'segger+',\n",
    "    'Baysor',\n",
    "]"
   ]
  },
  {
   "cell_type": "code",
   "execution_count": 64,
   "id": "a731793f-e007-4046-801c-27fa1b674c67",
   "metadata": {
    "execution": {
     "iopub.execute_input": "2024-12-05T17:52:01.915173Z",
     "iopub.status.busy": "2024-12-05T17:52:01.914809Z",
     "iopub.status.idle": "2024-12-05T17:52:44.033254Z",
     "shell.execute_reply": "2024-12-05T17:52:44.032637Z",
     "shell.execute_reply.started": "2024-12-05T17:52:01.915158Z"
    }
   },
   "outputs": [],
   "source": [
    "# Read and filter transcripts\n",
    "transcripts_filepath = data_dir / 'labeled_transcripts.parquet'\n",
    "columns = list(segmentations.keys())\n",
    "columns += [\n",
    "    'cellpose_cell_type',\n",
    "    'segger_score_HDE46PBXJB',\n",
    "    'segger_score_3Q6EISGCD9',\n",
    "    'feature_name'\n",
    "]\n",
    "tx = pd.read_parquet(transcripts_filepath, columns=columns)\n",
    "tx['is_epithelial'] = tx['cellpose_cell_type'].eq('Epithelial/Cancer')"
   ]
  },
  {
   "cell_type": "code",
   "execution_count": 65,
   "id": "25e81717-742e-49c3-bf97-5f81791ca785",
   "metadata": {
    "execution": {
     "iopub.execute_input": "2024-12-05T17:53:09.069930Z",
     "iopub.status.busy": "2024-12-05T17:53:09.069472Z",
     "iopub.status.idle": "2024-12-05T17:54:48.633848Z",
     "shell.execute_reply": "2024-12-05T17:54:48.633303Z",
     "shell.execute_reply.started": "2024-12-05T17:53:09.069912Z"
    }
   },
   "outputs": [
    {
     "name": "stderr",
     "output_type": "stream",
     "text": [
      "100%|██████████| 8/8 [01:39<00:00, 12.41s/it]\n"
     ]
    }
   ],
   "source": [
    "# Calculate metrics\n",
    "metrics = defaultdict(list)\n",
    "\n",
    "targ_col = 'cellpose_cell_id'\n",
    "\n",
    "for pred_col, name in tqdm(segmentations.items()):\n",
    "    \n",
    "    # Read into cuDF for faster ops\n",
    "    columns = list(set([pred_col, targ_col, 'is_epithelial']))\n",
    "    if 'segger' in pred_col:\n",
    "        score_col = pred_col.replace('cell_id', 'score')\n",
    "        columns.append(score_col)\n",
    "    tx_cudf = cudf.from_pandas(tx[columns])\n",
    "    \n",
    "    # Filter low-score transcripts for Segger\n",
    "    if 'segger' in pred_col:\n",
    "        mask = tx_cudf[pred_col.replace('cell_id', 'score')].lt(0.5)\n",
    "        tx_cudf.loc[mask, pred_col] = None\n",
    "    \n",
    "    # Calculate metrics\n",
    "    if 'cellpose' not in pred_col:\n",
    "        # Jaccard\n",
    "        jaccard = get_jaccard(tx_cudf, pred_col, targ_col).to_pandas()\n",
    "        jaccard.name = 'value'\n",
    "        jaccard = pd.DataFrame(jaccard)\n",
    "        jaccard['segmentation'] = name\n",
    "        metrics['jaccard'].append(jaccard)\n",
    "        # Purity\n",
    "        purity = get_purity(tx_cudf, pred_col, targ_col).to_pandas()\n",
    "        purity.name = 'value'\n",
    "        purity = pd.DataFrame(purity)\n",
    "        purity['segmentation'] = name\n",
    "        metrics['purity'].append(purity)\n",
    "        # Recall\n",
    "        recall = get_recall(tx_cudf, pred_col, targ_col).to_pandas()\n",
    "        recall.name = 'value'\n",
    "        recall = pd.DataFrame(recall)\n",
    "        recall['segmentation'] = name\n",
    "        metrics['recall'].append(recall)\n",
    "        # Overlap\n",
    "        overlap = get_overlap(tx_cudf, pred_col, targ_col).to_pandas()\n",
    "        overlap.name = 'value'\n",
    "        overlap = pd.DataFrame(overlap)\n",
    "        overlap['segmentation'] = name\n",
    "        metrics['overlap'].append(overlap)\n",
    "        # Contamination\n",
    "        contam = get_contamination(tx_cudf, pred_col, targ_col).to_pandas()\n",
    "        contam.name = 'value'\n",
    "        contam = pd.DataFrame(contam)\n",
    "        contam['segmentation'] = name\n",
    "        metrics['contam'].append(contam)\n",
    "    \n",
    "    else:\n",
    "        # Jaccard\n",
    "        columns = ['value', 'segmentation']\n",
    "        jaccard = pd.DataFrame([[0, 'Cellpose']], columns=columns)\n",
    "        metrics['jaccard'].append(jaccard)\n",
    "        # Purity\n",
    "        purity = pd.DataFrame([[0, 'Cellpose']], columns=columns)\n",
    "        metrics['purity'].append(purity)\n",
    "        # Recall\n",
    "        recall = pd.DataFrame([[0, 'Cellpose']], columns=columns)\n",
    "        metrics['recall'].append(recall)\n",
    "        # Overlap\n",
    "        overlap = pd.DataFrame([[0, 'Cellpose']], columns=columns)\n",
    "        metrics['overlap'].append(overlap)\n",
    "        # Contamination\n",
    "        contam = pd.DataFrame([[0, 'Cellpose']], columns=columns)\n",
    "        metrics['contam'].append(contam)\n",
    "    \n",
    "    # No. Transcripts\n",
    "    num_tx = get_no_transcripts(tx_cudf, pred_col).to_pandas()\n",
    "    num_tx.name = 'value'\n",
    "    num_tx = pd.DataFrame(num_tx)\n",
    "    num_tx['segmentation'] = name\n",
    "    metrics['num_tx'].append(num_tx)\n",
    "    \n",
    "    # No. Cells\n",
    "    num_cells = dict(name=tx_cudf[pred_col].nunique())\n",
    "    metrics['num_cells'].append(num_cells)"
   ]
  },
  {
   "cell_type": "code",
   "execution_count": 66,
   "id": "5ad9899d-ed0e-489d-b296-32f4e7a3681e",
   "metadata": {
    "execution": {
     "iopub.execute_input": "2024-12-05T17:54:48.635325Z",
     "iopub.status.busy": "2024-12-05T17:54:48.634911Z",
     "iopub.status.idle": "2024-12-05T17:55:11.573799Z",
     "shell.execute_reply": "2024-12-05T17:55:11.573303Z",
     "shell.execute_reply.started": "2024-12-05T17:54:48.635308Z"
    }
   },
   "outputs": [
    {
     "name": "stderr",
     "output_type": "stream",
     "text": [
      "100%|██████████| 7/7 [00:22<00:00,  3.24s/it]\n"
     ]
    }
   ],
   "source": [
    "for metric, d in tqdm(metrics.items()):\n",
    "    if metric != 'num_cells':\n",
    "        df = pd.concat(d, axis=0)\n",
    "        df.to_csv(data_dir / 'metrics' / f'{metric}.csv')"
   ]
  },
  {
   "cell_type": "markdown",
   "id": "a3f94869-ebcf-477c-a905-5a71fa0cc171",
   "metadata": {},
   "source": [
    "## Plot Summary Stats"
   ]
  },
  {
   "cell_type": "code",
   "execution_count": 90,
   "id": "a90353e3-f170-400f-b4c2-e7e83ff65daa",
   "metadata": {
    "execution": {
     "iopub.execute_input": "2024-12-05T18:16:01.970670Z",
     "iopub.status.busy": "2024-12-05T18:16:01.970180Z",
     "iopub.status.idle": "2024-12-05T18:16:10.677910Z",
     "shell.execute_reply": "2024-12-05T18:16:10.677438Z",
     "shell.execute_reply.started": "2024-12-05T18:16:01.970653Z"
    }
   },
   "outputs": [],
   "source": [
    "metrics = dict()\n",
    "for metric in ['contam', 'jaccard', 'overlap', 'purity', 'recall', 'num_tx']:\n",
    "    metrics[metric] = pd.read_csv(\n",
    "        data_dir / 'metrics' / f'{metric}.csv',\n",
    "        index_col=0\n",
    "    )\n",
    "metrics['contam']['value'] = 100 * (1 - metrics['contam']['value'])\n",
    "metrics['contam'].loc['0', 'value'] = 0"
   ]
  },
  {
   "cell_type": "code",
   "execution_count": 97,
   "id": "4e7d6055-2f8c-4545-b1bb-fed9281c0b64",
   "metadata": {
    "execution": {
     "iopub.execute_input": "2024-12-05T18:20:03.694489Z",
     "iopub.status.busy": "2024-12-05T18:20:03.694009Z",
     "iopub.status.idle": "2024-12-05T18:20:03.765231Z",
     "shell.execute_reply": "2024-12-05T18:20:03.764842Z",
     "shell.execute_reply.started": "2024-12-05T18:20:03.694471Z"
    }
   },
   "outputs": [],
   "source": [
    "main_order = ['Cellpose', '10X', '10X Nucleus', 'segger+', 'Baysor']\n",
    "supp_order = [\n",
    "    'Cellpose', '10X', '10X Nucleus',\n",
    "    'segger+', 'segger',\n",
    "    'Baysor', 'Baysor, c=0.7', 'Baysor, c=0.9'\n",
    "]\n",
    "ylims = {\n",
    "    'contam': (0.0, 12.5),\n",
    "    'purity': (0.5, 1.0),\n",
    "    'recall': (0.0, 0.9),\n",
    "    'num_tx': (0, 300),\n",
    "    'overlap': (0, 3.15),\n",
    "    'jaccard': (0, 0.75),\n",
    "}"
   ]
  },
  {
   "cell_type": "markdown",
   "id": "cd68b5a7-a0a9-4a55-94eb-3016c836cece",
   "metadata": {},
   "source": [
    "### Main"
   ]
  },
  {
   "cell_type": "code",
   "execution_count": 101,
   "id": "acc2304f-074d-4399-83ab-d2fef00906c2",
   "metadata": {
    "execution": {
     "iopub.execute_input": "2024-12-05T18:22:15.284365Z",
     "iopub.status.busy": "2024-12-05T18:22:15.284122Z",
     "iopub.status.idle": "2024-12-05T18:22:44.044948Z",
     "shell.execute_reply": "2024-12-05T18:22:44.044445Z",
     "shell.execute_reply.started": "2024-12-05T18:22:15.284350Z"
    }
   },
   "outputs": [
    {
     "name": "stderr",
     "output_type": "stream",
     "text": [
      "100%|██████████| 6/6 [00:28<00:00,  4.78s/it]\n"
     ]
    }
   ],
   "source": [
    "order = main_order\n",
    "palette = [to_rgba(named_colors[o]) for o in order]\n",
    "styles = dict(saturation=0.9, capsize=0.3, width=0.6, palette=palette)\n",
    "\n",
    "for metric, df in tqdm(metrics.items()):\n",
    "    df = df[df['segmentation'].isin(order)]\n",
    "    fig, ax = plt.subplots(1, 1, figsize=(1.1, 1.1))\n",
    "    sns.barplot(\n",
    "        df,\n",
    "        x='segmentation',\n",
    "        y='value',\n",
    "        errorbar=('pi', 50),\n",
    "        order=order,\n",
    "        err_kws=dict(linewidth=0.5, alpha=0.75, color='k'),\n",
    "        ax=ax,\n",
    "        linewidth=0,\n",
    "        **styles,\n",
    "    )\n",
    "    ax.tick_params(labelsize=7)\n",
    "    tickstyles = dict(ha='right', va='top', rotation=45, rotation_mode=\"anchor\")\n",
    "    ax.set_xticklabels(ax.get_xticklabels(), **tickstyles)\n",
    "    ax.set_xlabel('')\n",
    "    ax.set_ylabel('')\n",
    "    ax.set_ylim(ylims[metric])\n",
    "    fig.savefig(media_dir / f'{metric}_main.svg')\n",
    "    plt.close()"
   ]
  },
  {
   "cell_type": "markdown",
   "id": "adb7e8a4-fe26-41dd-b60b-3febf3e4b151",
   "metadata": {},
   "source": [
    "### Supplementary"
   ]
  },
  {
   "cell_type": "code",
   "execution_count": 102,
   "id": "b295d764-a324-46aa-9c5f-bde61c2f0b3e",
   "metadata": {
    "execution": {
     "iopub.execute_input": "2024-12-05T18:22:44.046210Z",
     "iopub.status.busy": "2024-12-05T18:22:44.045874Z",
     "iopub.status.idle": "2024-12-05T18:23:41.561689Z",
     "shell.execute_reply": "2024-12-05T18:23:41.561192Z",
     "shell.execute_reply.started": "2024-12-05T18:22:44.046194Z"
    }
   },
   "outputs": [
    {
     "name": "stderr",
     "output_type": "stream",
     "text": [
      "100%|██████████| 6/6 [00:57<00:00,  9.57s/it]\n"
     ]
    }
   ],
   "source": [
    "order = supp_order\n",
    "palette = [to_rgba(named_colors[o]) for o in order]\n",
    "styles = dict(saturation=0.9, capsize=0.3, width=0.6, palette=palette)\n",
    "\n",
    "for metric, df in tqdm(metrics.items()):\n",
    "    df = df[df['segmentation'].isin(order)]\n",
    "    fig, ax = plt.subplots(1, 1, figsize=(1.75, 1.1))\n",
    "    sns.barplot(\n",
    "        df,\n",
    "        x='segmentation',\n",
    "        y='value',\n",
    "        errorbar=('pi', 50),\n",
    "        order=order,\n",
    "        err_kws=dict(linewidth=0.5, alpha=0.75, color='k'),\n",
    "        ax=ax,\n",
    "        linewidth=0,\n",
    "        **styles,\n",
    "    )\n",
    "    ax.tick_params(labelsize=7)\n",
    "    tickstyles = dict(ha='right', va='top', rotation=45, rotation_mode=\"anchor\")\n",
    "    ax.set_xticklabels(ax.get_xticklabels(), **tickstyles)\n",
    "    ax.set_xlabel('')\n",
    "    ax.set_ylabel('')\n",
    "    ax.set_ylim(ylims[metric])\n",
    "    fig.savefig(media_dir / f'{metric}_supp.svg')\n",
    "    plt.close()"
   ]
  },
  {
   "cell_type": "code",
   "execution_count": null,
   "id": "974ecdd1-a0bc-4151-9f2e-bba5a51e4764",
   "metadata": {},
   "outputs": [],
   "source": [
    "\n",
    "\n",
    "\n",
    "\n",
    "\n",
    "\n",
    "\n",
    "\n",
    "\n",
    "\n",
    "\n",
    "\n",
    "\n",
    "\n",
    "\n",
    "\n",
    "\n",
    "\n",
    "\n",
    "\n",
    "\n",
    "\n",
    "\n",
    "\n",
    "\n",
    "\n",
    "\n",
    "\n",
    "\n",
    "\n",
    "\n",
    "\n",
    "\n",
    "\n",
    "\n",
    "\n",
    "\n",
    "\n",
    "\n",
    "\n",
    "\n",
    "\n",
    "\n",
    "\n",
    "\n",
    "\n",
    "\n",
    "\n",
    "\n",
    "\n",
    "\n",
    "\n",
    "\n",
    "\n",
    "\n"
   ]
  }
 ],
 "metadata": {
  "kernelspec": {
   "display_name": "Python 3 (ipykernel)",
   "language": "python",
   "name": "python3"
  },
  "language_info": {
   "codemirror_mode": {
    "name": "ipython",
    "version": 3
   },
   "file_extension": ".py",
   "mimetype": "text/x-python",
   "name": "python",
   "nbconvert_exporter": "python",
   "pygments_lexer": "ipython3",
   "version": "3.11.9"
  }
 },
 "nbformat": 4,
 "nbformat_minor": 5
}
