{
 "cells": [
  {
   "cell_type": "code",
   "execution_count": 13,
   "id": "8a702f5e-e4d0-4634-9643-a7f84325b083",
   "metadata": {
    "execution": {
     "iopub.execute_input": "2024-11-27T01:34:07.130380Z",
     "iopub.status.busy": "2024-11-27T01:34:07.130049Z",
     "iopub.status.idle": "2024-11-27T01:34:07.144476Z",
     "shell.execute_reply": "2024-11-27T01:34:07.143992Z",
     "shell.execute_reply.started": "2024-11-27T01:34:07.130364Z"
    }
   },
   "outputs": [
    {
     "ename": "ImportError",
     "evalue": "cannot import name 'cond' from 'torch' (/lilac/data/peer/moormana/.micromamba/envs/segger-rapids-11.8/lib/python3.11/site-packages/torch/__init__.py)",
     "output_type": "error",
     "traceback": [
      "\u001b[0;31m---------------------------------------------------------------------------\u001b[0m",
      "\u001b[0;31mImportError\u001b[0m                               Traceback (most recent call last)",
      "Cell \u001b[0;32mIn[13], line 5\u001b[0m\n\u001b[1;32m      3\u001b[0m \u001b[38;5;28;01mfrom\u001b[39;00m \u001b[38;5;21;01mtorch_geometric\u001b[39;00m\u001b[38;5;21;01m.\u001b[39;00m\u001b[38;5;21;01mdata\u001b[39;00m \u001b[38;5;28;01mimport\u001b[39;00m HeteroData\n\u001b[1;32m      4\u001b[0m \u001b[38;5;28;01mfrom\u001b[39;00m \u001b[38;5;21;01mtorch_geometric\u001b[39;00m \u001b[38;5;28;01mimport\u001b[39;00m EdgeIndex\n\u001b[0;32m----> 5\u001b[0m \u001b[38;5;28;01mfrom\u001b[39;00m \u001b[38;5;21;01mtorch\u001b[39;00m \u001b[38;5;28;01mimport\u001b[39;00m Tensor, cond\n\u001b[1;32m      6\u001b[0m \u001b[38;5;28;01mfrom\u001b[39;00m \u001b[38;5;21;01mtorch\u001b[39;00m\u001b[38;5;21;01m.\u001b[39;00m\u001b[38;5;21;01mnn\u001b[39;00m \u001b[38;5;28;01mimport\u001b[39;00m Embedding\n\u001b[1;32m      8\u001b[0m \u001b[38;5;28;01mfrom\u001b[39;00m \u001b[38;5;21;01mtorch_geometric\u001b[39;00m\u001b[38;5;21;01m.\u001b[39;00m\u001b[38;5;21;01mnn\u001b[39;00m \u001b[38;5;28;01mimport\u001b[39;00m GATv2Conv, Linear, to_hetero\n",
      "\u001b[0;31mImportError\u001b[0m: cannot import name 'cond' from 'torch' (/lilac/data/peer/moormana/.micromamba/envs/segger-rapids-11.8/lib/python3.11/site-packages/torch/__init__.py)"
     ]
    }
   ],
   "source": [
    "import torch\n",
    "import torch_geometric\n",
    "from torch_geometric.data import HeteroData\n",
    "from torch_geometric import EdgeIndex\n",
    "from torch import Tensor, cond\n",
    "from torch.nn import Embedding\n",
    "\n",
    "from torch_geometric.nn import GATv2Conv, Linear, to_hetero"
   ]
  },
  {
   "cell_type": "code",
   "execution_count": 3,
   "id": "4790118d-e9df-4701-8084-c2cb8225c1e5",
   "metadata": {
    "execution": {
     "iopub.execute_input": "2024-11-27T01:15:19.643625Z",
     "iopub.status.busy": "2024-11-27T01:15:19.643218Z",
     "iopub.status.idle": "2024-11-27T01:15:19.650945Z",
     "shell.execute_reply": "2024-11-27T01:15:19.650561Z",
     "shell.execute_reply.started": "2024-11-27T01:15:19.643610Z"
    }
   },
   "outputs": [],
   "source": [
    "data = HeteroData()\n",
    "data['a'].x = torch.randint(10, (5, 1))\n",
    "data['b'].x = torch.randn(5, 10)\n",
    "for dest in ['a', 'b']:\n",
    "    edges = torch.combinations(torch.arange(5), with_replacement=True)\n",
    "    idx = torch.randperm(edges.shape[0])[:8]\n",
    "    data['a', 'to', dest].edge_index = EdgeIndex(edges[idx].T.contiguous())"
   ]
  },
  {
   "cell_type": "code",
   "execution_count": 9,
   "id": "a84ce9e5-6265-4a73-8513-33d8d06227ef",
   "metadata": {
    "execution": {
     "iopub.execute_input": "2024-11-27T01:20:16.666175Z",
     "iopub.status.busy": "2024-11-27T01:20:16.665823Z",
     "iopub.status.idle": "2024-11-27T01:20:16.670434Z",
     "shell.execute_reply": "2024-11-27T01:20:16.670058Z",
     "shell.execute_reply.started": "2024-11-27T01:20:16.666159Z"
    }
   },
   "outputs": [],
   "source": [
    "class TestGAT_v1(torch.nn.Module):\n",
    "    def __init__(\n",
    "        self,\n",
    "        num_tokens: int = 10,\n",
    "        num_layers: int = 4,\n",
    "        num_heads: int = 2,\n",
    "        in_channels: int = 3,\n",
    "        hidden_channels: int = 6,\n",
    "        out_channels: int = 2,\n",
    "    ):\n",
    "        #TODO: add documentation\n",
    "        super().__init__()\n",
    "\n",
    "        # Initial embedding per node type\n",
    "        self.lin_dict = torch.nn.ModuleDict()\n",
    "        self.lin_dict['a'] = Embedding(num_tokens, in_channels)\n",
    "        self.lin_dict['b'] = Linear(-1, in_channels)\n",
    "\n",
    "        # GAT layers\n",
    "        self.convs = torch.nn.ModuleList()\n",
    "        for _ in range(num_layers):\n",
    "            conv = GATv2Conv(\n",
    "                in_channels=(-1, -1),\n",
    "                out_channels=hidden_channels,\n",
    "                heads=num_heads,\n",
    "                add_self_loops=False\n",
    "            )\n",
    "            self.convs.append(conv)\n",
    "\n",
    "        # Project to out dimension\n",
    "        self.lin = Linear(hidden_channels, out_channels)\n",
    "\n",
    "    def forward(self, x_dict: Tensor, edge_index_dict: Tensor) -> Tensor:\n",
    "        \"\"\"\n",
    "        Forward pass for the Segger model.\n",
    "\n",
    "        Args:\n",
    "            x (Tensor): Node features.\n",
    "            edge_index (Tensor): Edge indices.\n",
    "\n",
    "        Returns:\n",
    "            Tensor: Output node embeddings.\n",
    "        \"\"\"\n",
    "        return x_dict"
   ]
  },
  {
   "cell_type": "code",
   "execution_count": 11,
   "id": "bded2727-c083-4df1-a655-cb2e597a3206",
   "metadata": {
    "execution": {
     "iopub.execute_input": "2024-11-27T01:33:41.458352Z",
     "iopub.status.busy": "2024-11-27T01:33:41.457990Z",
     "iopub.status.idle": "2024-11-27T01:33:41.464083Z",
     "shell.execute_reply": "2024-11-27T01:33:41.463679Z",
     "shell.execute_reply.started": "2024-11-27T01:33:41.458336Z"
    }
   },
   "outputs": [],
   "source": [
    "class TestGAT_v2(torch.nn.Module):\n",
    "    def __init__(\n",
    "        self,\n",
    "        num_tokens: int = 10,\n",
    "        num_layers: int = 4,\n",
    "        num_heads: int = 2,\n",
    "        in_channels: int = 3,\n",
    "        hidden_channels: int = 6,\n",
    "        out_channels: int = 2,\n",
    "    ):\n",
    "        #TODO: add documentation\n",
    "        super().__init__()\n",
    "\n",
    "        # Embedding for 'tx' (transcript) nodes\n",
    "        self.emb = Embedding(num_tokens, in_channels)\n",
    "\n",
    "        # Linear layer for boundary (non-token) nodes\n",
    "        self.lin = Linear(-1, in_channels, bias=False)\n",
    "\n",
    "        # GAT layers\n",
    "        self.convs = torch.nn.ModuleList()\n",
    "        for _ in range(num_layers):\n",
    "            conv = GATv2Conv(\n",
    "                in_channels=(-1, -1),\n",
    "                out_channels=hidden_channels,\n",
    "                heads=num_heads,\n",
    "                add_self_loops=False\n",
    "            )\n",
    "            self.convs.append(conv)\n",
    "\n",
    "        # Project to out dimension\n",
    "        self.out = Linear(hidden_channels, out_channels)\n",
    "\n",
    "    def forward(self, x: Tensor, edge_index: Tensor) -> Tensor:\n",
    "        \"\"\"\n",
    "        Forward pass for the Segger model.\n",
    "\n",
    "        Args:\n",
    "            x (Tensor): Node features.\n",
    "            edge_index (Tensor): Edge indices.\n",
    "\n",
    "        Returns:\n",
    "            Tensor: Output node embeddings.\n",
    "        \"\"\"\n",
    "        \n",
    "        \n",
    "        def emb_fn(x: torch.Tensor):\n",
    "            return self.emb(x.int())\n",
    "        def lin_fn(x: torch.Tensor):\n",
    "            return self.lin(x.float())\n",
    "\n",
    "        is_1d = (x.ndim == 1).float()\n",
    "        x = x[:, None]\n",
    "        x = torch.cond(is_1d, emb_fn, lin_fn, x)\n",
    "        x = x.squeeze()\n",
    "        \n",
    "        # All but final layer\n",
    "        for conv in self.convs[:-1]:\n",
    "            x = conv(x, edge_index)\n",
    "            x = x.relu()\n",
    "\n",
    "        # Last layer\n",
    "        x = self.convs[-1](x, edge_index)\n",
    "        x = self.out(x)\n",
    "\n",
    "        return x"
   ]
  },
  {
   "cell_type": "code",
   "execution_count": 12,
   "id": "f54dd491-4774-40ca-88aa-85af0244eda4",
   "metadata": {
    "execution": {
     "iopub.execute_input": "2024-11-27T01:33:47.185664Z",
     "iopub.status.busy": "2024-11-27T01:33:47.185296Z",
     "iopub.status.idle": "2024-11-27T01:33:47.569638Z",
     "shell.execute_reply": "2024-11-27T01:33:47.569072Z",
     "shell.execute_reply.started": "2024-11-27T01:33:47.185649Z"
    }
   },
   "outputs": [
    {
     "ename": "AttributeError",
     "evalue": "module 'torch' has no attribute 'cond'",
     "output_type": "error",
     "traceback": [
      "\u001b[0;31m---------------------------------------------------------------------------\u001b[0m",
      "\u001b[0;31mAttributeError\u001b[0m                            Traceback (most recent call last)",
      "Cell \u001b[0;32mIn[12], line 1\u001b[0m\n\u001b[0;32m----> 1\u001b[0m \u001b[43mto_hetero\u001b[49m\u001b[43m(\u001b[49m\u001b[43mTestGAT_v2\u001b[49m\u001b[43m(\u001b[49m\u001b[43m)\u001b[49m\u001b[43m,\u001b[49m\u001b[43m \u001b[49m\u001b[43mdata\u001b[49m\u001b[38;5;241;43m.\u001b[39;49m\u001b[43mmetadata\u001b[49m\u001b[43m(\u001b[49m\u001b[43m)\u001b[49m\u001b[43m)\u001b[49m\u001b[38;5;241m.\u001b[39mforward\n",
      "File \u001b[0;32m/lilac/data/peer/moormana/.micromamba/envs/segger-rapids-11.8/lib/python3.11/site-packages/torch_geometric/nn/to_hetero_transformer.py:119\u001b[0m, in \u001b[0;36mto_hetero\u001b[0;34m(module, metadata, aggr, input_map, debug)\u001b[0m\n\u001b[1;32m     27\u001b[0m \u001b[38;5;28;01mdef\u001b[39;00m \u001b[38;5;21mto_hetero\u001b[39m(module: Module, metadata: Metadata, aggr: \u001b[38;5;28mstr\u001b[39m \u001b[38;5;241m=\u001b[39m \u001b[38;5;124m\"\u001b[39m\u001b[38;5;124msum\u001b[39m\u001b[38;5;124m\"\u001b[39m,\n\u001b[1;32m     28\u001b[0m               input_map: Optional[Dict[\u001b[38;5;28mstr\u001b[39m, \u001b[38;5;28mstr\u001b[39m]] \u001b[38;5;241m=\u001b[39m \u001b[38;5;28;01mNone\u001b[39;00m,\n\u001b[1;32m     29\u001b[0m               debug: \u001b[38;5;28mbool\u001b[39m \u001b[38;5;241m=\u001b[39m \u001b[38;5;28;01mFalse\u001b[39;00m) \u001b[38;5;241m-\u001b[39m\u001b[38;5;241m>\u001b[39m GraphModule:\n\u001b[1;32m     30\u001b[0m \u001b[38;5;250m    \u001b[39m\u001b[38;5;124mr\u001b[39m\u001b[38;5;124;03m\"\"\"Converts a homogeneous GNN model into its heterogeneous equivalent in\u001b[39;00m\n\u001b[1;32m     31\u001b[0m \u001b[38;5;124;03m    which node representations are learned for each node type in\u001b[39;00m\n\u001b[1;32m     32\u001b[0m \u001b[38;5;124;03m    :obj:`metadata[0]`, and messages are exchanged between each edge type in\u001b[39;00m\n\u001b[0;32m   (...)\u001b[0m\n\u001b[1;32m    117\u001b[0m \u001b[38;5;124;03m            transformation in debug mode. (default: :obj:`False`)\u001b[39;00m\n\u001b[1;32m    118\u001b[0m \u001b[38;5;124;03m    \"\"\"\u001b[39;00m\n\u001b[0;32m--> 119\u001b[0m     transformer \u001b[38;5;241m=\u001b[39m \u001b[43mToHeteroTransformer\u001b[49m\u001b[43m(\u001b[49m\u001b[43mmodule\u001b[49m\u001b[43m,\u001b[49m\u001b[43m \u001b[49m\u001b[43mmetadata\u001b[49m\u001b[43m,\u001b[49m\u001b[43m \u001b[49m\u001b[43maggr\u001b[49m\u001b[43m,\u001b[49m\u001b[43m \u001b[49m\u001b[43minput_map\u001b[49m\u001b[43m,\u001b[49m\u001b[43m \u001b[49m\u001b[43mdebug\u001b[49m\u001b[43m)\u001b[49m\n\u001b[1;32m    120\u001b[0m     \u001b[38;5;28;01mreturn\u001b[39;00m transformer\u001b[38;5;241m.\u001b[39mtransform()\n",
      "File \u001b[0;32m/lilac/data/peer/moormana/.micromamba/envs/segger-rapids-11.8/lib/python3.11/site-packages/torch_geometric/nn/to_hetero_transformer.py:143\u001b[0m, in \u001b[0;36mToHeteroTransformer.__init__\u001b[0;34m(self, module, metadata, aggr, input_map, debug)\u001b[0m\n\u001b[1;32m    135\u001b[0m \u001b[38;5;28;01mdef\u001b[39;00m \u001b[38;5;21m__init__\u001b[39m(\n\u001b[1;32m    136\u001b[0m     \u001b[38;5;28mself\u001b[39m,\n\u001b[1;32m    137\u001b[0m     module: Module,\n\u001b[0;32m   (...)\u001b[0m\n\u001b[1;32m    141\u001b[0m     debug: \u001b[38;5;28mbool\u001b[39m \u001b[38;5;241m=\u001b[39m \u001b[38;5;28;01mFalse\u001b[39;00m,\n\u001b[1;32m    142\u001b[0m ):\n\u001b[0;32m--> 143\u001b[0m     \u001b[38;5;28;43msuper\u001b[39;49m\u001b[43m(\u001b[49m\u001b[43m)\u001b[49m\u001b[38;5;241;43m.\u001b[39;49m\u001b[38;5;21;43m__init__\u001b[39;49m\u001b[43m(\u001b[49m\u001b[43mmodule\u001b[49m\u001b[43m,\u001b[49m\u001b[43m \u001b[49m\u001b[43minput_map\u001b[49m\u001b[43m,\u001b[49m\u001b[43m \u001b[49m\u001b[43mdebug\u001b[49m\u001b[43m)\u001b[49m\n\u001b[1;32m    145\u001b[0m     \u001b[38;5;28mself\u001b[39m\u001b[38;5;241m.\u001b[39mmetadata \u001b[38;5;241m=\u001b[39m metadata\n\u001b[1;32m    146\u001b[0m     \u001b[38;5;28mself\u001b[39m\u001b[38;5;241m.\u001b[39maggr \u001b[38;5;241m=\u001b[39m aggr\n",
      "File \u001b[0;32m/lilac/data/peer/moormana/.micromamba/envs/segger-rapids-11.8/lib/python3.11/site-packages/torch_geometric/nn/fx.py:74\u001b[0m, in \u001b[0;36mTransformer.__init__\u001b[0;34m(self, module, input_map, debug)\u001b[0m\n\u001b[1;32m     67\u001b[0m \u001b[38;5;28;01mdef\u001b[39;00m \u001b[38;5;21m__init__\u001b[39m(\n\u001b[1;32m     68\u001b[0m     \u001b[38;5;28mself\u001b[39m,\n\u001b[1;32m     69\u001b[0m     module: Module,\n\u001b[1;32m     70\u001b[0m     input_map: Optional[Dict[\u001b[38;5;28mstr\u001b[39m, \u001b[38;5;28mstr\u001b[39m]] \u001b[38;5;241m=\u001b[39m \u001b[38;5;28;01mNone\u001b[39;00m,\n\u001b[1;32m     71\u001b[0m     debug: \u001b[38;5;28mbool\u001b[39m \u001b[38;5;241m=\u001b[39m \u001b[38;5;28;01mFalse\u001b[39;00m,\n\u001b[1;32m     72\u001b[0m ):\n\u001b[1;32m     73\u001b[0m     \u001b[38;5;28mself\u001b[39m\u001b[38;5;241m.\u001b[39mmodule \u001b[38;5;241m=\u001b[39m module\n\u001b[0;32m---> 74\u001b[0m     \u001b[38;5;28mself\u001b[39m\u001b[38;5;241m.\u001b[39mgm \u001b[38;5;241m=\u001b[39m \u001b[43msymbolic_trace\u001b[49m\u001b[43m(\u001b[49m\u001b[43mmodule\u001b[49m\u001b[43m)\u001b[49m\n\u001b[1;32m     75\u001b[0m     \u001b[38;5;28mself\u001b[39m\u001b[38;5;241m.\u001b[39minput_map \u001b[38;5;241m=\u001b[39m input_map\n\u001b[1;32m     76\u001b[0m     \u001b[38;5;28mself\u001b[39m\u001b[38;5;241m.\u001b[39mdebug \u001b[38;5;241m=\u001b[39m debug\n",
      "File \u001b[0;32m/lilac/data/peer/moormana/.micromamba/envs/segger-rapids-11.8/lib/python3.11/site-packages/torch_geometric/nn/fx.py:375\u001b[0m, in \u001b[0;36msymbolic_trace\u001b[0;34m(module, concrete_args)\u001b[0m\n\u001b[1;32m    371\u001b[0m         \u001b[38;5;28mself\u001b[39m\u001b[38;5;241m.\u001b[39msubmodule_paths \u001b[38;5;241m=\u001b[39m \u001b[38;5;28;01mNone\u001b[39;00m\n\u001b[1;32m    373\u001b[0m         \u001b[38;5;28;01mreturn\u001b[39;00m \u001b[38;5;28mself\u001b[39m\u001b[38;5;241m.\u001b[39mgraph\n\u001b[0;32m--> 375\u001b[0m \u001b[38;5;28;01mreturn\u001b[39;00m GraphModule(module, \u001b[43mTracer\u001b[49m\u001b[43m(\u001b[49m\u001b[43m)\u001b[49m\u001b[38;5;241;43m.\u001b[39;49m\u001b[43mtrace\u001b[49m\u001b[43m(\u001b[49m\u001b[43mmodule\u001b[49m\u001b[43m,\u001b[49m\u001b[43m \u001b[49m\u001b[43mconcrete_args\u001b[49m\u001b[43m)\u001b[49m)\n",
      "File \u001b[0;32m/lilac/data/peer/moormana/.micromamba/envs/segger-rapids-11.8/lib/python3.11/site-packages/torch_geometric/nn/fx.py:368\u001b[0m, in \u001b[0;36msymbolic_trace.<locals>.Tracer.trace\u001b[0;34m(self, root, concrete_args)\u001b[0m\n\u001b[1;32m    364\u001b[0m     \u001b[38;5;28;01mfor\u001b[39;00m module \u001b[38;5;129;01min\u001b[39;00m \u001b[38;5;28mself\u001b[39m\u001b[38;5;241m.\u001b[39m_autowrap_search:\n\u001b[1;32m    365\u001b[0m         st\u001b[38;5;241m.\u001b[39m_autowrap_check(patcher, module\u001b[38;5;241m.\u001b[39m\u001b[38;5;18m__dict__\u001b[39m,\n\u001b[1;32m    366\u001b[0m                            \u001b[38;5;28mself\u001b[39m\u001b[38;5;241m.\u001b[39m_autowrap_function_ids)\n\u001b[1;32m    367\u001b[0m     \u001b[38;5;28mself\u001b[39m\u001b[38;5;241m.\u001b[39mcreate_node(\n\u001b[0;32m--> 368\u001b[0m         \u001b[38;5;124m'\u001b[39m\u001b[38;5;124moutput\u001b[39m\u001b[38;5;124m'\u001b[39m, \u001b[38;5;124m'\u001b[39m\u001b[38;5;124moutput\u001b[39m\u001b[38;5;124m'\u001b[39m, (\u001b[38;5;28mself\u001b[39m\u001b[38;5;241m.\u001b[39mcreate_arg(\u001b[43mfn\u001b[49m\u001b[43m(\u001b[49m\u001b[38;5;241;43m*\u001b[39;49m\u001b[43margs\u001b[49m\u001b[43m)\u001b[49m), ), {},\n\u001b[1;32m    369\u001b[0m         type_expr\u001b[38;5;241m=\u001b[39mfn\u001b[38;5;241m.\u001b[39m\u001b[38;5;18m__annotations__\u001b[39m\u001b[38;5;241m.\u001b[39mget(\u001b[38;5;124m'\u001b[39m\u001b[38;5;124mreturn\u001b[39m\u001b[38;5;124m'\u001b[39m, \u001b[38;5;28;01mNone\u001b[39;00m))\n\u001b[1;32m    371\u001b[0m \u001b[38;5;28mself\u001b[39m\u001b[38;5;241m.\u001b[39msubmodule_paths \u001b[38;5;241m=\u001b[39m \u001b[38;5;28;01mNone\u001b[39;00m\n\u001b[1;32m    373\u001b[0m \u001b[38;5;28;01mreturn\u001b[39;00m \u001b[38;5;28mself\u001b[39m\u001b[38;5;241m.\u001b[39mgraph\n",
      "Cell \u001b[0;32mIn[11], line 54\u001b[0m, in \u001b[0;36mTestGAT_v2.forward\u001b[0;34m(self, x, edge_index)\u001b[0m\n\u001b[1;32m     52\u001b[0m is_1d \u001b[38;5;241m=\u001b[39m (x\u001b[38;5;241m.\u001b[39mndim \u001b[38;5;241m==\u001b[39m \u001b[38;5;241m1\u001b[39m)\u001b[38;5;241m.\u001b[39mfloat()\n\u001b[1;32m     53\u001b[0m x \u001b[38;5;241m=\u001b[39m x[:, \u001b[38;5;28;01mNone\u001b[39;00m]\n\u001b[0;32m---> 54\u001b[0m x \u001b[38;5;241m=\u001b[39m \u001b[43mtorch\u001b[49m\u001b[38;5;241;43m.\u001b[39;49m\u001b[43mcond\u001b[49m(is_1d, emb_fn, lin_fn, x)\n\u001b[1;32m     55\u001b[0m x \u001b[38;5;241m=\u001b[39m x\u001b[38;5;241m.\u001b[39msqueeze()\n\u001b[1;32m     57\u001b[0m \u001b[38;5;66;03m# All but final layer\u001b[39;00m\n",
      "File \u001b[0;32m/lilac/data/peer/moormana/.micromamba/envs/segger-rapids-11.8/lib/python3.11/site-packages/torch/__init__.py:1833\u001b[0m, in \u001b[0;36m__getattr__\u001b[0;34m(name)\u001b[0m\n\u001b[1;32m   1830\u001b[0m     \u001b[38;5;28;01mimport\u001b[39;00m \u001b[38;5;21;01mimportlib\u001b[39;00m\n\u001b[1;32m   1831\u001b[0m     \u001b[38;5;28;01mreturn\u001b[39;00m importlib\u001b[38;5;241m.\u001b[39mimport_module(\u001b[38;5;124mf\u001b[39m\u001b[38;5;124m\"\u001b[39m\u001b[38;5;124m.\u001b[39m\u001b[38;5;132;01m{\u001b[39;00mname\u001b[38;5;132;01m}\u001b[39;00m\u001b[38;5;124m\"\u001b[39m, \u001b[38;5;18m__name__\u001b[39m)\n\u001b[0;32m-> 1833\u001b[0m \u001b[38;5;28;01mraise\u001b[39;00m \u001b[38;5;167;01mAttributeError\u001b[39;00m(\u001b[38;5;124mf\u001b[39m\u001b[38;5;124m\"\u001b[39m\u001b[38;5;124mmodule \u001b[39m\u001b[38;5;124m'\u001b[39m\u001b[38;5;132;01m{\u001b[39;00m\u001b[38;5;18m__name__\u001b[39m\u001b[38;5;132;01m}\u001b[39;00m\u001b[38;5;124m'\u001b[39m\u001b[38;5;124m has no attribute \u001b[39m\u001b[38;5;124m'\u001b[39m\u001b[38;5;132;01m{\u001b[39;00mname\u001b[38;5;132;01m}\u001b[39;00m\u001b[38;5;124m'\u001b[39m\u001b[38;5;124m\"\u001b[39m)\n",
      "\u001b[0;31mAttributeError\u001b[0m: module 'torch' has no attribute 'cond'"
     ]
    }
   ],
   "source": [
    "to_hetero(TestGAT_v2(), data.metadata()).forward"
   ]
  },
  {
   "cell_type": "code",
   "execution_count": null,
   "id": "a16c81d7-89ee-45a8-ba55-de565cb8486b",
   "metadata": {},
   "outputs": [],
   "source": []
  }
 ],
 "metadata": {
  "kernelspec": {
   "display_name": "Python 3 (ipykernel)",
   "language": "python",
   "name": "python3"
  },
  "language_info": {
   "codemirror_mode": {
    "name": "ipython",
    "version": 3
   },
   "file_extension": ".py",
   "mimetype": "text/x-python",
   "name": "python",
   "nbconvert_exporter": "python",
   "pygments_lexer": "ipython3",
   "version": "3.11.9"
  }
 },
 "nbformat": 4,
 "nbformat_minor": 5
}
