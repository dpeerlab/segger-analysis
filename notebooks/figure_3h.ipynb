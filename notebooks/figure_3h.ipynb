{
 "cells": [
  {
   "cell_type": "markdown",
   "id": "a8e6fc05-42e9-44f6-9647-b1ff7a57dacd",
   "metadata": {},
   "source": [
    "# Figure 3h"
   ]
  },
  {
   "cell_type": "code",
   "execution_count": 1,
   "id": "29e65e1c-7052-471c-9002-7745b6bbfa71",
   "metadata": {
    "execution": {
     "iopub.execute_input": "2024-11-04T00:15:40.176995Z",
     "iopub.status.busy": "2024-11-04T00:15:40.176862Z",
     "iopub.status.idle": "2024-11-04T00:15:40.208921Z",
     "shell.execute_reply": "2024-11-04T00:15:40.208372Z",
     "shell.execute_reply.started": "2024-11-04T00:15:40.176981Z"
    }
   },
   "outputs": [],
   "source": [
    "%load_ext autoreload\n",
    "%autoreload 2"
   ]
  },
  {
   "cell_type": "code",
   "execution_count": 179,
   "id": "2effdc3a-5867-45ab-93d2-f3613077847c",
   "metadata": {
    "execution": {
     "iopub.execute_input": "2024-11-04T01:00:21.203407Z",
     "iopub.status.busy": "2024-11-04T01:00:21.203004Z",
     "iopub.status.idle": "2024-11-04T01:00:21.278840Z",
     "shell.execute_reply": "2024-11-04T01:00:21.278357Z",
     "shell.execute_reply.started": "2024-11-04T01:00:21.203388Z"
    }
   },
   "outputs": [],
   "source": [
    "from requirements import *\n",
    "from segger.data.parquet._utils import (\n",
    "    filter_transcripts,\n",
    "    load_settings,\n",
    ")\n",
    "from sg_utils.tl.xenium_utils import anndata_from_transcripts\n",
    "from sg_utils.pp.preprocess_rapids import preprocess_rapids\n",
    "from sg_utils.pl.plot_embedding import plot_embedding\n",
    "from sg_utils.pl.plot_volcano import plot_volcano\n",
    "from sg_utils.pl.utils import lighten_color\n",
    "from sklearn.metrics import adjusted_rand_score"
   ]
  },
  {
   "cell_type": "markdown",
   "id": "63a36961-c545-49d8-a5c1-3150e45af34a",
   "metadata": {},
   "source": [
    "## Get cell consistencies for signaling pathways"
   ]
  },
  {
   "cell_type": "code",
   "execution_count": 3,
   "id": "e88d66e5-272b-4976-a6a6-8dce12096951",
   "metadata": {
    "execution": {
     "iopub.execute_input": "2024-11-04T00:16:59.724778Z",
     "iopub.status.busy": "2024-11-04T00:16:59.724445Z",
     "iopub.status.idle": "2024-11-04T00:17:28.400001Z",
     "shell.execute_reply": "2024-11-04T00:17:28.399568Z",
     "shell.execute_reply.started": "2024-11-04T00:16:59.724752Z"
    }
   },
   "outputs": [],
   "source": [
    "# Read in all transcripts\n",
    "tenx_col = '10x_nucleus_id'\n",
    "segger_col = 'segger_cell_id_HDE46PBXJB'\n",
    "baysor_col = 'baysor_cell_id_c=0.5'\n",
    "cellpose_col = 'cellpose_cell_id'\n",
    "\n",
    "transcripts = cudf.read_parquet(\n",
    "    data_dir / 'labeled_transcripts.parquet',\n",
    "    filters=[[('cellpose_cell_type', '==', 'Epithelial/Cancer')]],\n",
    "    columns=[\n",
    "        cellpose_col, segger_col, baysor_col, tenx_col,\n",
    "        'feature_name', segger_col.replace('cell_id', 'score'),\n",
    "    ],\n",
    ")"
   ]
  },
  {
   "cell_type": "code",
   "execution_count": 191,
   "id": "26688946-4a15-4975-a97d-2cca6873faf7",
   "metadata": {
    "execution": {
     "iopub.execute_input": "2024-11-04T01:03:45.690263Z",
     "iopub.status.busy": "2024-11-04T01:03:45.689886Z",
     "iopub.status.idle": "2024-11-04T01:03:45.762679Z",
     "shell.execute_reply": "2024-11-04T01:03:45.762260Z",
     "shell.execute_reply.started": "2024-11-04T01:03:45.690246Z"
    }
   },
   "outputs": [],
   "source": [
    "# Get signaling pathway genes\n",
    "panel = pd.read_csv(data_dir / 'gene_information.csv', index_col='gene')\n",
    "genes = ['JAK1', 'JAK2', 'JAK3', 'STAT1', 'STAT2', 'STAT3']\n",
    "panel.loc[genes, 'annotation'] = 'JAK/STAT Signaling'\n",
    "panel['annotation'] = panel['annotation'].replace({\n",
    "    'Notch signaling': 'NOTCH Signaling',\n",
    "})\n",
    "panel = panel[panel['annotation'].isin([\n",
    "    'JAK/STAT Signaling',\n",
    "    'Tumor-Immune Interactions',\n",
    "    'NOTCH Signaling'\n",
    "])]"
   ]
  },
  {
   "cell_type": "code",
   "execution_count": 192,
   "id": "843aceac-9fb0-41a5-8384-96ece2645f1b",
   "metadata": {
    "execution": {
     "iopub.execute_input": "2024-11-04T01:03:46.396780Z",
     "iopub.status.busy": "2024-11-04T01:03:46.396490Z",
     "iopub.status.idle": "2024-11-04T01:04:07.649667Z",
     "shell.execute_reply": "2024-11-04T01:04:07.649233Z",
     "shell.execute_reply.started": "2024-11-04T01:03:46.396765Z"
    }
   },
   "outputs": [
    {
     "name": "stderr",
     "output_type": "stream",
     "text": [
      "100%|██████████| 3/3 [00:21<00:00,  7.06s/it]\n"
     ]
    }
   ],
   "source": [
    "# Get ARI for each signaling pathway and segmentation\n",
    "scores = []\n",
    "for pathway, group in tqdm(panel.groupby('annotation')):\n",
    "    genes = group.index\n",
    "    for g in genes:\n",
    "        for col in [segger_col, baysor_col, tenx_col]:\n",
    "            mask_1 = transcripts['feature_name'] == g\n",
    "            mask_2 = ~transcripts[cellpose_col].isna()\n",
    "            mask_2 &= ~transcripts[col].isna()\n",
    "            if 'segger' in col:\n",
    "                mask_2 &= transcripts[col.replace('cell_id', 'score')].ge(0.33)\n",
    "            mask = mask_1 & mask_2\n",
    "            a = transcripts.loc[mask, cellpose_col].to_pandas()\n",
    "            b = transcripts.loc[mask, col].to_pandas()\n",
    "            score = adjusted_rand_score(a, b)\n",
    "            frac = 1 - transcripts.loc[mask_1, col].isna().mean()\n",
    "            segmentation = col.split('_')[0]\n",
    "            scores.append([g, segmentation, pathway, score, frac])\n",
    "\n",
    "# Reformat dataframe\n",
    "columns = ['Gene', 'Segmentation', 'Pathway', 'ARI', 'Fraction']\n",
    "summary = pd.DataFrame(scores, columns=columns)\n",
    "summary['Segmentation'] = summary['Segmentation'].replace({\n",
    "    'baysor': 'Baysor',\n",
    "    '10x': '10X Nucleus',\n",
    "    'segger': 'Segger Embedding'\n",
    "})"
   ]
  },
  {
   "cell_type": "code",
   "execution_count": 200,
   "id": "26d05466-db6e-44d9-9197-427c6505f42c",
   "metadata": {
    "execution": {
     "iopub.execute_input": "2024-11-04T01:06:59.502437Z",
     "iopub.status.busy": "2024-11-04T01:06:59.502063Z",
     "iopub.status.idle": "2024-11-04T01:06:59.573583Z",
     "shell.execute_reply": "2024-11-04T01:06:59.573181Z",
     "shell.execute_reply.started": "2024-11-04T01:06:59.502415Z"
    }
   },
   "outputs": [
    {
     "data": {
      "text/plain": [
       "{('10X Nucleus', 'JAK/STAT Signaling'): [2, 5, 8, 11, 14, 17], ('10X Nucleus', 'NOTCH Signaling'): [20, 23, 26, 29, 32, 35, 38, 41, 44], ('10X Nucleus', 'Tumor-Immune Interactions'): [47, 50, 53, 56, 59, 62, 65, 68, 71, 74, 77, 80, 83, 86, 89, 92, 95], ('Baysor', 'JAK/STAT Signaling'): [1, 4, 7, 10, 13, 16], ('Baysor', 'NOTCH Signaling'): [19, 22, 25, 28, 31, 34, 37, 40, 43], ('Baysor', 'Tumor-Immune Interactions'): [46, 49, 52, 55, 58, 61, 64, 67, 70, 73, 76, 79, 82, 85, 88, 91, 94], ('Segger Embedding', 'JAK/STAT Signaling'): [0, 3, 6, 9, 12, 15], ('Segger Embedding', 'NOTCH Signaling'): [18, 21, 24, 27, 30, 33, 36, 39, 42], ('Segger Embedding', 'Tumor-Immune Interactions'): [45, 48, 51, 54, 57, 60, 63, 66, 69, 72, 75, 78, 81, 84, 87, 90, 93]}"
      ]
     },
     "execution_count": 200,
     "metadata": {},
     "output_type": "execute_result"
    }
   ],
   "source": [
    "gb.groups"
   ]
  },
  {
   "cell_type": "code",
   "execution_count": 204,
   "id": "bb9d5934-df4f-4674-aa93-96131b0ad18a",
   "metadata": {
    "execution": {
     "iopub.execute_input": "2024-11-04T01:07:47.673039Z",
     "iopub.status.busy": "2024-11-04T01:07:47.672671Z",
     "iopub.status.idle": "2024-11-04T01:07:47.745084Z",
     "shell.execute_reply": "2024-11-04T01:07:47.744698Z",
     "shell.execute_reply.started": "2024-11-04T01:07:47.673022Z"
    }
   },
   "outputs": [
    {
     "data": {
      "text/plain": [
       "TtestResult(statistic=-2.382219378201954, pvalue=0.023320827201946552, df=32.0)"
      ]
     },
     "execution_count": 204,
     "metadata": {},
     "output_type": "execute_result"
    }
   ],
   "source": [
    "gb = summary.groupby(['Segmentation', 'Pathway'])\n",
    "sp.stats.ttest_ind(\n",
    "    gb.get_group(('Baysor', 'Tumor-Immune Interactions'))['ARI'],\n",
    "    gb.get_group(('Segger Embedding', 'Tumor-Immune Interactions'))['ARI'],\n",
    ")"
   ]
  },
  {
   "cell_type": "code",
   "execution_count": 208,
   "id": "cd7a6614-d75d-4ec4-85d6-13221495676c",
   "metadata": {
    "execution": {
     "iopub.execute_input": "2024-11-04T03:13:18.571150Z",
     "iopub.status.busy": "2024-11-04T03:13:18.570795Z",
     "iopub.status.idle": "2024-11-04T03:13:18.777084Z",
     "shell.execute_reply": "2024-11-04T03:13:18.776713Z",
     "shell.execute_reply.started": "2024-11-04T03:13:18.571132Z"
    }
   },
   "outputs": [
    {
     "data": {
      "image/png": "[encoded data removed]",
      "text/plain": [
       "<Figure size 450x300 with 1 Axes>"
      ]
     },
     "metadata": {},
     "output_type": "display_data"
    }
   ],
   "source": [
    "fig, ax = plt.subplots(\n",
    "    1, 1, \n",
    "    figsize=(1.5, 1),\n",
    "    sharex=True,\n",
    "    gridspec_kw=dict(hspace=0.3),\n",
    ")\n",
    "\n",
    "# Plots\n",
    "hue_order = ['Segger Embedding', 'Baysor']\n",
    "palette = [named_colors[k] for k in hue_order]\n",
    "shared_kwargs = dict(\n",
    "    x='Pathway',\n",
    "    y='ARI',\n",
    "    hue='Segmentation',\n",
    "    legend=False,\n",
    "    hue_order=hue_order,\n",
    "    ax=ax\n",
    ")\n",
    "sns.barplot(\n",
    "    summary,\n",
    "    **shared_kwargs,\n",
    "    width=0.8,\n",
    "    saturation=1,\n",
    "    gap=0.25,\n",
    "    errorbar=(\"sd\", 1),\n",
    "    palette=palette,\n",
    "    err_kws=dict(color=\"0.25\", linewidth=0.75, zorder=4),\n",
    ")\n",
    "palette=[lighten_color(p, 0.6) for p in palette]\n",
    "sns.stripplot(summary, s=1.5, dodge=True, palette=palette, **shared_kwargs)\n",
    "\n",
    "# Formatting\n",
    "ax.set_ylim(summary['ARI'].min()-0.1)\n",
    "ax.set_xticklabels(\n",
    "    [l.get_text().replace(' ', '\\n') for l in ax.get_xticklabels()],\n",
    "    rotation=45, ha='right',\n",
    "    rotation_mode='anchor'\n",
    ")\n",
    "fig.savefig(media_dir / 'figure_3h.svg')"
   ]
  },
  {
   "cell_type": "code",
   "execution_count": null,
   "id": "ea199ba4-c972-4846-b0b8-6d1738237982",
   "metadata": {},
   "outputs": [],
   "source": []
  }
 ],
 "metadata": {
  "kernelspec": {
   "display_name": "Python 3 (ipykernel)",
   "language": "python",
   "name": "python3"
  },
  "language_info": {
   "codemirror_mode": {
    "name": "ipython",
    "version": 3
   },
   "file_extension": ".py",
   "mimetype": "text/x-python",
   "name": "python",
   "nbconvert_exporter": "python",
   "pygments_lexer": "ipython3",
   "version": "3.11.9"
  }
 },
 "nbformat": 4,
 "nbformat_minor": 5
}
