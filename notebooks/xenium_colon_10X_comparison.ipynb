{
 "cells": [
  {
   "cell_type": "markdown",
   "id": "1155901d-a27f-4b5d-8f35-89c8edcea8d2",
   "metadata": {},
   "source": [
    "# Comparison of 10X Nucleus vs. Segger for Cell Type Capture"
   ]
  },
  {
   "cell_type": "code",
   "execution_count": 1,
   "id": "6b1b56ec-27ef-48d7-a12f-887e5ec284f7",
   "metadata": {
    "execution": {
     "iopub.execute_input": "2025-02-03T06:00:00.207107Z",
     "iopub.status.busy": "2025-02-03T06:00:00.206749Z",
     "iopub.status.idle": "2025-02-03T06:00:00.245014Z",
     "shell.execute_reply": "2025-02-03T06:00:00.244650Z",
     "shell.execute_reply.started": "2025-02-03T06:00:00.207090Z"
    }
   },
   "outputs": [],
   "source": [
    "%load_ext autoreload\n",
    "%autoreload 2"
   ]
  },
  {
   "cell_type": "code",
   "execution_count": 17,
   "id": "28ff20f2-f615-48cc-a06e-43caa28a1246",
   "metadata": {
    "execution": {
     "iopub.execute_input": "2025-02-03T06:06:53.913149Z",
     "iopub.status.busy": "2025-02-03T06:06:53.912693Z",
     "iopub.status.idle": "2025-02-03T06:06:55.560568Z",
     "shell.execute_reply": "2025-02-03T06:06:55.560162Z",
     "shell.execute_reply.started": "2025-02-03T06:06:53.913133Z"
    }
   },
   "outputs": [],
   "source": [
    "from requirements import *\n",
    "from segger.data.parquet._utils import (\n",
    "    read_parquet_region,\n",
    "    filter_transcripts,\n",
    "    load_settings,\n",
    ")\n",
    "from sg_utils.tl.xenium_utils import anndata_from_transcripts\n",
    "from sg_utils.pp.preprocess_rapids import *\n",
    "from sg_utils.pl.plot_embedding import plot_embedding\n",
    "from sg_utils.pl.utils import lighten_color\n",
    "from sg_utils.pl.plot_volcano import plot_volcano\n",
    "from adjustText import adjust_text\n",
    "from tifffile import TiffFile, imread, xml2dict\n",
    "import zarr\n",
    "import celltypist as ct\n",
    "import gseapy\n",
    "import hotspot\n",
    "\n",
    "# Plotting imports\n",
    "from matplotlib.patches import Polygon\n",
    "from matplotlib.collections import PolyCollection"
   ]
  },
  {
   "cell_type": "markdown",
   "id": "6043b27a-e3db-44d9-8aee-68c75609a7ee",
   "metadata": {},
   "source": [
    "## Setup: Import Datasets"
   ]
  },
  {
   "cell_type": "code",
   "execution_count": 3,
   "id": "97b94b4e-b15f-4303-8c5a-fe8b35442d3f",
   "metadata": {
    "execution": {
     "iopub.execute_input": "2025-02-03T06:01:29.663777Z",
     "iopub.status.busy": "2025-02-03T06:01:29.663042Z",
     "iopub.status.idle": "2025-02-03T06:01:38.648660Z",
     "shell.execute_reply": "2025-02-03T06:01:38.648206Z",
     "shell.execute_reply.started": "2025-02-03T06:01:29.663756Z"
    }
   },
   "outputs": [],
   "source": [
    "# Read in AnnDatas\n",
    "dataset = 'xenium_colon'\n",
    "\n",
    "name = 'segger_embedding'\n",
    "ad_seg = sc.read_h5ad(data_dir / dataset / f'h5ads/{name}_processed.h5ad')\n",
    "\n",
    "name = '10x_nucleus'\n",
    "ad_nuc = sc.read_h5ad(data_dir / dataset / f'h5ads/{name}_processed.h5ad')\n",
    "\n",
    "name = '10x_cell'\n",
    "ad_10x = sc.read_h5ad(data_dir / dataset / f'h5ads/{name}_processed.h5ad')"
   ]
  },
  {
   "cell_type": "markdown",
   "id": "a9854d0e-0abf-42e1-b8ae-b9ada28290de",
   "metadata": {},
   "source": [
    "## Inflammatory Signals in Colon"
   ]
  },
  {
   "cell_type": "markdown",
   "id": "2329c0f9-3d0c-4dfb-aaee-904b56f14bcb",
   "metadata": {
    "jp-MarkdownHeadingCollapsed": true
   },
   "source": [
    "### Figure 4A: UMAP"
   ]
  },
  {
   "cell_type": "code",
   "execution_count": 4,
   "id": "e4181f60-8f08-45dd-aef6-1fb9e3b090d5",
   "metadata": {
    "execution": {
     "iopub.execute_input": "2025-02-02T22:33:26.514374Z",
     "iopub.status.busy": "2025-02-02T22:33:26.514203Z",
     "iopub.status.idle": "2025-02-02T22:33:29.247057Z",
     "shell.execute_reply": "2025-02-02T22:33:29.246625Z",
     "shell.execute_reply.started": "2025-02-02T22:33:26.514358Z"
    }
   },
   "outputs": [],
   "source": [
    "fig, ax = plt.subplots(1, 1, figsize=(4.25, 4.25))\n",
    "_ = plot_embedding(\n",
    "    ad_seg,\n",
    "    'cell_type_level_1',\n",
    "    s=0.6,\n",
    "    legend_loc='on data',\n",
    "    legend_fontsize=6,\n",
    "    legend_fontweight='regular',\n",
    "    palette=named_colors['Cell Type'],\n",
    "    rasterized=True,\n",
    "    alpha=0.5,\n",
    "    ax=ax,\n",
    ")\n",
    "ax.set_title('')\n",
    "fig.savefig(media_dir / dataset / 'segger_cell_type_umap.svg', dpi=300)\n",
    "plt.close()"
   ]
  },
  {
   "cell_type": "markdown",
   "id": "0b4687ab-bf1a-45a1-9b23-763b8bb893e7",
   "metadata": {},
   "source": [
    "### Figure 4B: Spatial Plot"
   ]
  },
  {
   "cell_type": "code",
   "execution_count": 5,
   "id": "c3a2f17c-1934-4dee-9e4b-a35cb830fbe8",
   "metadata": {
    "execution": {
     "iopub.execute_input": "2025-02-02T22:33:29.248457Z",
     "iopub.status.busy": "2025-02-02T22:33:29.248160Z",
     "iopub.status.idle": "2025-02-02T22:33:30.667322Z",
     "shell.execute_reply": "2025-02-02T22:33:30.666885Z",
     "shell.execute_reply.started": "2025-02-02T22:33:29.248440Z"
    }
   },
   "outputs": [],
   "source": [
    "# Custom palette\n",
    "palette = named_colors['Cell Type'].copy()\n",
    "palette['Neutrophil'] = 'w'"
   ]
  },
  {
   "cell_type": "code",
   "execution_count": 6,
   "id": "3bfcfd40-cd93-4061-94e4-9be81f8343a5",
   "metadata": {
    "execution": {
     "iopub.execute_input": "2025-02-02T22:33:30.668066Z",
     "iopub.status.busy": "2025-02-02T22:33:30.667905Z",
     "iopub.status.idle": "2025-02-02T22:33:33.315802Z",
     "shell.execute_reply": "2025-02-02T22:33:33.315359Z",
     "shell.execute_reply.started": "2025-02-02T22:33:30.668051Z"
    }
   },
   "outputs": [],
   "source": [
    "# Spatial subset\n",
    "xmin = 4100\n",
    "xmax = 6700\n",
    "ymin = 3500\n",
    "ymax = 6100\n",
    "\n",
    "fig, ax = plt.subplots(1, 1, figsize=(3, 3))\n",
    "shared_kwargs = dict(\n",
    "    features='cell_type_level_1',\n",
    "    basis='X_spatial',\n",
    "    palette=palette,\n",
    "    rasterized=True,\n",
    "    legend_loc='',\n",
    "    ax=ax,\n",
    ")\n",
    "\n",
    "_ = plot_embedding(ad_seg, s=1, **shared_kwargs)\n",
    "mask = ad_seg.obs['cell_type_level_1'].eq('Neutrophil')\n",
    "_ = plot_embedding(ad_seg[mask], s=2, **shared_kwargs)\n",
    "\n",
    "# Formatting\n",
    "ax.set_xlim(xmin, xmax)\n",
    "ax.set_ylim(ymin, ymax)\n",
    "ax.set_facecolor('k')\n",
    "ax.set_title('')\n",
    "\n",
    "# Save\n",
    "fig.savefig(media_dir / dataset / f'segger_cell_type_space.svg', dpi=300)\n",
    "plt.close()"
   ]
  },
  {
   "cell_type": "markdown",
   "id": "46739176-8590-42c8-a61a-ef925fe15d9d",
   "metadata": {
    "jp-MarkdownHeadingCollapsed": true
   },
   "source": [
    "### HotSpot Analysis"
   ]
  },
  {
   "cell_type": "code",
   "execution_count": 7,
   "id": "1051b8bf-df7f-4734-a93f-717aca64a0d5",
   "metadata": {
    "execution": {
     "iopub.execute_input": "2025-02-02T22:33:33.316782Z",
     "iopub.status.busy": "2025-02-02T22:33:33.316422Z",
     "iopub.status.idle": "2025-02-02T22:36:26.614423Z",
     "shell.execute_reply": "2025-02-02T22:36:26.613709Z",
     "shell.execute_reply.started": "2025-02-02T22:33:33.316765Z"
    }
   },
   "outputs": [
    {
     "name": "stderr",
     "output_type": "stream",
     "text": [
      "100%|██████████| 425/425 [00:15<00:00, 26.59it/s]\n"
     ]
    },
    {
     "name": "stdout",
     "output_type": "stream",
     "text": [
      "Computing pair-wise local correlation on 421 features...\n"
     ]
    },
    {
     "name": "stderr",
     "output_type": "stream",
     "text": [
      "100%|██████████| 421/421 [00:03<00:00, 126.43it/s]\n",
      "100%|██████████| 88410/88410 [01:37<00:00, 904.64it/s] \n"
     ]
    },
    {
     "name": "stdout",
     "output_type": "stream",
     "text": [
      "Computing scores for 39 modules...\n"
     ]
    },
    {
     "name": "stderr",
     "output_type": "stream",
     "text": [
      "100%|██████████| 39/39 [00:16<00:00,  2.37it/s]\n"
     ]
    }
   ],
   "source": [
    "# Run HotSpot on Segger Data in Space\n",
    "ad_seg.layers['raw'] = ad_seg.raw.X.copy()\n",
    "sc.pp.filter_genes(ad_seg, min_counts=5)\n",
    "\n",
    "hs = hotspot.Hotspot(ad_seg, 'raw', 'danb', 'X_spatial')\n",
    "hs.create_knn_graph(weighted_graph=False, n_neighbors=20)\n",
    "hs.compute_autocorrelations()\n",
    "hs_genes = hs.results.loc[hs.results.FDR < 0.01].index\n",
    "hs.compute_local_correlations(hs_genes, jobs=28)\n",
    "hs.create_modules(3, False, 0.01)\n",
    "hs.calculate_module_scores()\n",
    "\n",
    "# Add to AnnData\n",
    "lcz = pd.DataFrame(np.nan, ad_seg.var.index, ad_seg.var.index)\n",
    "lcz.loc[hs_genes, hs_genes] = hs.local_correlation_z\n",
    "ad_seg.varm['hotspot_local_correlation_z'] = lcz\n",
    "ad_seg.var['hotspot_module'] = hs.modules\n",
    "ad_seg.obs['module_' + hs.module_scores.columns.astype(str)] = hs.module_scores"
   ]
  },
  {
   "cell_type": "markdown",
   "id": "42133e2b-e9e1-430b-a598-43ca25501472",
   "metadata": {
    "jp-MarkdownHeadingCollapsed": true
   },
   "source": [
    "### HotSpot Modules vs. Neutrophil Distance"
   ]
  },
  {
   "cell_type": "code",
   "execution_count": 8,
   "id": "e34286e3-25c8-42bf-94d7-8493380bb2aa",
   "metadata": {
    "execution": {
     "iopub.execute_input": "2025-02-02T22:36:26.616008Z",
     "iopub.status.busy": "2025-02-02T22:36:26.615533Z",
     "iopub.status.idle": "2025-02-02T22:37:14.304027Z",
     "shell.execute_reply": "2025-02-02T22:37:14.303435Z",
     "shell.execute_reply.started": "2025-02-02T22:36:26.615980Z"
    }
   },
   "outputs": [],
   "source": [
    "# Compute kNN on space with wide window\n",
    "nearest_neighbors(ad_seg, 500, use_rep='X_spatial', key_added='neutro')\n",
    "\n",
    "# Find distance of each cell to nearest neutrophil\n",
    "ad_seg.obs['dist_nearest_neutrophil'] = np.nan\n",
    "is_neutrophil = ad_seg.obs['cell_type_level_1'].eq('Neutrophil')\n",
    "neutro_dists = ad_seg.obsp['neutro_distances'].T[is_neutrophil].T\n",
    "i, j = neutro_dists.nonzero()\n",
    "i, idx = np.unique(i, return_index=True)\n",
    "j = j[idx]\n",
    "dists = neutro_dists[i, j].A[0]\n",
    "ad_seg.obs.loc[ad_seg.obs.index[i], 'dist_nearest_neutrophil'] = dists"
   ]
  },
  {
   "cell_type": "code",
   "execution_count": 9,
   "id": "ccfa24e0-32e2-41a7-a217-5c92a7e36b49",
   "metadata": {
    "execution": {
     "iopub.execute_input": "2025-02-02T22:37:14.305285Z",
     "iopub.status.busy": "2025-02-02T22:37:14.304853Z",
     "iopub.status.idle": "2025-02-02T22:37:15.825827Z",
     "shell.execute_reply": "2025-02-02T22:37:15.825413Z",
     "shell.execute_reply.started": "2025-02-02T22:37:14.305268Z"
    }
   },
   "outputs": [],
   "source": [
    "# Correlations of neutrophil distance and module score\n",
    "module_cols = ad_seg.obs.columns[ad_seg.obs.columns.str.contains('module')]\n",
    "module_corr = pd.DataFrame(index=module_cols, columns=['R', 'pval'])\n",
    "\n",
    "mask = ad_seg.obs['cell_type_level_2'].eq('Epithelial')\n",
    "mask &= ~ad_seg.obs['dist_nearest_neutrophil'].isna()\n",
    "a = ad_seg.obs.loc[mask, 'dist_nearest_neutrophil']\n",
    "for mod in module_cols:\n",
    "    b = ad_seg.obs.loc[mask, mod]\n",
    "    module_corr.loc[mod] = sp.stats.spearmanr(a, b)"
   ]
  },
  {
   "cell_type": "code",
   "execution_count": 10,
   "id": "349cf85e-fab0-427d-a70c-7b01279c5a9f",
   "metadata": {
    "execution": {
     "iopub.execute_input": "2025-02-02T22:37:15.826769Z",
     "iopub.status.busy": "2025-02-02T22:37:15.826426Z",
     "iopub.status.idle": "2025-02-02T22:37:17.216270Z",
     "shell.execute_reply": "2025-02-02T22:37:17.215893Z",
     "shell.execute_reply.started": "2025-02-02T22:37:15.826753Z"
    }
   },
   "outputs": [
    {
     "data": {
      "text/html": [
       "<div>\n",
       "<style scoped>\n",
       "    .dataframe tbody tr th:only-of-type {\n",
       "        vertical-align: middle;\n",
       "    }\n",
       "\n",
       "    .dataframe tbody tr th {\n",
       "        vertical-align: top;\n",
       "    }\n",
       "\n",
       "    .dataframe thead th {\n",
       "        text-align: right;\n",
       "    }\n",
       "</style>\n",
       "<table border=\"1\" class=\"dataframe\">\n",
       "  <thead>\n",
       "    <tr style=\"text-align: right;\">\n",
       "      <th></th>\n",
       "      <th>R</th>\n",
       "      <th>pval</th>\n",
       "    </tr>\n",
       "  </thead>\n",
       "  <tbody>\n",
       "    <tr>\n",
       "      <th>module_16</th>\n",
       "      <td>-0.389902</td>\n",
       "      <td>0.0</td>\n",
       "    </tr>\n",
       "    <tr>\n",
       "      <th>module_26</th>\n",
       "      <td>-0.243306</td>\n",
       "      <td>0.0</td>\n",
       "    </tr>\n",
       "    <tr>\n",
       "      <th>module_3</th>\n",
       "      <td>-0.017958</td>\n",
       "      <td>0.046473</td>\n",
       "    </tr>\n",
       "  </tbody>\n",
       "</table>\n",
       "</div>"
      ],
      "text/plain": [
       "                  R      pval\n",
       "module_16 -0.389902       0.0\n",
       "module_26 -0.243306       0.0\n",
       "module_3  -0.017958  0.046473"
      ]
     },
     "execution_count": 10,
     "metadata": {},
     "output_type": "execute_result"
    }
   ],
   "source": [
    "# Modules to focus on\n",
    "module_corr.loc[['module_16', 'module_26', 'module_3']]"
   ]
  },
  {
   "cell_type": "code",
   "execution_count": 11,
   "id": "fd16e6c7-1047-41f4-83e9-be3b6e9d03c1",
   "metadata": {
    "execution": {
     "iopub.execute_input": "2025-02-02T22:37:17.218302Z",
     "iopub.status.busy": "2025-02-02T22:37:17.218023Z",
     "iopub.status.idle": "2025-02-02T22:37:18.542181Z",
     "shell.execute_reply": "2025-02-02T22:37:18.541807Z",
     "shell.execute_reply.started": "2025-02-02T22:37:17.218286Z"
    }
   },
   "outputs": [
    {
     "data": {
      "text/plain": [
       "IL1B       16\n",
       "DUOX2      26\n",
       "SLC26A3     3\n",
       "Name: Module, dtype: int64"
      ]
     },
     "execution_count": 11,
     "metadata": {},
     "output_type": "execute_result"
    }
   ],
   "source": [
    "hs.modules.loc[['IL1B', 'DUOX2', 'SLC26A3']]"
   ]
  },
  {
   "cell_type": "markdown",
   "id": "7d8acb44-6fca-453e-85e5-ec32c42e0f71",
   "metadata": {},
   "source": [
    "### Figure 4C-D"
   ]
  },
  {
   "cell_type": "code",
   "execution_count": 12,
   "id": "e81b4582-7a9e-447c-87f0-b0b0982d3196",
   "metadata": {
    "execution": {
     "iopub.execute_input": "2025-02-02T22:37:18.543003Z",
     "iopub.status.busy": "2025-02-02T22:37:18.542743Z",
     "iopub.status.idle": "2025-02-02T22:37:19.870804Z",
     "shell.execute_reply": "2025-02-02T22:37:19.870385Z",
     "shell.execute_reply.started": "2025-02-02T22:37:18.542987Z"
    }
   },
   "outputs": [],
   "source": [
    "# Custom cmap\n",
    "from matplotlib.colors import LinearSegmentedColormap\n",
    "cmap = sns.color_palette('viridis', as_cmap=True)\n",
    "colors = [cmap(n) for n in np.linspace(0.05, 1.0, 255)]\n",
    "cmap = LinearSegmentedColormap.from_list('', colors, 255)"
   ]
  },
  {
   "cell_type": "code",
   "execution_count": 13,
   "id": "16d5bef3-9250-4f52-a2bc-848ba8f3c070",
   "metadata": {
    "execution": {
     "iopub.execute_input": "2025-02-02T22:37:19.871716Z",
     "iopub.status.busy": "2025-02-02T22:37:19.871392Z",
     "iopub.status.idle": "2025-02-02T22:37:22.971582Z",
     "shell.execute_reply": "2025-02-02T22:37:22.971152Z",
     "shell.execute_reply.started": "2025-02-02T22:37:19.871700Z"
    }
   },
   "outputs": [],
   "source": [
    "shared_kwargs = dict(\n",
    "    basis='X_spatial',\n",
    "    layer='lognorm',\n",
    "    rasterized=True,\n",
    "    legend_loc='',\n",
    "    vmax='p99.9',\n",
    "    cbar=False,\n",
    "    cmap=cmap,\n",
    ")\n",
    "\n",
    "# Spatial subset\n",
    "xmin = 4100\n",
    "xmax = 6700\n",
    "ymin = 3500\n",
    "ymax = 6100\n",
    "\n",
    "for gene in ['IL1B', 'DUOX2']:\n",
    "    # Underlay\n",
    "    fig, ax = plt.subplots(1, 1, figsize=(3, 3))\n",
    "    _ = plot_embedding(ad_seg, features=gene, s=1.5, ax=ax, **shared_kwargs)\n",
    "    \n",
    "    # Formatting\n",
    "    ax.set_xlim(xmin, xmax)\n",
    "    ax.set_ylim(ymin, ymax)\n",
    "    ax.set_facecolor('k')\n",
    "    ax.set_title('')\n",
    "\n",
    "    # Save\n",
    "    fig.savefig(media_dir / dataset / f'{gene}_expression.svg', dpi=300)\n",
    "    plt.close()"
   ]
  },
  {
   "cell_type": "raw",
   "id": "8d2277e3-71a8-4660-81ad-b03a74678203",
   "metadata": {
    "execution": {
     "iopub.execute_input": "2025-01-31T22:32:27.878183Z",
     "iopub.status.busy": "2025-01-31T22:32:27.877712Z",
     "iopub.status.idle": "2025-01-31T22:32:29.849777Z",
     "shell.execute_reply": "2025-01-31T22:32:29.849331Z",
     "shell.execute_reply.started": "2025-01-31T22:32:27.878164Z"
    }
   },
   "source": [
    "# Custom colorbar plot\n",
    "fig, ax = plt.subplots(1, 1, figsize=(0.75, 0.15))\n",
    "img = np.array([[cmap(n) for n in np.linspace(0, 1, 255)]])\n",
    "ax.imshow(img, aspect='auto')\n",
    "ax.axis('off')\n",
    "fig.savefig(media_dir / dataset / f'fig4c-d_colorbar.svg', dpi=300)\n",
    "plt.close()"
   ]
  },
  {
   "cell_type": "markdown",
   "id": "03da455a-02f2-44b4-9501-bb0cbf9ba7f3",
   "metadata": {
    "jp-MarkdownHeadingCollapsed": true
   },
   "source": [
    "### Figure 4E"
   ]
  },
  {
   "cell_type": "code",
   "execution_count": 536,
   "id": "f453718f-f2c7-4bb3-9282-24db33bae37d",
   "metadata": {
    "execution": {
     "iopub.execute_input": "2025-02-03T03:51:17.303838Z",
     "iopub.status.busy": "2025-02-03T03:51:17.303563Z",
     "iopub.status.idle": "2025-02-03T03:51:19.432215Z",
     "shell.execute_reply": "2025-02-03T03:51:19.431789Z",
     "shell.execute_reply.started": "2025-02-03T03:51:17.303821Z"
    },
    "scrolled": true
   },
   "outputs": [],
   "source": [
    "# Get subsets of epithelial cells based on hotspot module scores\n",
    "is_epi = ad_seg.obs['cell_type_level_2'].eq('Epithelial')\n",
    "\n",
    "m3_thresh = ad_seg.obs.loc[is_epi, 'module_3'].quantile(0.75)\n",
    "m3_mask = ad_seg.obs['module_3'].gt(m3_thresh)\n",
    "\n",
    "mask = is_epi & m3_mask\n",
    "m16_thresh = ad_seg.obs.loc[mask, 'module_16'].quantile(0.9)\n",
    "m16_mask = ad_seg.obs['module_16'].gt(m16_thresh)\n",
    "\n",
    "m26_thresh = ad_seg.obs.loc[mask, 'module_26'].quantile(0.9)\n",
    "m26_mask = ad_seg.obs['module_26'].gt(m26_thresh)"
   ]
  },
  {
   "cell_type": "code",
   "execution_count": 537,
   "id": "7030cf50-a684-469a-ae23-6b1a61b581b7",
   "metadata": {
    "execution": {
     "iopub.execute_input": "2025-02-03T03:51:20.261538Z",
     "iopub.status.busy": "2025-02-03T03:51:20.261143Z",
     "iopub.status.idle": "2025-02-03T03:51:22.207584Z",
     "shell.execute_reply": "2025-02-03T03:51:22.207161Z",
     "shell.execute_reply.started": "2025-02-03T03:51:20.261520Z"
    }
   },
   "outputs": [],
   "source": [
    "# Annotate AnnData with subsets\n",
    "ad_seg.obs['fig4e_category'] = 'NA'\n",
    "\n",
    "is_neutrophil = ad_seg.obs['cell_type_level_1'].eq('Neutrophil')\n",
    "ad_seg.obs.loc[is_neutrophil, 'fig4e_category'] = 'Neutrophil'\n",
    "\n",
    "mask = is_epi & m3_mask & m16_mask & m26_mask\n",
    "ad_seg.obs.loc[mask, 'fig4e_category'] = 'M3+ M16+ M26+ Epithelial'\n",
    "\n",
    "mask = is_epi & m3_mask & ~(m16_mask | m26_mask)\n",
    "ad_seg.obs.loc[mask, 'fig4e_category'] = 'M3+ M16- M26- Epithelial'"
   ]
  },
  {
   "cell_type": "code",
   "execution_count": 538,
   "id": "8bdf6eab-bb26-4e6c-9bf2-3602cd593c9f",
   "metadata": {
    "execution": {
     "iopub.execute_input": "2025-02-03T03:51:22.208671Z",
     "iopub.status.busy": "2025-02-03T03:51:22.208402Z",
     "iopub.status.idle": "2025-02-03T03:51:24.031859Z",
     "shell.execute_reply": "2025-02-03T03:51:24.031453Z",
     "shell.execute_reply.started": "2025-02-03T03:51:22.208655Z"
    },
    "jupyter": {
     "source_hidden": true
    }
   },
   "outputs": [],
   "source": [
    "# Module 3, 16, 26 genes\n",
    "row_order = [\n",
    "    'MCEMP1',\n",
    "    'SLPI',\n",
    "    'CXCL1',\n",
    "    'IL1B',\n",
    "    'CXCR1',\n",
    "    'CXCR2',\n",
    "    'CCL4',\n",
    "    'SELL',\n",
    "    'S100A12',\n",
    "    'CXCL2',\n",
    "    'SERPINA1',\n",
    "    'S100P',\n",
    "    'CXCL3',\n",
    "    'AREG',\n",
    "    'CCL20',\n",
    "    'DUOX2',\n",
    "    'TFF1',\n",
    "    'CEACAM5',\n",
    "    'HHLA2',\n",
    "    'TMIGD1',\n",
    "    'CEACAM1',\n",
    "    'SLC26A3',\n",
    "    'CEACAM7',\n",
    "    'MS4A12'\n",
    "]\n",
    "module_genes = hs.modules.index[hs.modules.isin([3, 26, 16])]\n",
    "assert set(row_order).union(module_genes) == set(row_order)\n",
    "\n",
    "col_order = [\n",
    "    'Neutrophil',\n",
    "    'M3+ M16+ M26+ Epithelial',\n",
    "    'M3+ M16- M26- Epithelial'\n",
    "]"
   ]
  },
  {
   "cell_type": "code",
   "execution_count": 539,
   "id": "fc9470cf-65c7-4a63-8958-b840749ac59c",
   "metadata": {
    "execution": {
     "iopub.execute_input": "2025-02-03T03:51:24.032691Z",
     "iopub.status.busy": "2025-02-03T03:51:24.032443Z",
     "iopub.status.idle": "2025-02-03T03:51:25.947726Z",
     "shell.execute_reply": "2025-02-03T03:51:25.947274Z",
     "shell.execute_reply.started": "2025-02-03T03:51:24.032675Z"
    }
   },
   "outputs": [],
   "source": [
    "# Get DataFrame to plot\n",
    "from sklearn.preprocessing import minmax_scale\n",
    "df_agg = sc.get.aggregate(\n",
    "    ad_seg, \n",
    "    by='fig4e_category', \n",
    "    func='mean',\n",
    "    layer='norm'\n",
    ").to_df('mean')\n",
    "df_agg = df_agg.loc[col_order, row_order]\n",
    "df_agg = df_agg.apply(minmax_scale).T"
   ]
  },
  {
   "cell_type": "code",
   "execution_count": 541,
   "id": "0e4cac60-1f91-4a12-bc99-690b98ac9342",
   "metadata": {
    "execution": {
     "iopub.execute_input": "2025-02-03T03:58:39.989477Z",
     "iopub.status.busy": "2025-02-03T03:58:39.989213Z",
     "iopub.status.idle": "2025-02-03T03:58:42.488701Z",
     "shell.execute_reply": "2025-02-03T03:58:42.488248Z",
     "shell.execute_reply.started": "2025-02-03T03:58:39.989459Z"
    }
   },
   "outputs": [],
   "source": [
    "fig, ax = plt.subplots(1, 1, figsize=(1, 3))\n",
    "sns.heatmap(\n",
    "    df_agg,\n",
    "    xticklabels=False,\n",
    "    yticklabels=True,\n",
    "    cmap='Purples',\n",
    "    cbar=False,\n",
    "    ax=ax,\n",
    ")\n",
    "ax.tick_params(labelsize=6.5)\n",
    "ax.set_xticklabels([])\n",
    "styles = dict(lw=4, color='w', alpha=1)\n",
    "for i in range(df_agg.shape[1]+1):\n",
    "    ax.axvline(i, **styles)\n",
    "\n",
    "fig.savefig(media_dir / dataset / f'module_genes_barplot.svg', dpi=300)\n",
    "plt.close()"
   ]
  },
  {
   "cell_type": "raw",
   "id": "b32d69b5-3572-48fe-991e-4e356fc28604",
   "metadata": {
    "execution": {
     "iopub.execute_input": "2025-02-02T17:34:43.871998Z",
     "iopub.status.busy": "2025-02-02T17:34:43.871560Z",
     "iopub.status.idle": "2025-02-02T17:34:45.162850Z",
     "shell.execute_reply": "2025-02-02T17:34:45.162454Z",
     "shell.execute_reply.started": "2025-02-02T17:34:43.871980Z"
    }
   },
   "source": [
    "# Custom colorbar plot\n",
    "fig, ax = plt.subplots(1, 1, figsize=(0.75, 0.15))\n",
    "cmap = sns.color_palette('Purples', as_cmap=True)\n",
    "img = np.array([[cmap(n) for n in np.linspace(0, 1, 255)]])\n",
    "ax.imshow(img, aspect='auto')\n",
    "ax.axis('off')\n",
    "fig.savefig(media_dir / dataset / f'fig4e_colorbar.svg', dpi=300)\n",
    "plt.close()"
   ]
  },
  {
   "cell_type": "markdown",
   "id": "a6be3ce6-c298-4b75-bd2e-2959f9f7c2eb",
   "metadata": {
    "jp-MarkdownHeadingCollapsed": true
   },
   "source": [
    "### Neutrophil Neighborhood Analysis"
   ]
  },
  {
   "cell_type": "code",
   "execution_count": 19,
   "id": "ded4d774-a80f-49ee-91c5-3523a26b80ea",
   "metadata": {
    "execution": {
     "iopub.execute_input": "2025-02-02T22:37:30.079408Z",
     "iopub.status.busy": "2025-02-02T22:37:30.079067Z",
     "iopub.status.idle": "2025-02-02T22:37:31.506071Z",
     "shell.execute_reply": "2025-02-02T22:37:31.505675Z",
     "shell.execute_reply.started": "2025-02-02T22:37:30.079393Z"
    },
    "jupyter": {
     "source_hidden": true
    }
   },
   "outputs": [],
   "source": [
    "def get_neighbor_fractions(\n",
    "    ad,\n",
    "    k: int,\n",
    "    col: str,\n",
    "    obsm: str = 'X_spatial',\n",
    "    aggregate: bool = True,\n",
    "):\n",
    "    # Recompute kNN on space\n",
    "    X = cp.array(ad.obsm['X_spatial'])\n",
    "    model = cuml.neighbors.NearestNeighbors(n_neighbors=k)\n",
    "    model.fit(X)\n",
    "    distances, indices = model.kneighbors(X)\n",
    "    \n",
    "    # Get cell type proportions among neighbors\n",
    "    labels, cell_types = pd.factorize(ad.obs[col])\n",
    "    n = len(cell_types)\n",
    "    offsets = np.repeat(range(0, n * ad.shape[0], n), k)\n",
    "    \n",
    "    idx = indices.flatten().get()\n",
    "    lbl = labels[idx] + offsets\n",
    "    uniques, counts = np.unique(lbl, return_counts=True)\n",
    "    \n",
    "    # Build sparse matrix\n",
    "    cols = (uniques % n).astype(int)\n",
    "    rows = np.floor(uniques / n).astype(int)\n",
    "    if aggregate:\n",
    "        rows = labels[rows]\n",
    "        shape = (n, n)\n",
    "        idx = cell_types\n",
    "    else:\n",
    "        shape = (ad.shape[0], n)\n",
    "        idx = ad.obs.index\n",
    "    counts = sp.sparse.csr_matrix((counts, (rows, cols)), shape=shape)\n",
    "    counts = pd.DataFrame(counts.todense().A, index=idx, columns=cell_types)\n",
    "    # counts /= counts.sum(0)\n",
    "    return counts.T"
   ]
  },
  {
   "cell_type": "code",
   "execution_count": 20,
   "id": "1b18a8ba-5901-4048-8c58-5761bc040232",
   "metadata": {
    "execution": {
     "iopub.execute_input": "2025-02-02T22:37:31.506897Z",
     "iopub.status.busy": "2025-02-02T22:37:31.506632Z",
     "iopub.status.idle": "2025-02-02T22:37:39.736598Z",
     "shell.execute_reply": "2025-02-02T22:37:39.736155Z",
     "shell.execute_reply.started": "2025-02-02T22:37:31.506882Z"
    }
   },
   "outputs": [],
   "source": [
    "# Label nucleus AnnData\n",
    "labels = ad_seg.obs.set_index('10x_id')['fig4e_category']\n",
    "ad_nuc.obs['fig4e_category'] = labels[~labels.index.duplicated()]\n",
    "ad_nuc.obs['fig4e_category'] = ad_nuc.obs['fig4e_category'].fillna('NA')\n",
    "\n",
    "# Calculate neighbor fractions\n",
    "k = 200\n",
    "col = 'fig4e_category'\n",
    "use_rows = ['M3+ M16+ M26+ Epithelial', 'M3+ M16- M26- Epithelial']\n",
    "use_cols = ['Neutrophil', 'Center']\n",
    "\n",
    "# Segger\n",
    "fracs_seg = get_neighbor_fractions(ad_seg, k, col, aggregate=False).T / k * 100\n",
    "fracs_seg['Center'] = ad_seg.obs[col]\n",
    "fracs_seg = fracs_seg.loc[fracs_seg['Center'].isin(use_rows), use_cols]\n",
    "\n",
    "# 10X Nucleus\n",
    "fracs_nuc = get_neighbor_fractions(ad_nuc, k, col, aggregate=False).T / k * 100\n",
    "fracs_nuc['Center'] = ad_nuc.obs[col]\n",
    "fracs_nuc = fracs_nuc.loc[fracs_nuc['Center'].isin(use_rows), use_cols]"
   ]
  },
  {
   "cell_type": "markdown",
   "id": "ddc7ca3a-9cb2-410b-a438-7cb626a12172",
   "metadata": {
    "jp-MarkdownHeadingCollapsed": true
   },
   "source": [
    "### Figure 4F"
   ]
  },
  {
   "cell_type": "code",
   "execution_count": 21,
   "id": "8190d7f5-e532-4773-b778-a2ac4c744166",
   "metadata": {
    "execution": {
     "iopub.execute_input": "2025-02-02T22:37:39.737422Z",
     "iopub.status.busy": "2025-02-02T22:37:39.737211Z",
     "iopub.status.idle": "2025-02-02T22:37:41.745210Z",
     "shell.execute_reply": "2025-02-02T22:37:41.744755Z",
     "shell.execute_reply.started": "2025-02-02T22:37:39.737406Z"
    }
   },
   "outputs": [],
   "source": [
    "fig, axes = plt.subplots(\n",
    "    2, 1,\n",
    "    figsize=((2.75 - (2.75 / 2) * 0.3) / 2, 2.75),\n",
    "    sharex=True,\n",
    "    gridspec_kw=dict(hspace=0.3),\n",
    ")\n",
    "\n",
    "shared_kwargs = dict(\n",
    "    y='value', x='Center', common_norm=False, density_norm='width',\n",
    "    bw_adjust=2, cut=0, inner_kws=dict(color=[0.1]*3), linewidth=0.75,\n",
    "    edgecolor=[0.1, 0.1, 0.1, 0.1], saturation=1.0,\n",
    "    order=['M3+ M16+ M26+ Epithelial', 'M3+ M16- M26- Epithelial'],\n",
    ")\n",
    "shared_kwargs.update(dict(facecolor=named_colors['segger+']))\n",
    "sns.violinplot(fracs_seg.melt(id_vars='Center'), ax=axes[0], **shared_kwargs)\n",
    "shared_kwargs.update(dict(facecolor=named_colors['10X Nucleus']))\n",
    "sns.violinplot(fracs_nuc.melt(id_vars='Center'), ax=axes[1], **shared_kwargs)\n",
    "\n",
    "for ax in axes:\n",
    "    ax.yaxis.tick_right()\n",
    "    ax.spines['right'].set_visible(True)\n",
    "    ax.spines['left'].set_visible(False)\n",
    "    ax.set_ylabel('')\n",
    "    ax.set_xlabel('')\n",
    "    ax.set_xticklabels([])\n",
    "    ax.set_ylim(0, 50)\n",
    "    ax.set_yticks(np.arange(0, 51, 10))\n",
    "\n",
    "fig.savefig(media_dir / dataset / f'neutrophil_neighbors_fracs.svg', dpi=300)\n",
    "plt.close()"
   ]
  },
  {
   "cell_type": "markdown",
   "id": "af7dac8b-4a1f-4391-953a-290184caed75",
   "metadata": {},
   "source": [
    "### Neutrophil vs. Rest Metrics"
   ]
  },
  {
   "cell_type": "markdown",
   "id": "9ee084c8-fda9-4901-be61-68e9baada2fd",
   "metadata": {
    "jp-MarkdownHeadingCollapsed": true
   },
   "source": [
    "#### Nuclear Fraction TX and In Nucleus"
   ]
  },
  {
   "cell_type": "code",
   "execution_count": 22,
   "id": "13cbb53a-0a4a-4efc-984c-53141c1eb6bc",
   "metadata": {
    "execution": {
     "iopub.execute_input": "2025-02-02T22:37:41.746228Z",
     "iopub.status.busy": "2025-02-02T22:37:41.745832Z",
     "iopub.status.idle": "2025-02-02T22:37:56.908968Z",
     "shell.execute_reply": "2025-02-02T22:37:56.908478Z",
     "shell.execute_reply.started": "2025-02-02T22:37:41.746211Z"
    }
   },
   "outputs": [],
   "source": [
    "# Read in all transcripts\n",
    "transcripts_filepath = data_dir / dataset / 'labeled_transcripts.parquet'\n",
    "transcripts = pd.read_parquet(transcripts_filepath)\n",
    "\n",
    "# Filter control probes and low QV probes\n",
    "xe_settings = load_settings('xenium')\n",
    "transcripts = filter_transcripts(\n",
    "    transcripts,\n",
    "    label=xe_settings.transcripts.label,\n",
    "    filter_substrings=xe_settings.transcripts.filter_substrings,\n",
    "    min_qv=25,\n",
    ")\n",
    "transcripts = transcripts[transcripts['score_cxg_k=20'].gt(0.5)]\n",
    "\n",
    "# Get fraction each cell that are nuclear\n",
    "seg_col = 'segger_cell_id_cxg_k=20'\n",
    "frac = transcripts.groupby(seg_col)['overlaps_nucleus'].mean()\n",
    "frac.index = frac.index.astype(str)\n",
    "ad_seg.obs['fraction_nuclear_tx'] = frac\n",
    "\n",
    "# Whether cell is also in 10X nucleus dataset\n",
    "ad_seg.obs['in_10x_nucleus'] = ad_seg.obs['10x_id'].isin(ad_nuc.obs.index)"
   ]
  },
  {
   "cell_type": "markdown",
   "id": "b9e4e7ee-d7cd-4cc8-8197-9957e84be5b3",
   "metadata": {
    "jp-MarkdownHeadingCollapsed": true
   },
   "source": [
    "#### Marker Capture"
   ]
  },
  {
   "cell_type": "code",
   "execution_count": 279,
   "id": "e742cfdc-1134-4968-9141-edc74050a616",
   "metadata": {
    "execution": {
     "iopub.execute_input": "2025-02-03T01:04:44.857704Z",
     "iopub.status.busy": "2025-02-03T01:04:44.857291Z",
     "iopub.status.idle": "2025-02-03T01:05:51.300296Z",
     "shell.execute_reply": "2025-02-03T01:05:51.299697Z",
     "shell.execute_reply.started": "2025-02-03T01:04:44.857688Z"
    }
   },
   "outputs": [],
   "source": [
    "# Get potential markers per cell type\n",
    "filename = 'elmentaite_human_colon_atlas.h5ad'\n",
    "ad_atl = sc.read_h5ad(data_dir / dataset / f'h5ads/{filename}')"
   ]
  },
  {
   "cell_type": "code",
   "execution_count": 280,
   "id": "453ce78a-ef5c-4134-aafa-351827301a28",
   "metadata": {
    "execution": {
     "iopub.execute_input": "2025-02-03T01:05:51.301750Z",
     "iopub.status.busy": "2025-02-03T01:05:51.301332Z",
     "iopub.status.idle": "2025-02-03T01:05:56.697187Z",
     "shell.execute_reply": "2025-02-03T01:05:56.696728Z",
     "shell.execute_reply.started": "2025-02-03T01:05:51.301733Z"
    }
   },
   "outputs": [],
   "source": [
    "# Subset to colon only\n",
    "colon_tissues = [\n",
    "    'sigmoid colon', \n",
    "    'ascending colon',\n",
    "    'descending colon',\n",
    "    'colon',\n",
    "    'large intestine'\n",
    "]\n",
    "ad_atl = ad_atl[ad_atl.obs['tissue'].isin(colon_tissues)]\n",
    "\n",
    "# Set gene names as var index\n",
    "ad_atl.var.set_index('feature_name', inplace=True)"
   ]
  },
  {
   "cell_type": "code",
   "execution_count": 281,
   "id": "5bac6932-d363-4ad0-92ca-9197c5ee225d",
   "metadata": {
    "execution": {
     "iopub.execute_input": "2025-02-03T01:05:56.698163Z",
     "iopub.status.busy": "2025-02-03T01:05:56.697890Z",
     "iopub.status.idle": "2025-02-03T01:05:59.481282Z",
     "shell.execute_reply": "2025-02-03T01:05:59.480889Z",
     "shell.execute_reply.started": "2025-02-03T01:05:56.698148Z"
    },
    "jupyter": {
     "source_hidden": true
    }
   },
   "outputs": [],
   "source": [
    "# Map author cell types to align with ours\n",
    "cell_type_map = {\n",
    "    'Activated CD4 T': 'CD4+ T Cell',\n",
    "    'Activated CD8 T': 'CD8+ T Cell',\n",
    "    'Activated T': 'NA',\n",
    "    'Adult Glia': 'Glial Cell',\n",
    "    'BEST2+ Goblet cell': 'Goblet Cell',\n",
    "    'BEST4+ epithelial': 'BEST4+ Epithelial Cell',\n",
    "    'Branch A1 (iMN)': 'NA',\n",
    "    'Branch A2 (IPAN/IN)': 'NA',\n",
    "    'Branch A3 (IPAN/IN)': 'NA',\n",
    "    'Branch A4 (IN)': 'NA',\n",
    "    'Branch B1 (eMN)': 'NA',\n",
    "    'Branch B2 (eMN)': 'NA',\n",
    "    'Branch B3 (IPAN)': 'NA',\n",
    "    'CD8 Tmem': 'CD8+ T Cell',\n",
    "    'CLC+ Mast cell': 'Mast Cell',\n",
    "    'CLDN10+ cells': 'NA',\n",
    "    'CLP': 'NA',\n",
    "    'CX3CR1+ CD8 Tmem': 'CD8+ T Cell',\n",
    "    'Colonocyte': 'Enterocyte',\n",
    "    'Contractile pericyte (PLN+)': 'Pericyte',\n",
    "    'Cycling B cell': 'Cycling Immune Cell',\n",
    "    'D cells (SST+)': 'NA',\n",
    "    'Differentiating glia': 'Glial Cell',\n",
    "    'Distal progenitor': 'Transit Amplifying Cell',\n",
    "    'EC cells (NPW+)': 'EC Cell',\n",
    "    'EC cells (TAC1+)': 'EC Cell',\n",
    "    'EECs': 'EC Cell',\n",
    "    'ENCC/glia Progenitor': 'Glial Cell',\n",
    "    'Enterocyte': 'Enterocyte',\n",
    "    'Fetal arterial EC': 'Endothelial Cell',\n",
    "    'Fetal venous EC': 'Endothelial Cell',\n",
    "    'Germ': 'NA',\n",
    "    'Glia 1 (DHH+)': 'Glial Cell',\n",
    "    'Glia 2 (ELN+)': 'Glial Cell',\n",
    "    'Glia 3 (BCAN+)': 'Glial Cell',\n",
    "    'Goblet cell': 'Goblet Cell',\n",
    "    'I cells (CCK+)': 'NA',\n",
    "    'ICC': 'ICC',\n",
    "    'ILC2': 'NA',\n",
    "    'ILC3': 'NA',\n",
    "    'ILCP': 'NA',\n",
    "    'IgA plasma cell': 'Plasma Cell',\n",
    "    'IgG plasma cell': 'Plasma Cell',\n",
    "    'Immature B': 'B Cell',\n",
    "    'Immature pericyte': 'Pericyte',\n",
    "    'L cells (PYY+)': 'L Cell',\n",
    "    'LEC1 (ACKR4+)': 'Endothelial Cell',\n",
    "    'LEC2 (MADCAM1+)': 'Endothelial Cell',\n",
    "    'LEC3 (ADGRG3+)': 'Endothelial Cell',\n",
    "    'LEC4 (STAB2+)': 'Endothelial Cell',\n",
    "    'LEC5 (CLDN11+)': 'Endothelial Cell',\n",
    "    'LEC6 (ADAMTS4+)': 'Endothelial Cell',\n",
    "    'LTi-like NCR+ ILC3': 'NA',\n",
    "    'LTi-like NCR- ILC3': 'NA',\n",
    "    'LYVE1+ Macrophage': 'LYVE1+ Macrophage',\n",
    "    'Lymphoid DC': 'cDC',\n",
    "    'M/X cells (MLN/GHRL+)': 'NA',\n",
    "    'MAIT cell': 'NA',\n",
    "    'MMP9+ Inflammatory macrophage': 'Macrophage',\n",
    "    'MPO+ mono-neutrophil': 'Neutrophil',\n",
    "    'Macrophages': 'Macrophage',\n",
    "    'Mast cell': 'Mast Cell',\n",
    "    'Mature arterial EC': 'Endothelial Cell',\n",
    "    'Mature venous EC': 'Endothelial Cell',\n",
    "    'Megakaryocyte': 'NA',\n",
    "    'Memory B': 'B Cell',\n",
    "    'Mesoderm 1 (HAND1+)': 'NA',\n",
    "    'Mesoderm 2 (ZEB2+)': 'NA',\n",
    "    'Mesothelium': 'NA',\n",
    "    'Mesothelium (RGS5+)': 'NA',\n",
    "    'Microfold cell': 'NA',\n",
    "    'Monocytes': 'Monocyte',\n",
    "    'N cells (NTS+)': 'NA',\n",
    "    'NK T cell': 'NA',\n",
    "    'NK cell': 'NA',\n",
    "    'Naive B': 'B Cell',\n",
    "    'Neuroblast': 'NA',\n",
    "    'Paneth': 'Paneth Cell',\n",
    "    'Pericyte': 'Pericyte',\n",
    "    'Pre-B': 'B Cell',\n",
    "    'Pro-B': 'B Cell',\n",
    "    'Progenitor (NEUROG3+)': 'Stem Cell',\n",
    "    'Proximal progenitor': 'Transit Amplifying Cell',\n",
    "    'RBC': 'NA',\n",
    "    'SELL+ CD4 T': 'CD4+ T Cell',\n",
    "    'SELL+ CD8 T': 'CD8+ T Cell',\n",
    "    'SMC (PART1/CAPN3+)': 'Smooth Muscle Cell',\n",
    "    'SMC (PLPP2+)': 'Smooth Muscle Cell',\n",
    "    'Stem cells': 'Stem Cell',\n",
    "    'Stromal 1 (ADAMDEC1+)': 'Stromal 1',\n",
    "    'Stromal 1 (CCL11+)': 'Stromal 1',\n",
    "    'Stromal 2 (CH25H+)': 'Stromal 2',\n",
    "    'Stromal 2 (NPY+)': 'Stromal 2',\n",
    "    'Stromal 3 (C7+)': 'Stromal 3',\n",
    "    'Stromal 3 (KCNN3+)': 'Stromal 3',\n",
    "    'T reticular': 'NA',\n",
    "    'TA': 'Transit Amplifying Cell',\n",
    "    'TRDV2/TRGV9 gdT': 'NA',\n",
    "    'TRGV2 gdT': 'NA',\n",
    "    'TRGV4 gdT': 'NA',\n",
    "    'TRGV5/7 gdT': 'NA',\n",
    "    'Th1': 'CD4+ T Cell',\n",
    "    'Th17': 'CD4+ T Cell',\n",
    "    'Transitional Stromal 3 (C3+)': 'Stromal 3',\n",
    "    'Treg': 'Treg',\n",
    "    'Tuft': 'Tuft Cell',\n",
    "    'angiogenic pericyte': 'Pericyte',\n",
    "    'arterial capillary': 'Endothelial Cell',\n",
    "    'cDC1': 'cDC',\n",
    "    'cDC2': 'cDC',\n",
    "    'cycling EC': 'Endothelial Cell',\n",
    "    'cycling ENCC/glia': 'Glial Cell',\n",
    "    'cycling neuroblast': 'NA',\n",
    "    'cycling stromal': 'NA',\n",
    "    'gdT': 'NA',\n",
    "    'mLN Stroma (FMO2+)': 'NA',\n",
    "    'mLTo': 'NA',\n",
    "    'myofibroblast': 'Myofibroblast',\n",
    "    'myofibroblast (RSPO2+)': 'Myofibroblast',\n",
    "    'pDC': 'NA',\n",
    "    'venous capillary': 'Endothelial Cell',\n",
    "}"
   ]
  },
  {
   "cell_type": "code",
   "execution_count": 282,
   "id": "83d351e0-c45b-4b38-9f72-7e6edfc90ae9",
   "metadata": {
    "execution": {
     "iopub.execute_input": "2025-02-03T01:05:59.482426Z",
     "iopub.status.busy": "2025-02-03T01:05:59.482137Z",
     "iopub.status.idle": "2025-02-03T01:06:01.672540Z",
     "shell.execute_reply": "2025-02-03T01:06:01.672116Z",
     "shell.execute_reply.started": "2025-02-03T01:05:59.482410Z"
    }
   },
   "outputs": [],
   "source": [
    "# Read in cell type markers from literature\n",
    "filepath = data_dir / dataset / 'supplementary/cell_type_markers.csv'\n",
    "markers = pd.read_csv(filepath)\n",
    "\n",
    "# Map to coarse labels\n",
    "ad_atl.obs['ct_simple'] = ad_atl.obs['author_cell_type'].map(cell_type_map)\n",
    "for l in [1, 2]:\n",
    "    counts = markers.groupby('group')[f'level_{l}'].value_counts()\n",
    "    ct_map = counts.unstack().idxmax(1)  # coarse labels\n",
    "    ad_atl.obs[f'cell_type_level_{l}'] = ad_atl.obs['ct_simple'].map(ct_map)"
   ]
  },
  {
   "cell_type": "code",
   "execution_count": 368,
   "id": "93014dbb-4916-4a2e-b7b1-78cbce59f243",
   "metadata": {
    "collapsed": true,
    "execution": {
     "iopub.execute_input": "2025-02-03T01:33:45.064036Z",
     "iopub.status.busy": "2025-02-03T01:33:45.063780Z",
     "iopub.status.idle": "2025-02-03T01:34:05.543687Z",
     "shell.execute_reply": "2025-02-03T01:34:05.543105Z",
     "shell.execute_reply.started": "2025-02-03T01:33:45.064019Z"
    },
    "jupyter": {
     "outputs_hidden": true
    }
   },
   "outputs": [
    {
     "name": "stderr",
     "output_type": "stream",
     "text": [
      "... storing 'ct_simple' as categorical\n",
      "... storing 'cell_type_level_1' as categorical\n",
      "... storing 'cell_type_level_2' as categorical\n"
     ]
    }
   ],
   "source": [
    "# Ignore performance warnings from calling insert\n",
    "from warnings import simplefilter\n",
    "simplefilter(action=\"ignore\", category=pd.errors.PerformanceWarning)\n",
    "\n",
    "# Run diffex analysis\n",
    "gb = 'cell_type_level_1'\n",
    "sample = ad_atl.obs.groupby(gb).sample(1000, replace=True).index\n",
    "sample = sample[~sample.duplicated()]\n",
    "ad_atl_sample = ad_atl[sample].copy()\n",
    "sc.pp.filter_genes(ad_atl_sample, min_counts=10)\n",
    "sc.tl.rank_genes_groups(ad_atl_sample, gb, use_raw=False, method='wilcoxon')\n",
    "\n",
    "# Summarize DEG results\n",
    "markers_summary = pd.DataFrame(\n",
    "    index=ad_atl_sample.obs[gb].unique(),\n",
    "    columns=['No. scRNAseq', 'No. Xenium', 'Fraction'],\n",
    ")\n",
    "for ct in df.index:\n",
    "    cutoffs = dict(pval_cutoff=1e-3, log2fc_min=3)\n",
    "    genes = sc.get.rank_genes_groups_df(ad_atl_sample, ct, **cutoffs)['names']\n",
    "    no_sc = len(genes)\n",
    "    no_xe = len(ad_seg.var.index.intersection(genes))\n",
    "    markers_summary.loc[ct] = no_sc, no_xe, no_xe / no_sc"
   ]
  },
  {
   "cell_type": "markdown",
   "id": "c85433a1-c3cf-4a79-9845-1ad6ab8397b3",
   "metadata": {},
   "source": [
    "### Figure 4G"
   ]
  },
  {
   "cell_type": "markdown",
   "id": "205199d6-86de-4f37-a6e2-e8c785a9942f",
   "metadata": {
    "jp-MarkdownHeadingCollapsed": true
   },
   "source": [
    "#### Prepare Data"
   ]
  },
  {
   "cell_type": "code",
   "execution_count": 562,
   "id": "4d4e86e1-8be7-4bb6-be6d-e484abbb84a5",
   "metadata": {
    "execution": {
     "iopub.execute_input": "2025-02-03T04:10:09.258912Z",
     "iopub.status.busy": "2025-02-03T04:10:09.258655Z",
     "iopub.status.idle": "2025-02-03T04:10:11.394978Z",
     "shell.execute_reply": "2025-02-03T04:10:11.394548Z",
     "shell.execute_reply.started": "2025-02-03T04:10:09.258895Z"
    }
   },
   "outputs": [],
   "source": [
    "# Prepare data\n",
    "df_1 = ad_seg.obs[['n_counts', 'cell_type_level_1']].copy()\n",
    "df_1['x'] = df_1['cell_type_level_1'] == 'Neutrophil'\n",
    "df_1['y'] = df_1['n_counts']\n",
    "\n",
    "df_2 = ad_seg.obs[['fraction_nuclear_tx', 'cell_type_level_1']].copy()\n",
    "df_2['x'] = df_2['cell_type_level_1'] == 'Neutrophil'\n",
    "df_2['y'] = df_2['fraction_nuclear_tx'] * 100\n",
    "\n",
    "df_3 = markers_summary\n",
    "df_3['x'] = df_3.index == 'Neutrophil'\n",
    "df_3['y'] = df_3['No. Xenium']\n",
    "\n",
    "df_4 = ad_seg.obs.groupby('cell_type_level_1')[['in_10x_nucleus']].mean()\n",
    "df_4['x'] = df_4.index == 'Neutrophil'\n",
    "df_4['y'] = df_4['in_10x_nucleus'] * 100\n",
    "\n",
    "for df in [df_1, df_2, df_3, df_4]:\n",
    "    df['x'] = df['x'].map({True: 'Neutrophil', False: 'Rest'})"
   ]
  },
  {
   "cell_type": "markdown",
   "id": "a1507001-ff1c-4ddc-b0b0-2cfe7061e494",
   "metadata": {},
   "source": [
    "#### Plots"
   ]
  },
  {
   "cell_type": "code",
   "execution_count": 576,
   "id": "be4582e2-2a72-4dad-8c80-eed79dd16ae0",
   "metadata": {
    "execution": {
     "iopub.execute_input": "2025-02-03T04:24:33.021296Z",
     "iopub.status.busy": "2025-02-03T04:24:33.020925Z",
     "iopub.status.idle": "2025-02-03T04:24:37.305688Z",
     "shell.execute_reply": "2025-02-03T04:24:37.305244Z",
     "shell.execute_reply.started": "2025-02-03T04:24:33.021279Z"
    }
   },
   "outputs": [],
   "source": [
    "fig, axes = plt.subplots(\n",
    "    2, 2,\n",
    "    figsize=(2.75, 2.75),\n",
    "    gridspec_kw=dict(hspace=0.33, wspace=0.75),\n",
    "    sharex=True,\n",
    ")\n",
    "\n",
    "# Shared plotting arguments\n",
    "shared_kwargs = dict(\n",
    "    order=['Neutrophil', 'Rest'], x='x', y='y',\n",
    "    palette=[named_colors['Cell Type']['Neutrophil'], 'lightgray'],\n",
    ")\n",
    "extra_ticks = []\n",
    "\n",
    "# Bar Plots\n",
    "barplt_kwargs = dict(capsize=0.2, width=0.6, errorbar='pi', errwidth=0.75)\n",
    "barplt_kwargs.update(shared_kwargs)\n",
    "for df, ax in zip([df_4, df_3], axes[:, 0]):\n",
    "    sns.barplot(df, ax=ax, **barplt_kwargs)\n",
    "    extra_ticks.append(df.loc['Neutrophil', 'y'])\n",
    "\n",
    "# Violin Plots\n",
    "violin_kwargs = dict(\n",
    "    common_norm=False, bw_adjust=2, cut=0, linewidth=0.75, saturation=1.0,\n",
    "    edgecolor=[1.]*3, density_norm='width', inner_kws=dict(color=[0.1]*3),\n",
    "    width=0.75,\n",
    ")\n",
    "violin_kwargs.update(shared_kwargs)\n",
    "for df, ax in zip([df_1, df_2], axes[:, 1]):\n",
    "    sns.violinplot(df, ax=ax, **violin_kwargs)\n",
    "    extra_ticks.append(df.loc[df['x'].eq('Neutrophil'), 'y'].mean())\n",
    "\n",
    "# Formatting\n",
    "yt = [\n",
    "    np.arange(0, 101, 50),\n",
    "    np.arange(0, 51, 25),\n",
    "    np.arange(25, 226, 100),\n",
    "    np.arange(0, 101, 50),\n",
    "]\n",
    "for ax, yticks, extra in zip(axes.T.flat, yt, extra_ticks):\n",
    "    ax.set_ylim(yticks[0], yticks[1])\n",
    "    ax.set_yticks(np.hstack([extra, yticks]))\n",
    "    ax.set_ylabel('')\n",
    "    ax.set_xlabel('')\n",
    "\n",
    "fig.savefig(media_dir / dataset / f'neutrophil_metrics.svg', dpi=300)\n",
    "plt.close()"
   ]
  },
  {
   "cell_type": "markdown",
   "id": "7beb3ed3-4f07-49e3-8fd2-ade273e1db49",
   "metadata": {},
   "source": [
    "## Tuft Cell Contamination"
   ]
  },
  {
   "cell_type": "code",
   "execution_count": 4,
   "id": "a2f32739-868f-43f9-a42f-ad6685384692",
   "metadata": {
    "execution": {
     "iopub.execute_input": "2025-02-03T06:01:38.651201Z",
     "iopub.status.busy": "2025-02-03T06:01:38.650970Z",
     "iopub.status.idle": "2025-02-03T06:01:40.212815Z",
     "shell.execute_reply": "2025-02-03T06:01:40.212375Z",
     "shell.execute_reply.started": "2025-02-03T06:01:38.651187Z"
    }
   },
   "outputs": [],
   "source": [
    "from pydeseq2.default_inference import DefaultInference\n",
    "from pydeseq2.dds import DeseqDataSet\n",
    "from pydeseq2.ds import DeseqStats"
   ]
  },
  {
   "cell_type": "code",
   "execution_count": 22,
   "id": "f7a2003b-5298-48cd-881f-515e8b9c7a38",
   "metadata": {
    "execution": {
     "iopub.execute_input": "2025-02-03T06:09:10.351605Z",
     "iopub.status.busy": "2025-02-03T06:09:10.351135Z",
     "iopub.status.idle": "2025-02-03T06:09:12.131162Z",
     "shell.execute_reply": "2025-02-03T06:09:12.130733Z",
     "shell.execute_reply.started": "2025-02-03T06:09:10.351589Z"
    }
   },
   "outputs": [],
   "source": [
    "mask = ad_seg.obs['cell_type_level_1'].eq('Tuft')\n",
    "idx = ad_seg.obs.loc[mask, '10x_id'].values\n",
    "ad_seg.layers['raw'] = ad_seg.raw.X.copy()\n",
    "\n",
    "n = 5\n",
    "ad_seg.obs['pseudosample'] = np.random.randint(0, n, ad_seg.obs.shape[0])\n",
    "counts_seg = sc.get.aggregate(ad_seg[mask], 'pseudosample', 'sum', layer='raw').to_df(layer='sum')\n",
    "metadata_seg = pd.DataFrame('Segger', counts_seg.index, columns=['condition'])"
   ]
  },
  {
   "cell_type": "code",
   "execution_count": 23,
   "id": "91cac0ad-f98f-4ee1-9f9f-de6f9dd3abc4",
   "metadata": {
    "execution": {
     "iopub.execute_input": "2025-02-03T06:09:12.132350Z",
     "iopub.status.busy": "2025-02-03T06:09:12.132010Z",
     "iopub.status.idle": "2025-02-03T06:09:13.909848Z",
     "shell.execute_reply": "2025-02-03T06:09:13.909415Z",
     "shell.execute_reply.started": "2025-02-03T06:09:12.132335Z"
    }
   },
   "outputs": [],
   "source": [
    "mask = ad_10x.obs['cell_type_level_1'].eq('Tuft')\n",
    "idx = ad_10x.obs.loc[mask, '10x_id'].values\n",
    "ad_10x.layers['raw'] = ad_10x.raw.X.copy()\n",
    "\n",
    "ad_10x.obs['pseudosample'] = np.random.randint(0, n, ad_10x.obs.shape[0])\n",
    "counts_10x = sc.get.aggregate(ad_10x[idx], 'pseudosample', 'sum', layer='raw').to_df(layer='sum')\n",
    "metadata_10x = pd.DataFrame('10X', counts_10x.index, columns=['condition'])"
   ]
  },
  {
   "cell_type": "code",
   "execution_count": 24,
   "id": "a8dc2ed7-745d-41f2-814e-e1d00c1faca4",
   "metadata": {
    "execution": {
     "iopub.execute_input": "2025-02-03T06:09:13.910776Z",
     "iopub.status.busy": "2025-02-03T06:09:13.910456Z",
     "iopub.status.idle": "2025-02-03T06:09:15.576898Z",
     "shell.execute_reply": "2025-02-03T06:09:15.576499Z",
     "shell.execute_reply.started": "2025-02-03T06:09:13.910762Z"
    }
   },
   "outputs": [],
   "source": [
    "counts = pd.concat([counts_seg, counts_10x]).astype(int)\n",
    "metadata = pd.concat([metadata_seg, metadata_10x])"
   ]
  },
  {
   "cell_type": "code",
   "execution_count": 25,
   "id": "1337f89f-eae9-4c61-a48b-b0bae9c8a18c",
   "metadata": {
    "execution": {
     "iopub.execute_input": "2025-02-03T06:09:15.578075Z",
     "iopub.status.busy": "2025-02-03T06:09:15.577805Z",
     "iopub.status.idle": "2025-02-03T06:09:39.291433Z",
     "shell.execute_reply": "2025-02-03T06:09:39.290946Z",
     "shell.execute_reply.started": "2025-02-03T06:09:15.578061Z"
    },
    "scrolled": true
   },
   "outputs": [
    {
     "name": "stderr",
     "output_type": "stream",
     "text": [
      "Running Wald tests...\n",
      "... done in 10.19 seconds.\n",
      "\n"
     ]
    }
   ],
   "source": [
    "# Run DeSeq2\n",
    "with HiddenPrints():\n",
    "    inference = DefaultInference(n_cpus=32)\n",
    "    dds = DeseqDataSet(\n",
    "        counts=counts,\n",
    "        metadata=metadata,\n",
    "        design_factors=\"condition\",\n",
    "        refit_cooks=True,\n",
    "        inference=inference,\n",
    "        quiet=True,\n",
    "    )\n",
    "    dds.deseq2()\n",
    "    stat_res = DeseqStats(dds)\n",
    "    stat_res.summary()\n",
    "    data = stat_res.results_df"
   ]
  },
  {
   "cell_type": "code",
   "execution_count": 28,
   "id": "c0949e10-7b75-4e49-ab37-f493fc2e4e0c",
   "metadata": {
    "execution": {
     "iopub.execute_input": "2025-02-03T06:11:11.308486Z",
     "iopub.status.busy": "2025-02-03T06:11:11.308143Z",
     "iopub.status.idle": "2025-02-03T06:11:13.893205Z",
     "shell.execute_reply": "2025-02-03T06:11:13.892750Z",
     "shell.execute_reply.started": "2025-02-03T06:11:11.308471Z"
    }
   },
   "outputs": [
    {
     "data": {
      "image/png": "[encoded data removed]",
      "text/plain": [
       "<Figure size 600x780 with 1 Axes>"
      ]
     },
     "metadata": {},
     "output_type": "display_data"
    }
   ],
   "source": [
    "# Save results to plot\n",
    "fig, ax = plt.subplots(1, 1, figsize=(2, 2.6))\n",
    "plot_volcano(data=data, logfc='log2FoldChange', pvals='padj', ax=ax, logfc_min=0.33, pvals_min=1e-4)\n",
    "ax.set_xlim(-1.5, 1.5)\n",
    "ax.tick_params(labelsize=7)\n",
    "fig.savefig(media_dir / dataset / 'tuft_de.svg')"
   ]
  },
  {
   "cell_type": "code",
   "execution_count": 34,
   "id": "7869c551-6bd7-4ad9-ac0a-73eb3940faa6",
   "metadata": {
    "execution": {
     "iopub.execute_input": "2025-02-03T06:28:54.388560Z",
     "iopub.status.busy": "2025-02-03T06:28:54.388153Z",
     "iopub.status.idle": "2025-02-03T06:28:56.182271Z",
     "shell.execute_reply": "2025-02-03T06:28:56.181879Z",
     "shell.execute_reply.started": "2025-02-03T06:28:54.388545Z"
    }
   },
   "outputs": [],
   "source": [
    "# Custom palette\n",
    "palette = named_colors['Cell Type'].copy()\n",
    "palette['Tuft'] = 'w'"
   ]
  },
  {
   "cell_type": "code",
   "execution_count": 37,
   "id": "030f4071-07b3-4f70-8099-c7015901a75d",
   "metadata": {
    "execution": {
     "iopub.execute_input": "2025-02-03T06:29:33.599520Z",
     "iopub.status.busy": "2025-02-03T06:29:33.599059Z",
     "iopub.status.idle": "2025-02-03T06:29:37.041805Z",
     "shell.execute_reply": "2025-02-03T06:29:37.041381Z",
     "shell.execute_reply.started": "2025-02-03T06:29:33.599503Z"
    }
   },
   "outputs": [],
   "source": [
    "# Spatial subset\n",
    "xmin = 7200\n",
    "xmax = 9200\n",
    "ymin = 2500\n",
    "ymax = 4500\n",
    "\n",
    "fig, ax = plt.subplots(1, 1, figsize=(3, 3))\n",
    "shared_kwargs = dict(\n",
    "    features='cell_type_level_1',\n",
    "    basis='X_spatial',\n",
    "    palette=palette,\n",
    "    rasterized=True,\n",
    "    legend_loc='',\n",
    "    ax=ax,\n",
    ")\n",
    "\n",
    "_ = plot_embedding(ad_10x, s=1, **shared_kwargs)\n",
    "mask = ad_10x.obs['cell_type_level_1'].eq('Tuft')\n",
    "_ = plot_embedding(ad_10x[mask], s=5, **shared_kwargs)\n",
    "\n",
    "# Formatting\n",
    "ax.set_xlim(xmin, xmax)\n",
    "ax.set_ylim(ymin, ymax)\n",
    "ax.set_facecolor('k')\n",
    "ax.set_title('')\n",
    "\n",
    "# Save\n",
    "fig.savefig(media_dir / dataset / f'10X_cell_type_space.svg', dpi=300)\n",
    "plt.close()"
   ]
  },
  {
   "cell_type": "code",
   "execution_count": 47,
   "id": "ad7953b2-1895-42ea-a524-636e847d6411",
   "metadata": {
    "execution": {
     "iopub.execute_input": "2025-02-03T06:35:47.891364Z",
     "iopub.status.busy": "2025-02-03T06:35:47.891026Z",
     "iopub.status.idle": "2025-02-03T06:35:49.662564Z",
     "shell.execute_reply": "2025-02-03T06:35:49.662139Z",
     "shell.execute_reply.started": "2025-02-03T06:35:47.891349Z"
    }
   },
   "outputs": [],
   "source": [
    "# Custom cmap\n",
    "from matplotlib.colors import LinearSegmentedColormap\n",
    "cmap = sns.color_palette('viridis', as_cmap=True)\n",
    "colors = [cmap(n) for n in np.linspace(0.05, 1.0, 255)]\n",
    "cmap = LinearSegmentedColormap.from_list('', colors, 255)"
   ]
  },
  {
   "cell_type": "code",
   "execution_count": 49,
   "id": "d7d69956-5f7b-4819-8dea-af92bc778ad8",
   "metadata": {
    "execution": {
     "iopub.execute_input": "2025-02-03T06:36:12.771667Z",
     "iopub.status.busy": "2025-02-03T06:36:12.771295Z",
     "iopub.status.idle": "2025-02-03T06:36:15.232849Z",
     "shell.execute_reply": "2025-02-03T06:36:15.232423Z",
     "shell.execute_reply.started": "2025-02-03T06:36:12.771650Z"
    }
   },
   "outputs": [],
   "source": [
    "shared_kwargs = dict(\n",
    "    basis='X_spatial',\n",
    "    layer='lognorm',\n",
    "    rasterized=True,\n",
    "    legend_loc='',\n",
    "    vmax='p99.9',\n",
    "    cbar=False,\n",
    "    cmap=cmap,\n",
    "    sort_order=False,\n",
    ")\n",
    "\n",
    "# Spatial subset\n",
    "xmin = 7200\n",
    "xmax = 9200\n",
    "ymin = 2500\n",
    "ymax = 4500\n",
    "\n",
    "for gene in ['IMPDH2']:\n",
    "    # Underlay\n",
    "    fig, ax = plt.subplots(1, 1, figsize=(3, 3))\n",
    "    _ = plot_embedding(ad_seg, features=gene, s=1, ax=ax, **shared_kwargs)\n",
    "    \n",
    "    # Formatting\n",
    "    ax.set_xlim(xmin, xmax)\n",
    "    ax.set_ylim(ymin, ymax)\n",
    "    ax.set_facecolor('k')\n",
    "    ax.set_title('')\n",
    "\n",
    "    # Save\n",
    "    fig.savefig(media_dir / dataset / f'{gene}_expression.svg', dpi=300)\n",
    "    plt.close()"
   ]
  }
 ],
 "metadata": {
  "kernelspec": {
   "display_name": "Python 3 (ipykernel)",
   "language": "python",
   "name": "python3"
  },
  "language_info": {
   "codemirror_mode": {
    "name": "ipython",
    "version": 3
   },
   "file_extension": ".py",
   "mimetype": "text/x-python",
   "name": "python",
   "nbconvert_exporter": "python",
   "pygments_lexer": "ipython3",
   "version": "3.11.9"
  }
 },
 "nbformat": 4,
 "nbformat_minor": 5
}
