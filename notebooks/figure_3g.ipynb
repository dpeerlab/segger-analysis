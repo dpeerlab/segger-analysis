{
 "cells": [
  {
   "cell_type": "markdown",
   "id": "a8e6fc05-42e9-44f6-9647-b1ff7a57dacd",
   "metadata": {},
   "source": [
    "# Figure 3g"
   ]
  },
  {
   "cell_type": "code",
   "execution_count": 1,
   "id": "29e65e1c-7052-471c-9002-7745b6bbfa71",
   "metadata": {
    "execution": {
     "iopub.execute_input": "2024-11-03T22:32:18.484203Z",
     "iopub.status.busy": "2024-11-03T22:32:18.483977Z",
     "iopub.status.idle": "2024-11-03T22:32:18.505111Z",
     "shell.execute_reply": "2024-11-03T22:32:18.504762Z",
     "shell.execute_reply.started": "2024-11-03T22:32:18.484188Z"
    }
   },
   "outputs": [],
   "source": [
    "%load_ext autoreload\n",
    "%autoreload 2"
   ]
  },
  {
   "cell_type": "code",
   "execution_count": 49,
   "id": "2effdc3a-5867-45ab-93d2-f3613077847c",
   "metadata": {
    "execution": {
     "iopub.execute_input": "2024-11-04T03:13:42.458407Z",
     "iopub.status.busy": "2024-11-04T03:13:42.458056Z",
     "iopub.status.idle": "2024-11-04T03:13:42.525538Z",
     "shell.execute_reply": "2024-11-04T03:13:42.525109Z",
     "shell.execute_reply.started": "2024-11-04T03:13:42.458391Z"
    }
   },
   "outputs": [],
   "source": [
    "from requirements import *\n",
    "from segger.data.parquet._utils import (\n",
    "    filter_transcripts,\n",
    "    load_settings,\n",
    ")\n",
    "from sg_utils.tl.xenium_utils import anndata_from_transcripts\n",
    "from sg_utils.pp.preprocess_rapids import preprocess_rapids\n",
    "from sg_utils.pl.plot_embedding import plot_embedding\n",
    "from sg_utils.pl.plot_volcano import plot_volcano\n",
    "import anndata"
   ]
  },
  {
   "cell_type": "markdown",
   "id": "dc2f3056-f943-42c5-a9fb-9cd06812db2c",
   "metadata": {
    "jp-MarkdownHeadingCollapsed": true
   },
   "source": [
    "## Transcripts to AnnData"
   ]
  },
  {
   "cell_type": "markdown",
   "id": "c45cda1f-60db-4e18-b10f-c3d26e983fd6",
   "metadata": {},
   "source": [
    "*Note*: Below, I filter using 'min_counts_per_cell' = 50. \n",
    "This is fairly aggressive for Xenium data, as it removes, for instance, many \n",
    "immune cells which have lower capture levels. However, for this analysis, my\n",
    "primary concern is capturing genuine epithelial cells, whose UMIs are high above\n",
    "this level, and a more aggressive filtering significantly cleans the data."
   ]
  },
  {
   "cell_type": "code",
   "execution_count": 5,
   "id": "d1e5131d-01a1-4ef9-95cb-8c245cf5ba57",
   "metadata": {
    "execution": {
     "iopub.execute_input": "2024-11-03T18:25:33.252162Z",
     "iopub.status.busy": "2024-11-03T18:25:33.251785Z",
     "iopub.status.idle": "2024-11-03T18:26:30.949009Z",
     "shell.execute_reply": "2024-11-03T18:26:30.948532Z",
     "shell.execute_reply.started": "2024-11-03T18:25:33.252142Z"
    }
   },
   "outputs": [],
   "source": [
    "# Read in all transcripts\n",
    "transcripts = pd.read_parquet(data_dir / 'labeled_transcripts.parquet')\n",
    "\n",
    "# Filter control probes and low QV probes\n",
    "xe_settings = load_settings('xenium')\n",
    "transcripts = filter_transcripts(\n",
    "    transcripts,\n",
    "    label=xe_settings.transcripts.label,\n",
    "    filter_substrings=xe_settings.transcripts.filter_substrings,\n",
    "    min_qv=30,\n",
    ")\n",
    "\n",
    "# Label epithelial transcripts\n",
    "is_epithelial = transcripts['cellpose_cell_type'].eq('Epithelial/Cancer')\n",
    "transcripts['is_epithelial'] = is_epithelial"
   ]
  },
  {
   "cell_type": "code",
   "execution_count": 44,
   "id": "e300493c-59be-455c-98ec-02d0c68705f4",
   "metadata": {
    "execution": {
     "iopub.execute_input": "2024-11-03T18:42:09.155298Z",
     "iopub.status.busy": "2024-11-03T18:42:09.154938Z",
     "iopub.status.idle": "2024-11-03T18:42:09.944505Z",
     "shell.execute_reply": "2024-11-03T18:42:09.944051Z",
     "shell.execute_reply.started": "2024-11-03T18:42:09.155280Z"
    }
   },
   "outputs": [],
   "source": [
    "# Segmentation columns to compare\n",
    "segmentation_columns = [\n",
    "    '10x_cell_id',\n",
    "    '10x_nucleus_id',\n",
    "    'baysor_cell_id_c=0.5',\n",
    "    'baysor_cell_id_c=0.9',\n",
    "    'segger_cell_id_3Q6EISGCD9',\n",
    "    'segger_cell_id_HDE46PBXJB',\n",
    "]"
   ]
  },
  {
   "cell_type": "code",
   "execution_count": 45,
   "id": "4ef9b6c9-3011-4287-a102-12cbb7cd0d5d",
   "metadata": {
    "execution": {
     "iopub.execute_input": "2024-11-03T18:42:13.254515Z",
     "iopub.status.busy": "2024-11-03T18:42:13.254145Z",
     "iopub.status.idle": "2024-11-03T18:45:21.817035Z",
     "shell.execute_reply": "2024-11-03T18:45:21.816466Z",
     "shell.execute_reply.started": "2024-11-03T18:42:13.254498Z"
    }
   },
   "outputs": [
    {
     "name": "stderr",
     "output_type": "stream",
     "text": [
      "Done: 100%|██████████| 6/6 [00:23<00:00,  3.85s/it]         \n",
      "Done: 100%|██████████| 6/6 [00:39<00:00,  6.65s/it]         \n",
      "Done: 100%|██████████| 6/6 [00:27<00:00,  4.61s/it]         \n"
     ]
    }
   ],
   "source": [
    "# Build and process AnnData for each\n",
    "for seg_col in segmentation_columns:\n",
    "\n",
    "    # Filter by cellpose epithelial labels and segger score\n",
    "    gb = transcripts.groupby(seg_col)\n",
    "    mask = gb['is_epithelial'].mean().gt(0.5)\n",
    "    mask = transcripts[seg_col].map(mask).fillna(False)\n",
    "    if 'segger' in seg_col:\n",
    "        mask &= transcripts[seg_col.replace('cell_id', 'score')].gt(0.33)\n",
    "\n",
    "    # Transcripts to anndata\n",
    "    ad = anndata_from_transcripts(\n",
    "        transcripts[mask],\n",
    "        cell_label=seg_col,\n",
    "        gene_label='feature_name',\n",
    "    )\n",
    "    \n",
    "    # Preprocess\n",
    "    preprocess_rapids(\n",
    "        ad,\n",
    "        filter_min_counts=50,\n",
    "        pca_total_var=0.75,\n",
    "        pca_layer='norm',\n",
    "        knn_neighbors=20,\n",
    "        phenograph_resolution=0.75,\n",
    "    )\n",
    "    \n",
    "    # Save to file\n",
    "    ad.write_h5ad(data_dir / f'h5ads/{seg_col}_epithelial.h5ad')"
   ]
  },
  {
   "cell_type": "markdown",
   "id": "dcaf2b73-b3b2-4a2b-8995-ff04f4cf9d7c",
   "metadata": {},
   "source": [
    "## Contamination in Segger vs. 10X cell segmentation"
   ]
  },
  {
   "cell_type": "code",
   "execution_count": 30,
   "id": "69b0e0bd-897d-4e2a-9ca6-5b3f61a627a3",
   "metadata": {
    "execution": {
     "iopub.execute_input": "2024-11-04T00:01:12.145232Z",
     "iopub.status.busy": "2024-11-04T00:01:12.144778Z",
     "iopub.status.idle": "2024-11-04T00:01:15.517210Z",
     "shell.execute_reply": "2024-11-04T00:01:15.516767Z",
     "shell.execute_reply.started": "2024-11-04T00:01:12.145215Z"
    }
   },
   "outputs": [],
   "source": [
    "ad_10x = sc.read_h5ad(data_dir / f'h5ads/10x_cell_id_epithelial.h5ad')\n",
    "ad_seg = sc.read_h5ad(data_dir / f'h5ads/segger_cell_id_HDE46PBXJB_epithelial.h5ad')"
   ]
  },
  {
   "cell_type": "code",
   "execution_count": 31,
   "id": "f64619db-e852-4516-a6bd-4dfc96176710",
   "metadata": {
    "execution": {
     "iopub.execute_input": "2024-11-04T00:01:15.518297Z",
     "iopub.status.busy": "2024-11-04T00:01:15.518087Z",
     "iopub.status.idle": "2024-11-04T00:01:17.819724Z",
     "shell.execute_reply": "2024-11-04T00:01:17.819172Z",
     "shell.execute_reply.started": "2024-11-04T00:01:15.518283Z"
    }
   },
   "outputs": [],
   "source": [
    "ad = anndata.concat(\n",
    "    [ad_seg, ad_10x],\n",
    "    label='segmentation',\n",
    "    keys=['Segger Embedding', '10X'],\n",
    "    index_unique='-',\n",
    ")"
   ]
  },
  {
   "cell_type": "code",
   "execution_count": 32,
   "id": "d03464f9-9939-43c9-9fe5-819449edec56",
   "metadata": {
    "execution": {
     "iopub.execute_input": "2024-11-04T00:01:17.820584Z",
     "iopub.status.busy": "2024-11-04T00:01:17.820399Z",
     "iopub.status.idle": "2024-11-04T00:02:51.394574Z",
     "shell.execute_reply": "2024-11-04T00:02:51.392996Z",
     "shell.execute_reply.started": "2024-11-04T00:01:17.820570Z"
    }
   },
   "outputs": [
    {
     "name": "stderr",
     "output_type": "stream",
     "text": [
      "Done: 100%|██████████| 6/6 [01:33<00:00, 15.58s/it]         \n"
     ]
    }
   ],
   "source": [
    "# Preprocess\n",
    "preprocess_rapids(\n",
    "    ad,\n",
    "    filter_min_counts=50,\n",
    "    pca_total_var=0.75,\n",
    "    pca_layer='norm',\n",
    "    knn_neighbors=20,\n",
    "    phenograph_resolution=0.75,\n",
    ")"
   ]
  },
  {
   "cell_type": "code",
   "execution_count": 33,
   "id": "e601cf35-2ace-489c-9c38-29f3e46565ec",
   "metadata": {
    "execution": {
     "iopub.execute_input": "2024-11-04T00:02:51.397194Z",
     "iopub.status.busy": "2024-11-04T00:02:51.396216Z",
     "iopub.status.idle": "2024-11-04T00:03:13.334164Z",
     "shell.execute_reply": "2024-11-04T00:03:13.333608Z",
     "shell.execute_reply.started": "2024-11-04T00:02:51.397179Z"
    }
   },
   "outputs": [],
   "source": [
    "# Differential expression between\n",
    "sc.tl.rank_genes_groups(\n",
    "    ad,\n",
    "    groupby='segmentation',\n",
    "    use_raw=False,\n",
    "    layer='lognorm',\n",
    "    method='wilcoxon'\n",
    ")"
   ]
  },
  {
   "cell_type": "code",
   "execution_count": 34,
   "id": "6498f515-6fbe-442f-b406-00b9cdb42148",
   "metadata": {
    "execution": {
     "iopub.execute_input": "2024-11-04T00:03:13.335155Z",
     "iopub.status.busy": "2024-11-04T00:03:13.334917Z",
     "iopub.status.idle": "2024-11-04T00:03:20.637982Z",
     "shell.execute_reply": "2024-11-04T00:03:20.637513Z",
     "shell.execute_reply.started": "2024-11-04T00:03:13.335140Z"
    }
   },
   "outputs": [],
   "source": [
    "# Read in CellPose AnnData\n",
    "ad_cp = sc.read_h5ad(data_dir / f'h5ads/cellpose_cell_id.h5ad')\n",
    "\n",
    "# Gene markers to highlight\n",
    "cell_types = [\n",
    "    'Smooth Muscle and Pericyte', \n",
    "    'Myeloid',\n",
    "    'Lymphoid',\n",
    "    'Endothelial',\n",
    "    'Fibroblast and Stromal',\n",
    "]\n",
    "highlight = dict()\n",
    "for c in cell_types:\n",
    "    genes = ad_cp.var.index[ad_cp.var[c + ' Marker']]\n",
    "    for g in genes:\n",
    "        highlight[g] = named_colors[c]"
   ]
  },
  {
   "cell_type": "code",
   "execution_count": 55,
   "id": "edfa7634-5aa5-4972-9ee5-f6331ac18273",
   "metadata": {
    "execution": {
     "iopub.execute_input": "2024-11-04T03:34:34.002591Z",
     "iopub.status.busy": "2024-11-04T03:34:34.002247Z",
     "iopub.status.idle": "2024-11-04T03:34:36.045544Z",
     "shell.execute_reply": "2024-11-04T03:34:36.045147Z",
     "shell.execute_reply.started": "2024-11-04T03:34:34.002574Z"
    }
   },
   "outputs": [
    {
     "data": {
      "image/png": "[encoded data removed]",
      "text/plain": [
       "<Figure size 450x450 with 1 Axes>"
      ]
     },
     "metadata": {},
     "output_type": "display_data"
    }
   ],
   "source": [
    "fig, ax = plt.subplots(1,1, figsize=(1.5, 1.5))\n",
    "\n",
    "plot_volcano(\n",
    "    ad.uns['rank_genes_groups'],\n",
    "    group='Segger Embedding',\n",
    "    pvals_lim=(1e-175, 1e-5),\n",
    "    logfc_lim=(-0.7, 0.3),\n",
    "    logfc_cutoff=0.02,\n",
    "    ax=ax,\n",
    "    palette=named_colors,\n",
    "    highlight=highlight,\n",
    ")\n",
    "\n",
    "fig.savefig(media_dir / 'figure_3g.svg')"
   ]
  },
  {
   "cell_type": "code",
   "execution_count": null,
   "id": "ec0cd1c1-0c5c-46f9-b4f4-9c2d71143b11",
   "metadata": {},
   "outputs": [],
   "source": []
  }
 ],
 "metadata": {
  "kernelspec": {
   "display_name": "Python 3 (ipykernel)",
   "language": "python",
   "name": "python3"
  },
  "language_info": {
   "codemirror_mode": {
    "name": "ipython",
    "version": 3
   },
   "file_extension": ".py",
   "mimetype": "text/x-python",
   "name": "python",
   "nbconvert_exporter": "python",
   "pygments_lexer": "ipython3",
   "version": "3.11.9"
  }
 },
 "nbformat": 4,
 "nbformat_minor": 5
}
